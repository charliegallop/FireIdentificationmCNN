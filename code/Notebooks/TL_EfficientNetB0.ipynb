{
 "cells": [
  {
   "cell_type": "markdown",
   "id": "577a39f9",
   "metadata": {},
   "source": [
    "# Transfer Learning using EfficientNetB0"
   ]
  },
  {
   "cell_type": "code",
   "execution_count": 2,
   "id": "2c7f5404",
   "metadata": {},
   "outputs": [
    {
     "name": "stderr",
     "output_type": "stream",
     "text": [
      "2022-04-12 16:02:11.422938: W tensorflow/stream_executor/platform/default/dso_loader.cc:64] Could not load dynamic library 'libcudart.so.11.0'; dlerror: libcudart.so.11.0: cannot open shared object file: No such file or directory\n",
      "2022-04-12 16:02:11.422956: I tensorflow/stream_executor/cuda/cudart_stub.cc:29] Ignore above cudart dlerror if you do not have a GPU set up on your machine.\n"
     ]
    }
   ],
   "source": [
    "import matplotlib.pyplot as plt\n",
    "import numpy as np\n",
    "import os\n",
    "import PIL\n",
    "import tensorflow as tf\n",
    "%matplotlib inline\n",
    "\n",
    "from tensorflow import keras\n",
    "from tensorflow.keras import layers\n",
    "from tensorflow.keras.models import Sequential\n",
    "\n",
    "import pathlib"
   ]
  },
  {
   "cell_type": "code",
   "execution_count": 3,
   "id": "c533c7cf",
   "metadata": {},
   "outputs": [],
   "source": [
    "data_dir =pathlib.Path('/home/charlie/Documents/Uni/Exeter - Data Science/MTHM602_Trends_in_data_science_and_AI/Project/data/Training and Validation')\n",
    "test_dir =pathlib.Path('/home/charlie/Documents/Uni/Exeter - Data Science/MTHM602_Trends_in_data_science_and_AI/Project/data/Testing')"
   ]
  },
  {
   "cell_type": "code",
   "execution_count": null,
   "id": "4f486566",
   "metadata": {},
   "outputs": [],
   "source": [
    "image_count = len(list(data_dir.glob('*/*.jpg')))\n",
    "print(image_count)"
   ]
  },
  {
   "cell_type": "code",
   "execution_count": null,
   "id": "d003e205",
   "metadata": {},
   "outputs": [],
   "source": [
    "fire = list(data_dir.glob('fire/*'))\n",
    "img = PIL.Image.open(str(fire[0]))\n",
    "display(img)"
   ]
  },
  {
   "cell_type": "markdown",
   "id": "337fab46",
   "metadata": {},
   "source": [
    "### Load data into a tf dataset"
   ]
  },
  {
   "cell_type": "markdown",
   "id": "47a9ef1c",
   "metadata": {},
   "source": [
    "Image input sizes: https://keras.io/examples/vision/image_classification_efficientnet_fine_tuning/"
   ]
  },
  {
   "cell_type": "code",
   "execution_count": 4,
   "id": "b8956881",
   "metadata": {},
   "outputs": [
    {
     "name": "stdout",
     "output_type": "stream",
     "text": [
      "Found 1520 files belonging to 2 classes.\n",
      "Using 1216 files for training.\n"
     ]
    },
    {
     "name": "stderr",
     "output_type": "stream",
     "text": [
      "2022-04-12 16:02:15.927048: I tensorflow/stream_executor/cuda/cuda_gpu_executor.cc:936] successful NUMA node read from SysFS had negative value (-1), but there must be at least one NUMA node, so returning NUMA node zero\n",
      "2022-04-12 16:02:15.927320: W tensorflow/stream_executor/platform/default/dso_loader.cc:64] Could not load dynamic library 'libcudart.so.11.0'; dlerror: libcudart.so.11.0: cannot open shared object file: No such file or directory\n",
      "2022-04-12 16:02:15.927365: W tensorflow/stream_executor/platform/default/dso_loader.cc:64] Could not load dynamic library 'libcublas.so.11'; dlerror: libcublas.so.11: cannot open shared object file: No such file or directory\n",
      "2022-04-12 16:02:15.927403: W tensorflow/stream_executor/platform/default/dso_loader.cc:64] Could not load dynamic library 'libcublasLt.so.11'; dlerror: libcublasLt.so.11: cannot open shared object file: No such file or directory\n",
      "2022-04-12 16:02:15.927439: W tensorflow/stream_executor/platform/default/dso_loader.cc:64] Could not load dynamic library 'libcufft.so.10'; dlerror: libcufft.so.10: cannot open shared object file: No such file or directory\n",
      "2022-04-12 16:02:15.927476: W tensorflow/stream_executor/platform/default/dso_loader.cc:64] Could not load dynamic library 'libcurand.so.10'; dlerror: libcurand.so.10: cannot open shared object file: No such file or directory\n",
      "2022-04-12 16:02:15.927512: W tensorflow/stream_executor/platform/default/dso_loader.cc:64] Could not load dynamic library 'libcusolver.so.11'; dlerror: libcusolver.so.11: cannot open shared object file: No such file or directory\n",
      "2022-04-12 16:02:15.927548: W tensorflow/stream_executor/platform/default/dso_loader.cc:64] Could not load dynamic library 'libcusparse.so.11'; dlerror: libcusparse.so.11: cannot open shared object file: No such file or directory\n",
      "2022-04-12 16:02:15.927585: W tensorflow/stream_executor/platform/default/dso_loader.cc:64] Could not load dynamic library 'libcudnn.so.8'; dlerror: libcudnn.so.8: cannot open shared object file: No such file or directory\n",
      "2022-04-12 16:02:15.927593: W tensorflow/core/common_runtime/gpu/gpu_device.cc:1850] Cannot dlopen some GPU libraries. Please make sure the missing libraries mentioned above are installed properly if you would like to use GPU. Follow the guide at https://www.tensorflow.org/install/gpu for how to download and setup the required libraries for your platform.\n",
      "Skipping registering GPU devices...\n",
      "2022-04-12 16:02:15.928114: I tensorflow/core/platform/cpu_feature_guard.cc:151] This TensorFlow binary is optimized with oneAPI Deep Neural Network Library (oneDNN) to use the following CPU instructions in performance-critical operations:  AVX2 FMA\n",
      "To enable them in other operations, rebuild TensorFlow with the appropriate compiler flags.\n"
     ]
    }
   ],
   "source": [
    "batch_size = 32\n",
    "img_height = 224\n",
    "img_width = 224\n",
    "\n",
    "# Validation split 80/20\n",
    "\n",
    "train_ds = tf.keras.preprocessing.image_dataset_from_directory(\n",
    "    data_dir,\n",
    "    validation_split = 0.2,\n",
    "    subset = \"training\",\n",
    "    shuffle = True,\n",
    "    seed = 123,\n",
    "    image_size = (img_height, img_width),\n",
    "    batch_size = batch_size\n",
    "    )"
   ]
  },
  {
   "cell_type": "code",
   "execution_count": null,
   "id": "9bf95709",
   "metadata": {},
   "outputs": [],
   "source": [
    "val_ds = tf.keras.preprocessing.image_dataset_from_directory(\n",
    "    data_dir,\n",
    "    validation_split = 0.2,\n",
    "    subset = \"validation\",\n",
    "    shuffle = True,\n",
    "    seed = 123,\n",
    "    image_size = (img_height, img_width),\n",
    "    batch_size = batch_size    \n",
    "    )\n"
   ]
  },
  {
   "cell_type": "code",
   "execution_count": null,
   "id": "56eeac62",
   "metadata": {},
   "outputs": [],
   "source": [
    "test_ds = tf.keras.preprocessing.image_dataset_from_directory(\n",
    "    test_dir,\n",
    "    shuffle = True,\n",
    "    seed = 123,\n",
    "    image_size = (img_height, img_width),\n",
    "    batch_size = batch_size\n",
    "    )"
   ]
  },
  {
   "cell_type": "markdown",
   "id": "203a9337",
   "metadata": {},
   "source": [
    "### Get Class Names"
   ]
  },
  {
   "cell_type": "code",
   "execution_count": null,
   "id": "05eb59b0",
   "metadata": {},
   "outputs": [],
   "source": [
    "class_names = train_ds.class_names\n",
    "print(class_names)"
   ]
  },
  {
   "cell_type": "markdown",
   "id": "2982e2fd",
   "metadata": {},
   "source": [
    "### Visualise Data"
   ]
  },
  {
   "cell_type": "code",
   "execution_count": null,
   "id": "8406f3e5",
   "metadata": {},
   "outputs": [],
   "source": [
    "plt.figure(figsize = (10, 10))\n",
    "for images, labels in train_ds.take(1):\n",
    "    for i in range(9):\n",
    "        ax = plt.subplot(3, 3, i + 1)\n",
    "        plt.imshow(images[i].numpy().astype(\"uint8\"))\n",
    "        plt.title(class_names[labels[i]])\n",
    "        plt.axis(\"off\")"
   ]
  },
  {
   "cell_type": "markdown",
   "id": "c89d6dac",
   "metadata": {},
   "source": [
    "### Configure the dataset for performance"
   ]
  },
  {
   "cell_type": "code",
   "execution_count": null,
   "id": "73585ed1",
   "metadata": {},
   "outputs": [],
   "source": [
    "AUTOTUNE = tf.data.AUTOTUNE\n",
    "\n",
    "train_ds = train_ds.prefetch(buffer_size = AUTOTUNE)\n",
    "val_ds = val_ds.prefetch(buffer_size = AUTOTUNE)\n",
    "test_ds = test_ds.prefetch(buffer_size = AUTOTUNE)"
   ]
  },
  {
   "cell_type": "markdown",
   "id": "6eacd4ec",
   "metadata": {},
   "source": [
    "### Create the base model from pre-trained convnets"
   ]
  },
  {
   "cell_type": "code",
   "execution_count": null,
   "id": "3848b9bb",
   "metadata": {},
   "outputs": [],
   "source": [
    "## By specifying \"include_top=False\" argument you load a network that doesn't \n",
    "## include the classification layers at the top, which is ideal for feature extraction\n",
    "\n",
    "IMG_SHAPE = (img_width, img_height) + (3,)\n",
    "\n",
    "base_model = tf.keras.applications.EfficientNetB0(\n",
    "    include_top=False,\n",
    "    weights=\"imagenet\",\n",
    "    input_shape=IMG_SHAPE,\n",
    "    classifier_activation=\"softmax\",\n",
    ")\n",
    "\n",
    "\n",
    "image_batch, label_batch = next(iter(train_ds))\n",
    "feature_batch = base_model(image_batch)\n",
    "print(feature_batch.shape)\n"
   ]
  },
  {
   "cell_type": "markdown",
   "id": "d556cb85",
   "metadata": {},
   "source": [
    "## Feature Extraction"
   ]
  },
  {
   "cell_type": "code",
   "execution_count": null,
   "id": "c9565031",
   "metadata": {},
   "outputs": [],
   "source": [
    "base_model.trainable = False\n",
    "base_model.summary()"
   ]
  },
  {
   "cell_type": "markdown",
   "id": "c4a588b0",
   "metadata": {},
   "source": [
    "## Add classification head"
   ]
  },
  {
   "cell_type": "code",
   "execution_count": null,
   "id": "646d6dac",
   "metadata": {},
   "outputs": [],
   "source": [
    "global_average_layer = tf.keras.layers.GlobalAveragePooling2D()\n",
    "feature_batch_average = global_average_layer(feature_batch)\n",
    "print(feature_batch_average.shape)"
   ]
  },
  {
   "cell_type": "code",
   "execution_count": null,
   "id": "731a52e1",
   "metadata": {},
   "outputs": [],
   "source": [
    "prediction_layer = tf.keras.layers.Dense(1, activation = 'sigmoid')\n",
    "prediction_batch = prediction_layer(feature_batch_average)\n",
    "print(prediction_batch.shape)\n"
   ]
  },
  {
   "cell_type": "markdown",
   "id": "64c14432",
   "metadata": {},
   "source": [
    "### Chain together the model"
   ]
  },
  {
   "cell_type": "code",
   "execution_count": null,
   "id": "434043f0",
   "metadata": {},
   "outputs": [],
   "source": [
    "inputs = tf.keras.Input(shape = (IMG_SHAPE))\n",
    "x = base_model(inputs, training = False)\n",
    "x = global_average_layer(x)\n",
    "x = tf.keras.layers.Dropout(0.2)(x)\n",
    "outputs = prediction_layer(x)\n",
    "model = tf.keras.Model(inputs, outputs)"
   ]
  },
  {
   "cell_type": "markdown",
   "id": "f38854ac",
   "metadata": {},
   "source": [
    "### Compile the model"
   ]
  },
  {
   "cell_type": "code",
   "execution_count": null,
   "id": "2bf891c5",
   "metadata": {},
   "outputs": [],
   "source": [
    "# Useful metrics paper:\n",
    "# https://www.tensorflow.org/tutorials/structured_data/imbalanced_data\n",
    "\n",
    "base_learning_rate = 0.0001\n",
    "model.compile(optimizer = tf.keras.optimizers.Adam(learning_rate = base_learning_rate),\n",
    "              loss = tf.keras.losses.BinaryCrossentropy(from_logits=(True)),\n",
    "              metrics = [tf.keras.metrics.Precision(name = \"precision\"), tf.keras.metrics.Recall(name = \"recall\"),tf.keras.metrics.AUC(name = \"auc\")] )"
   ]
  },
  {
   "cell_type": "code",
   "execution_count": null,
   "id": "c0ecfa6e",
   "metadata": {},
   "outputs": [],
   "source": [
    "\n",
    "model.summary()"
   ]
  },
  {
   "cell_type": "markdown",
   "id": "3e69fcf2",
   "metadata": {},
   "source": [
    "## Train the model"
   ]
  },
  {
   "cell_type": "code",
   "execution_count": null,
   "id": "75cb8078",
   "metadata": {},
   "outputs": [],
   "source": [
    "# Tests the initial base model\n",
    "initial_epochs = 10\n",
    "loss0, precision0, recall0, auc0 = model.evaluate(val_ds)"
   ]
  },
  {
   "cell_type": "code",
   "execution_count": null,
   "id": "23442254",
   "metadata": {},
   "outputs": [],
   "source": [
    "print(\"initial loss: {:.2f}\".format(loss0))\n",
    "print(\"initial precision: {:.2f}\".format(precision0))\n",
    "print(\"initial recall: {:.2f}\".format(recall0))\n",
    "print(\"initial auc: {:.2f}\".format(auc0))"
   ]
  },
  {
   "cell_type": "code",
   "execution_count": null,
   "id": "9ddd5b74",
   "metadata": {},
   "outputs": [],
   "source": [
    "history = model.fit(train_ds,\n",
    "                    epochs = initial_epochs,\n",
    "                    validation_data = val_ds)"
   ]
  },
  {
   "cell_type": "markdown",
   "id": "99cf5555",
   "metadata": {},
   "source": [
    "### Learning Curves"
   ]
  },
  {
   "cell_type": "code",
   "execution_count": null,
   "id": "99220703",
   "metadata": {},
   "outputs": [],
   "source": [
    "recall = history.history['recall']\n",
    "val_recall = history.history['val_recall']\n",
    "\n",
    "loss = history.history['loss']\n",
    "val_loss = history.history['val_loss']\n",
    "\n",
    "auc = history.history['auc']\n",
    "val_auc = history.history['val_auc']\n",
    "\n",
    "precision = history.history['precision']\n",
    "val_pre = history.history['val_precision']\n",
    "\n",
    "plt.figure(figsize = (16, 16))\n",
    "plt.subplot(4, 2, 1)\n",
    "plt.plot(recall, label = 'Training Recall')\n",
    "plt.plot(val_recall, label='Validation Recall')\n",
    "plt.legend(loc='lower right')\n",
    "plt.ylabel('Accuracy')\n",
    "plt.ylim([min(plt.ylim()),1])\n",
    "plt.title('Training and Validation Accuracy')\n",
    "test_ds = tf.keras.preprocessing.image_dataset_from_directory(\n",
    "    test_dir,\n",
    "    shuffle = True,\n",
    "    seed = 123,\n",
    "    image_size = (img_height, img_width),\n",
    "    batch_size = batch_size\n",
    "    )\n",
    "\n",
    "plt.subplot(4, 2, 2)\n",
    "plt.plot(loss, label='Training Loss')\n",
    "plt.plot(val_loss, label='Validation Loss')\n",
    "plt.legend(loc='upper right')\n",
    "plt.ylabel('Cross Entropy')\n",
    "plt.ylim([0,1.0])\n",
    "plt.title('Training and Validation Loss')\n",
    "plt.xlabel('epoch')\n",
    "\n",
    "plt.subplot(4, 2, 3)\n",
    "plt.plot(auc, label = 'Training AUC')\n",
    "plt.plot(val_auc, label='Validation AUC')\n",
    "plt.legend(loc='upper right')\n",
    "plt.ylabel('AUC')\n",
    "plt.ylim([0,1.0])\n",
    "plt.title('Training and Validation AUC')\n",
    "plt.xlabel('epoch')\n",
    "\n",
    "plt.subplot(4, 2, 4)\n",
    "plt.plot(precision, label = 'Training Precision')\n",
    "plt.plot(val_pre, label='Validation Precision')\n",
    "plt.legend(loc='upper right')\n",
    "plt.ylabel('Precision')\n",
    "plt.ylim([0,1.0])\n",
    "plt.title('Training and Validation Precision')\n",
    "plt.xlabel('epoch')\n",
    "plt.show()\n",
    "\n",
    "\n"
   ]
  },
  {
   "cell_type": "markdown",
   "id": "67f6d61b",
   "metadata": {},
   "source": [
    "## Fine Tuning"
   ]
  },
  {
   "cell_type": "code",
   "execution_count": null,
   "id": "fc675c0b",
   "metadata": {},
   "outputs": [],
   "source": [
    "# Previously the base model weights were not updated and only a few layers on top of the EfficientNetV2 was trained\n",
    "# Unfreeze and train the top layers of the pre-trained model to fine tune to the dataset\n",
    "\n",
    "## Un-freeze top layers of the model\n",
    "\n",
    "base_model.trainable = True"
   ]
  },
  {
   "cell_type": "code",
   "execution_count": null,
   "id": "1e039116",
   "metadata": {},
   "outputs": [],
   "source": [
    "# Let's take a look to see how many layers are in the base model\n",
    "print(\"Number of layers in the base model: \", len(base_model.layers))"
   ]
  },
  {
   "cell_type": "code",
   "execution_count": null,
   "id": "d30f4bea",
   "metadata": {},
   "outputs": [],
   "source": [
    "# Fine-tune from this layer onwards\n",
    "fine_tune_at = 100\n",
    "\n",
    "# Freeze all the layers before the `fine_tune_at` layer\n",
    "for layer in base_model.layers[:fine_tune_at]:\n",
    "  layer.trainable = False"
   ]
  },
  {
   "cell_type": "markdown",
   "id": "5b78e384",
   "metadata": {},
   "source": [
    "### Compile the Model"
   ]
  },
  {
   "cell_type": "code",
   "execution_count": null,
   "id": "1b60eb68",
   "metadata": {},
   "outputs": [],
   "source": [
    "## Important to use a lower training weight since using more layers, otherwise\n",
    "# it could overfit very quickly \n",
    "\n",
    "model.compile(loss = tf.keras.losses.BinaryCrossentropy(from_logits = True),\n",
    "              optimizer = tf.keras.optimizers.RMSprop(learning_rate = base_learning_rate/10),\n",
    "              metrics = [tf.keras.metrics.Precision(name = \"precision\"), tf.keras.metrics.Recall(name = \"recall\"),tf.keras.metrics.AUC(name = \"auc\")])\n",
    "\n",
    "model.summary()"
   ]
  },
  {
   "cell_type": "code",
   "execution_count": null,
   "id": "a1d543d1",
   "metadata": {},
   "outputs": [],
   "source": [
    "print(len(model.trainable_variables))\n"
   ]
  },
  {
   "cell_type": "markdown",
   "id": "238b6d3b",
   "metadata": {},
   "source": [
    "### Continue Training the Model"
   ]
  },
  {
   "cell_type": "code",
   "execution_count": null,
   "id": "40db2745",
   "metadata": {},
   "outputs": [],
   "source": [
    "fine_tune_epochs = 10\n",
    "total_epochs = initial_epochs + fine_tune_epochs\n",
    "\n",
    "history_fine = model.fit(train_ds,\n",
    "                         epochs = total_epochs,\n",
    "                         initial_epoch = history.epoch[-1],\n",
    "                         validation_data = val_ds)\n"
   ]
  },
  {
   "cell_type": "markdown",
   "id": "6e306396",
   "metadata": {},
   "source": [
    "### Learning Curves"
   ]
  },
  {
   "cell_type": "code",
   "execution_count": null,
   "id": "2cf88e67",
   "metadata": {},
   "outputs": [],
   "source": [
    "recall += history_fine.history['recall']\n",
    "val_recall += history_fine.history['val_recall']\n",
    "\n",
    "loss += history_fine.history['loss']\n",
    "val_loss += history_fine.history['val_loss']\n",
    "\n",
    "auc += history_fine.history['auc']\n",
    "val_auc += history_fine.history['val_auc']\n",
    "\n",
    "precision += history_fine.history['precision']\n",
    "val_pre += history_fine.history['val_precision']\n",
    "\n",
    "plt.figure(figsize = (16, 16))\n",
    "plt.subplot(4, 2, 1)\n",
    "plt.plot(recall, label = 'Training Recall')\n",
    "plt.plot(val_recall, label='Validation Recall')\n",
    "plt.legend(loc='lower right')\n",
    "plt.ylabel('Accuracy')\n",
    "plt.ylim([min(plt.ylim()),1])\n",
    "plt.plot([initial_epochs-1,initial_epochs-1],\n",
    "         plt.ylim(), label='Start Fine Tuning')\n",
    "plt.title('Training and Validation Recall')\n",
    "\n",
    "plt.subplot(4, 2, 2)\n",
    "plt.plot(loss, label='Training Loss')\n",
    "plt.plot(val_loss, label='Validation Loss')\n",
    "plt.legend(loc='upper right')\n",
    "plt.ylabel('Cross Entropy')\n",
    "plt.ylim([0,1.0])\n",
    "plt.plot([initial_epochs-1,initial_epochs-1],\n",
    "         plt.ylim(), label='Start Fine Tuning')\n",
    "plt.title('Training and Validation Loss')\n",
    "plt.xlabel('epoch')\n",
    "\n",
    "plt.subplot(4, 2, 3)\n",
    "plt.plot(auc, label = 'Training AUC')\n",
    "plt.plot(val_auc, label='Validation AUC')\n",
    "plt.legend(loc='upper right')\n",
    "plt.ylabel('AUC')\n",
    "plt.ylim([0.7,1.0])\n",
    "plt.plot([initial_epochs-1,initial_epochs-1],\n",
    "         plt.ylim(), label='Start Fine Tuning')\n",
    "plt.title('Training and Validation AUC')\n",
    "plt.xlabel('epoch')\n",
    "\n",
    "plt.subplot(4, 2, 4)\n",
    "plt.plot(precision, label = 'Training Precision')\n",
    "plt.plot(val_pre, label='Validation Precision')\n",
    "plt.legend(loc='upper right')\n",
    "plt.ylabel('Precision')\n",
    "plt.ylim([0.7,1.0])\n",
    "plt.plot([initial_epochs-1,initial_epochs-1],\n",
    "         plt.ylim(), label='Start Fine Tuning')\n",
    "plt.title('Training and Validation Precision')\n",
    "plt.xlabel('epoch')\n",
    "plt.show()\n",
    "\n",
    "\n"
   ]
  },
  {
   "cell_type": "code",
   "execution_count": null,
   "id": "5e96f150",
   "metadata": {},
   "outputs": [],
   "source": [
    "test_ds = tf.keras.preprocessing.image_dataset_from_directory(\n",
    "    test_dir,\n",
    "    shuffle = True,\n",
    "    seed = 123,\n",
    "    image_size = (img_height, img_width),\n",
    "    batch_size = batch_size\n",
    "    )\n",
    "\n",
    "\n",
    "test_ds = test_ds.prefetch(buffer_size = AUTOTUNE)"
   ]
  },
  {
   "cell_type": "markdown",
   "id": "060cebc0",
   "metadata": {},
   "source": [
    "## Testing on test set"
   ]
  },
  {
   "cell_type": "code",
   "execution_count": null,
   "id": "396da123",
   "metadata": {},
   "outputs": [],
   "source": [
    "loss, precision, recall, auc = model.evaluate(test_ds)\n",
    "print('Test loss :', loss)\n",
    "print('Test precision :', precision)\n",
    "print('Test recall :', recall)\n",
    "print('Test auc :', auc)"
   ]
  },
  {
   "cell_type": "code",
   "execution_count": 73,
   "id": "d74a4318",
   "metadata": {},
   "outputs": [
    {
     "ename": "NameError",
     "evalue": "name 'model' is not defined",
     "output_type": "error",
     "traceback": [
      "\u001b[0;31m---------------------------------------------------------------------------\u001b[0m",
      "\u001b[0;31mNameError\u001b[0m                                 Traceback (most recent call last)",
      "\u001b[0;32m/tmp/ipykernel_25236/114598606.py\u001b[0m in \u001b[0;36m<module>\u001b[0;34m\u001b[0m\n\u001b[1;32m      1\u001b[0m \u001b[0;31m# Retrieve a batch of images from the test set\u001b[0m\u001b[0;34m\u001b[0m\u001b[0;34m\u001b[0m\u001b[0m\n\u001b[1;32m      2\u001b[0m \u001b[0mimage_batch\u001b[0m\u001b[0;34m,\u001b[0m \u001b[0mlabel_batch\u001b[0m \u001b[0;34m=\u001b[0m \u001b[0mtest_ds\u001b[0m\u001b[0;34m.\u001b[0m\u001b[0mas_numpy_iterator\u001b[0m\u001b[0;34m(\u001b[0m\u001b[0;34m)\u001b[0m\u001b[0;34m.\u001b[0m\u001b[0mnext\u001b[0m\u001b[0;34m(\u001b[0m\u001b[0;34m)\u001b[0m\u001b[0;34m\u001b[0m\u001b[0;34m\u001b[0m\u001b[0m\n\u001b[0;32m----> 3\u001b[0;31m \u001b[0mpredictions\u001b[0m \u001b[0;34m=\u001b[0m \u001b[0mmodel\u001b[0m\u001b[0;34m.\u001b[0m\u001b[0mpredict_on_batch\u001b[0m\u001b[0;34m(\u001b[0m\u001b[0mimage_batch\u001b[0m\u001b[0;34m)\u001b[0m\u001b[0;34m.\u001b[0m\u001b[0mflatten\u001b[0m\u001b[0;34m(\u001b[0m\u001b[0;34m)\u001b[0m\u001b[0;34m\u001b[0m\u001b[0;34m\u001b[0m\u001b[0m\n\u001b[0m",
      "\u001b[0;31mNameError\u001b[0m: name 'model' is not defined"
     ]
    }
   ],
   "source": [
    "# Retrieve a batch of images from the test set\n",
    "image_batch, label_batch = test_ds.as_numpy_iterator().next()\n",
    "predictions = model.predict_on_batch(image_batch).flatten()\n"
   ]
  },
  {
   "cell_type": "code",
   "execution_count": null,
   "id": "955702b8",
   "metadata": {},
   "outputs": [],
   "source": [
    "print(np.round(predictions, 3))"
   ]
  },
  {
   "cell_type": "code",
   "execution_count": null,
   "id": "41597eda",
   "metadata": {},
   "outputs": [],
   "source": [
    "predictions = tf.where(predictions < 0.5, 0, 1)\n",
    "print(predictions)"
   ]
  },
  {
   "cell_type": "code",
   "execution_count": null,
   "id": "60fc5570",
   "metadata": {},
   "outputs": [],
   "source": [
    "# Retrieve a batch of images from the test set\n",
    "image_batch, label_batch = test_ds.as_numpy_iterator().next()\n",
    "predictions = model.predict_on_batch(image_batch).flatten()\n",
    "\n",
    "# pred = model.predict(test_ds)\n",
    "# pred = np.argmax(pred, axis = 1)[:5]\n",
    "# label = \n",
    "\n",
    "# Apply a sigmoid since our model returns logits\n",
    "#predictions = tf.nn.sigmoid(predictions)\n",
    "predictions = tf.where(predictions < 0.5, 0, 1)\n",
    "\n",
    "print('Predictions:\\n', predictions.numpy())\n",
    "print('Labels:\\n', label_batch)\n",
    "\n",
    "plt.figure(figsize=(10, 10))\n",
    "for i in range(9):\n",
    "  ax = plt.subplot(3, 3, i + 1)\n",
    "  plt.imshow(image_batch[i].astype(\"uint8\"))\n",
    "  plt.title(class_names[predictions[i]])\n",
    "  plt.axis(\"off\")"
   ]
  },
  {
   "cell_type": "markdown",
   "id": "eaa5fa78",
   "metadata": {},
   "source": [
    "## Save model"
   ]
  },
  {
   "cell_type": "code",
   "execution_count": null,
   "id": "8011e171",
   "metadata": {},
   "outputs": [],
   "source": [
    "model.save('model00_EfficientNetB0.h5')"
   ]
  },
  {
   "cell_type": "markdown",
   "id": "469bd300",
   "metadata": {},
   "source": [
    "# LOOK AT EXTRACTING THE MISSCLASSIFIED IMAGES AND TALK ABOUT WHY THEY HAVE BEEN MISSCLASSIFIED (SIMILAR FEATURES, LOOKS LIKE A SUNSET ETC)"
   ]
  },
  {
   "cell_type": "markdown",
   "id": "2996cca1",
   "metadata": {},
   "source": [
    "### Confusion Matrix\n"
   ]
  },
  {
   "cell_type": "code",
   "execution_count": 174,
   "id": "a3a06007",
   "metadata": {},
   "outputs": [
    {
     "name": "stdout",
     "output_type": "stream",
     "text": [
      "Found 381 files belonging to 2 classes.\n"
     ]
    },
    {
     "data": {
      "image/png": "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\n",
      "text/plain": [
       "<Figure size 576x576 with 2 Axes>"
      ]
     },
     "metadata": {
      "needs_background": "light"
     },
     "output_type": "display_data"
    }
   ],
   "source": [
    "import tensorflow as tf\n",
    "import pathlib\n",
    "import numpy as np\n",
<<<<<<< HEAD
    "import functions\n",
    "\n",
=======
>>>>>>> 28f2b404cfbf3010b5fa1206a34e87f728822052
    "data_dir = pathlib.Path('/home/charlie/Documents/Uni/Exeter - Data Science/MTHM602_Trends_in_data_science_and_AI/Project/data/Training and Validation')\n",
    "test_dir = pathlib.Path('/home/charlie/Documents/Uni/Exeter - Data Science/MTHM602_Trends_in_data_science_and_AI/Project/data/Testing')\n",
    "\n",
    "loaded_model = tf.keras.models.load_model('models/model00_EfficientNetB0.h5')\n",
    "img_height, img_width, batch_size = [224, 224, 32]\n",
    "\n",
    "test_ds = tf.keras.preprocessing.image_dataset_from_directory(\n",
    "    test_dir,\n",
    "    shuffle = True,\n",
    "    seed = 89787,\n",
    "    image_size = (img_height, img_width),\n",
    "    batch_size = batch_size,\n",
    "    labels = 'inferred',\n",
    "    label_mode = 'binary'\n",
    "    )\n",
    "\n",
    "functions.ConfusionMatrix(loaded_model, test_ds)\n",
    "\n"
   ]
  },
  {
   "cell_type": "markdown",
   "id": "b1a63ab7",
   "metadata": {},
   "source": [
    "## Testing on custom images"
   ]
  },
  {
   "cell_type": "code",
   "execution_count": 1,
   "id": "73655c6e",
   "metadata": {},
   "outputs": [
    {
     "name": "stderr",
     "output_type": "stream",
     "text": [
      "2022-04-13 14:07:47.997401: W tensorflow/stream_executor/platform/default/dso_loader.cc:64] Could not load dynamic library 'libcudart.so.11.0'; dlerror: libcudart.so.11.0: cannot open shared object file: No such file or directory\n",
      "2022-04-13 14:07:47.997419: I tensorflow/stream_executor/cuda/cudart_stub.cc:29] Ignore above cudart dlerror if you do not have a GPU set up on your machine.\n",
      "2022-04-13 14:07:50.094993: I tensorflow/stream_executor/cuda/cuda_gpu_executor.cc:936] successful NUMA node read from SysFS had negative value (-1), but there must be at least one NUMA node, so returning NUMA node zero\n",
      "2022-04-13 14:07:50.095156: W tensorflow/stream_executor/platform/default/dso_loader.cc:64] Could not load dynamic library 'libcudart.so.11.0'; dlerror: libcudart.so.11.0: cannot open shared object file: No such file or directory; LD_LIBRARY_PATH: /home/charlie/miniconda3/lib/python3.9/site-packages/cv2/../../lib64:\n",
      "2022-04-13 14:07:50.095193: W tensorflow/stream_executor/platform/default/dso_loader.cc:64] Could not load dynamic library 'libcublas.so.11'; dlerror: libcublas.so.11: cannot open shared object file: No such file or directory; LD_LIBRARY_PATH: /home/charlie/miniconda3/lib/python3.9/site-packages/cv2/../../lib64:\n",
      "2022-04-13 14:07:50.095225: W tensorflow/stream_executor/platform/default/dso_loader.cc:64] Could not load dynamic library 'libcublasLt.so.11'; dlerror: libcublasLt.so.11: cannot open shared object file: No such file or directory; LD_LIBRARY_PATH: /home/charlie/miniconda3/lib/python3.9/site-packages/cv2/../../lib64:\n",
      "2022-04-13 14:07:50.095255: W tensorflow/stream_executor/platform/default/dso_loader.cc:64] Could not load dynamic library 'libcufft.so.10'; dlerror: libcufft.so.10: cannot open shared object file: No such file or directory; LD_LIBRARY_PATH: /home/charlie/miniconda3/lib/python3.9/site-packages/cv2/../../lib64:\n",
      "2022-04-13 14:07:50.095284: W tensorflow/stream_executor/platform/default/dso_loader.cc:64] Could not load dynamic library 'libcurand.so.10'; dlerror: libcurand.so.10: cannot open shared object file: No such file or directory; LD_LIBRARY_PATH: /home/charlie/miniconda3/lib/python3.9/site-packages/cv2/../../lib64:\n",
      "2022-04-13 14:07:50.095312: W tensorflow/stream_executor/platform/default/dso_loader.cc:64] Could not load dynamic library 'libcusolver.so.11'; dlerror: libcusolver.so.11: cannot open shared object file: No such file or directory; LD_LIBRARY_PATH: /home/charlie/miniconda3/lib/python3.9/site-packages/cv2/../../lib64:\n",
      "2022-04-13 14:07:50.095342: W tensorflow/stream_executor/platform/default/dso_loader.cc:64] Could not load dynamic library 'libcusparse.so.11'; dlerror: libcusparse.so.11: cannot open shared object file: No such file or directory; LD_LIBRARY_PATH: /home/charlie/miniconda3/lib/python3.9/site-packages/cv2/../../lib64:\n",
      "2022-04-13 14:07:50.095371: W tensorflow/stream_executor/platform/default/dso_loader.cc:64] Could not load dynamic library 'libcudnn.so.8'; dlerror: libcudnn.so.8: cannot open shared object file: No such file or directory; LD_LIBRARY_PATH: /home/charlie/miniconda3/lib/python3.9/site-packages/cv2/../../lib64:\n",
      "2022-04-13 14:07:50.095378: W tensorflow/core/common_runtime/gpu/gpu_device.cc:1850] Cannot dlopen some GPU libraries. Please make sure the missing libraries mentioned above are installed properly if you would like to use GPU. Follow the guide at https://www.tensorflow.org/install/gpu for how to download and setup the required libraries for your platform.\n",
      "Skipping registering GPU devices...\n",
      "2022-04-13 14:07:50.095589: I tensorflow/core/platform/cpu_feature_guard.cc:151] This TensorFlow binary is optimized with oneAPI Deep Neural Network Library (oneDNN) to use the following CPU instructions in performance-critical operations:  AVX2 FMA\n",
      "To enable them in other operations, rebuild TensorFlow with the appropriate compiler flags.\n"
     ]
    },
    {
     "data": {
      "image/png": "iVBORw0KGgoAAAANSUhEUgAABGkAAAA2CAYAAAB0g8SaAAAAOXRFWHRTb2Z0d2FyZQBNYXRwbG90bGliIHZlcnNpb24zLjUuMSwgaHR0cHM6Ly9tYXRwbG90bGliLm9yZy/YYfK9AAAACXBIWXMAAAsTAAALEwEAmpwYAAEAAElEQVR4nOz9WaxsW5aeh31jNquJZvdnn/72XfZZWU0WWaSLVSU2YpEiS4BNUoJtQYAEQYAfDMvwowE/CH6xYRqGH2yJgm3AEESRsgCRNCk2ZRWLqi6rsipvVWbee/N2557+7D66tdZs/DDnioh9M/OeuMUH8WGPgzh779ixI9Zca645x/jHP/4hMUau7Mqu7Mqu7Mqu7Mqu7Mqu7Mqu7Mqu7Mqu7H9YU/9DH8CVXdmVXdmVXdmVXdmVXdmVXdmVXdmVXdmVXYE0V3ZlV3ZlV3ZlV3ZlV3ZlV3ZlV3ZlV3Zl/0rYFUhzZVd2ZVd2ZVd2ZVd2ZVd2ZVd2ZVd2ZVf2r4BdgTRXdmVXdmVXdmVXdmVXdmVXdmVXdmVXdmX/CtgVSHNlV3ZlV3ZlV3ZlV3ZlV3ZlV3ZlV3ZlV/avgF2BNFd2ZVd2ZVd2ZVd2ZVd2ZVd2ZVd2ZVd2Zf8KmPmsX/7En/qZqJVCKYVSGqUEUYLSGq0EUQotClm+Jn8vClGCiEoPpRARZO29Y4yEEIghEIK/9PDBE0JIDx/w/feh/z7iQuA7//x35McefLYbN26seoyLgAAxwo/oPG4Lg+schRbGlXA0DcQIWqeP8T6iBbSGaAw2Ci54nEuvE1l9DECI6aN6U5I+dlBYOudpfeDRo0fPHcO/++/9+7GLmjbm8yyCUqCUwhgNIhRWY7QmICgRBoVFieAidD6iRIBIyAckIpRGURrFTqXRKjJZOE7nHdPG0bqA94EY0yBiCCiJEAPOBzQRI4G2bfl//Kf/yXPHsP/yT0aixy/O0YMdRFu0rdAxEpXGNxPEt6h6C1EWRUTsAAmO4D0ApqhBNBFZoouKiI8d0XeARpQGoGsucPMzxNaItmkMyhCaCWiDW0wQY4nOE0PHySd/9Nwx/G//4/84DivLiS9ou5aZj0TX0lycM7+YUEShRBF8xAWHj5EgoGLAaIUAEjwSAkKaMKIkXZMY0UqlY0TovDCPIEpAKbq2wWiFMQZFxEjEFprSWILStG3Hf/p//ZvPHcObb775I2Z+Mq2EO/s1Hz2d8tLNA6Lv+PjJOZF0vwJcuosFCqP4M1+4zbwL/Np379P/eqsy/Ad/5Zs8/Phj/svfvs/chf5P+MbLBwwHll/7w4c/dBt+//vf/8wx7P7Jvxq3Hnz70lribc2jt34ZV47y56/diCKrn5fHLRADiKBcCwhBaVAaggdRIKC6OUUzoS3HBF0s1w7dzBDf4qohxIhpZ7higJ2f0f79/8tzr8Gf/vN/LT785Ad8+O4fEWNAlGI83ualN77AK69/ARFBG0PwnnsfvMdHP3iHP/Pnfhlr7XIormtpmgVGm7Rues9wOEBpzcXZBBGhHg4RFD4ELi7OODs75f69j4CAc462bTFKc3DtOls7+0ynU2aLBX/427/63DG88cYbEdIaJJLmR4z9z4ItLf/L/+h/xZ/7xT9LVVfp/mO17vYfIMtPkuWlE2Ttkl3aNT41XwTJb9DP0f6xv7v33DF84c03Y5rXgihQavUnMUZeurXHf/g//xV+8ps/z3BrH6VNmgKkz/ihMSzX1rUfo++PLh+rSfe9/PjD6++1weErzx3D9rVbUbRGG4vSBtfOUcpgyzKtNwJCJMaAdw5i2reNKUFMXt/T2PtVVeVzGwmszi6EGAjRA0IInhjBuY6uazBFjbEFzWKK0oYYPULk6P6Hzx3Dn/vr/37sX6SEtL/lW9eIoFXa09JXhVL99+n16e9WK1PM/+dllRDTvAkh7X8+BEIkf434EPF53viw+puQ5/Q//i//1nPHsHV4KyplMWVJCAG3mFJUI0RblNJpvUfhXYtrG5QxKGXQxoKopWuSb4DLK1Y/ECAKyWfyHpGI9x5RiuAdMThQBmUM7WKGNgWI4J3j7OEHzx3Db//D/1tUotBaL/05JXbpx6Xn8twVhaCYz6Y8e/qMnb0DysLwq7/2m/z8z32Tsiwpygoh4ruOb/3et/nZn/5GHs7qPo0kHyMGT4iBGEP6GtL36RoFApGv/MK/85ljePEL34yQ5kxhDEVR4LoWo4RCC3Vp2d+qqOqawXjM+aylLjSnFzMuJg1bu9scXt/lzuEeg8oyGI6o6iFnC8/FwjO5OOfs2SOsMRw9fkzbthwebPPxx59wfHRCCIEb17Y53CqJ0XNtu+Zgd8zMwenZBf/Hv/V3n3sN/jf/5/8sds4To6LrHGVhGI2HgHB2NuXk5Iyu7YhErC0phzVVXdK2Ha7zKKNBFPWgZnd7zHA84MU713j9hVtcqwu6CN57dgrD0fkF+3u7HFQlne9YdG3y7XyH8S2zaouz6YKT8ykqwqguePP2jeeO4Wt/+ptRKUUfOxiV4gEtGqUFtbyPU2ygf1Tc0McM+d7o5w2QYwG/9tWvxQppL+zjhBQzxGX8kOKG337uGJSS5XZVakVVDzC2xhYF2ljmixnHR0/5dCChgJFW1ErRxEiI4ABtDC++/kVu330VpfXyHCAxr88RMGv7wuX3jZJ8Ri1p//mv/s5//twx/Nd/759Hn9c3BIzWlNaitcaHAAil0QzKAmM11mhAmMxb0tjTWhkRCpPWBB9CXitZxjyCoHS6Xv24tE7Xsj+HMUZEwBqDVhpjDV947fC5Y/grf+3fjj7CsNCMxwOaznHUaFoH3jsuzo4Q1zLQGu9atIBrO9LRS/6X994IMfjsEq52NsnnWmshovER5kBAEK3BBUJwGG1RWqFiRBHQRvi1//Yffi6fW/LeL0qIIXL9C9/gL//Vv04rkT/1ja/x0uEOxijo960QV17PMpgUVrscyzh6fc7362vaKzVar+6zT/sedw93nzuGl195/dKEfPbyv8GX/if/a/7dL+9yZ1sTAR/6mDfvtxF8iDgPrY+0PrLoIi6yfG7WRWYujTEiDIxQKKiMYlDAsFCMCmFYKqzpvcT02vXY+pe/pD9zDLdv34rp/Kfxa13g3/gl/qf/0f+ev/rFHfYHgmcVsy/XHCCGuPzBBwgBuhBxPhCD5LmdfBJtwGTfBCAAIQihf6/+rdb2eBH4qZs/3iH8TJAmBYikC6vSjajU+kPWAJy1BVck/41Om3ve5OljpuUm3S+yQgxCCArvBQmC9wERnx12WQsOBZHwWYf94y2ubtvwI1CarnXpZQLTdhVUBh8pCpMcIcBqQSOctw4tq5tFBKxOF9L3VyU/ny5OujKztkPrzUlMM6/RRmO1SZueTo8lKJYBMxGN1elcu3wNtBKqYjVp0uzIjqAIWsEspDFGpagHBrGBpgs45yE7TQRPbWBoFbOmY94mMGtu9EZjcNOjtBm5Fuc7TFHhbQHKAgFci6rGiChic4YeHwIOpCN2F9h6C1vWK+c1dChliQiaEkibcNdcYMsButgjlAOa6RHedRhbESSCxOW89bOTBOJYu9EYrNYsuoiIpyoK5hdToosUtsDZAlpHEIhaCFEhCrSAQaGJCXjKTu4yqBCVlhwB0RYXwIU0P00G4rx31FojeSOsrGZQWawxuJgWO/MZQd+mFmPkZNICoGLkJ1+5husa7p80l8EZQJMWtNoIb94Y8g//4EF+k+Wb8fCk5dq1GxzsnHHv6TkIVKXl9Tt7nM3aFWD6aRDlM+xi/2UGJx9i56er4xZFNJZlZPcjgRl16SnTNnhTgtbYZkJbbROVoEJAfIMvhun+cHNUOSBolQYXhWALysUJoazTe2qdPlJtdi/cunsXW1o+/sH38CFSljV/8hf/PNu7+zn4EoJzDAYDuq5ld/8aZVUtARBipMrBoNGGo6dPsdZgd0q6rsN7x9HRM6qyYjAc8uEHP+D8/IyyrLh16w6j8RZ7B/s452ialvF4ixiFk+Njvv2t39j4WkDvOPfne3nxicEzPTtODlIPUqztqpIRmSUwcykwXdsll+95+ZqufdLqt9LDIT8Wh7xkki/pp1+eHCm4ebDF7Wu7VKVNSQnJ46AHaOKlOZUOOV56QpbHvT7A/kN/1LyPn+d2yGCMECUB1tG1BOUJWhJwkwOAbrEgxpgCZ9FLcM07h4hCqwQmQETlKyYoYvR5LxaM0tnpcnTNHFtWWGMwRUlwHRIcRgkxOGLw+LjZPq21Xp7PHqBRAloE0wMySqHXARst6Hyd+rVULR3vPoiIS6exB11CiPgo+AAqKHwMSIioHMyISq+RKEhYJTU2GUPwDt9GCIF2Pk3HZAqU0mitcV1L1ywo62H2g1xyFl2L6zqU0lSDYQouMpDcO6UhRmL2P9CC0RbXNfhugbY2OeLlENc2+K5BAb6ZobRJXuUGplQ6pzrfj1oEledjAjH7eyP7f4A1mmY+g+ipimHyE8oC5xqCVpTWgoJF22RwB9JtJMQYiDE73WrlIIe0zOITjk7Izv/zzCrB5AQWBFzXIDFdS6sto9pSDyquH4xpG8fJfMKTU09RWqyG06MTZhfnPHv0lJ3tEaOdHXb3D6iHY9q24eLkKbKYYK0wmU5BKeaLBca3XNsqcRns3D7Y53BnRF1XCfhsF3hVbHQNPvn4EeOdMUpp2tazWLS4AFtbQ65f32UwKHj8+JimaQne4dqWefQYY9FGUCb548TAYtEQiTx5YjjcHrFvtgiiaZqWD84vkAD1bAFViRLFdL5gWBSMtnZYLGbU0eMmz8BFqr091Ib3c/JvVF5X1uOE1VedYwYlCtF94lHnuOFyclf1m0SEyFrMEFOQ5INKwIwEVBC8EsSndQsRooRl8kZv6Cf1t72Q/D6lTTrOvMdPLs5YAe8sQfuBToFm6yGK4InYouL1L3yNg5t3U4IbWe3lsraXoFf3COs7SVwmQrTq99PnW+ccIQf75L83KiULQ+wTt2kTjCGgxeBjxOq0D/g+EI2R1nm0isuxrpK9arXvxbzUqID4CGF1pEK6p51zoDc7/vT+UBiLC57oHA6L9Q0ogxNDZSyd73IsJEgkxVb99Ytxec1iCKByBHgp/EoxQRRFjOBRmJji3ggECRTWEPN6WFhFWRTL/WaTMaTERlgG9JLjsJMPv8/f+Vt/k8Vixr1//Vf49/7GX2Nve0hZ2ATI9bFjjD/CfyDv/UJUarnnsUx55P1xSZjofeMfcnk2sJRkSBYoZo+5mM5o/TZG6RT3LrGk1WeEDGwkUEZYdIFZG5nEyLQNnHeB1qd7wKrkc9RGMSgio1IYl8KgEApz2b+KMRLWjuz510BlX7WH5QQWFyzmc5Rso3VKUS3P4eovL9UbxZjIGmWMJM5CWN6zSFz6jsvxk4G2vLetvOH03j8qVPm0fSZI0y+cPeqtlEpAjaglYPNpps2KcaNB9HKxVmr9rkhHHGLMv3N5sU0op3hB8Pi109+7u14C4iVFv5/TlBKMVngRyIDMp02Uou1CYr2sLdRd1wE5uLYlnQsoYxAFRiJdF9DSZ4XSYrG+QEF/A+UnQnzetVlaVRVoo9Ha5EdCRntwrGfVrLJfspaJSJ+SFgZW3+fJVOjk3IcIjQ94H7ESKcu04jofcN7jvcNKpIsRJ5GghQsX6OJnTqGlmXqUAggiSsCMdrFFDShwU2S0hzIlRbUFcQ8lmqgECY5OQGlDWdp0k7h5eg9bLEOKIDHBlm4CfoaoAqXA1kOknRO6Bd38HEQI80D0HaFtMINd7GB7ozF41xFNiQmeoDVbg5LJxZRgCqq6xvkJvTPRX2gjgo6BQkWMgBa1BMrSzRszGKpxaELoEpmDSKEtIbiMICdHeVAZRnWBMgaPxrUtBo+tNgMIPstChEW+L1RseOHWLr/13hOIzQ+fi/66Ks2zswnDQY1wvpzzr9+9yU+/dYehgf/fH36SQJoIvutYzBcMrP3sWPXHmC9qgq1SqmP53JBQlJhuhrcDJHiUa4m2QHmPas5pR4dE0ctNSqIHJQSxxCYiZAaN1kDAdDOiCBI8Onic6kGaSCxK/HAX20xwZY0vSnS3wNXDjcZgrebZ4/uEEHL4HqnrAVVVAdA1DU3ncF3HydFTXnz5NebTGYvFnMFgyGA4wNoSowsgsr2zw2KxYD5fMJtN0dZy8+YtHj96zKPH73H09DFf/so3OL8458atW2xt7xK8ZzFrEFRmPkBZlbzy+lubX4xsSgkh9E5beq4wipEORNegYh+grIDv9JCMqfUu6fpE+NRGuQa9xPy3S3h8mZaQDNRsDoCLyNqmvPp8BUwnU3w7z+BAJM36fnvNXzM6v37kn4aSlr/t1wW5/PtLTsaa07+JtfMprmtT1kwrumYBQDUYobWhKAvaRYMooR6OAIXvWoyxED1CoGsWVNu7KFFLVpY2NjmuKEy0xBCYzyfYokRrg1KaZjFL++V8QggJ0AdhPjtnuLVHPRxvNAad7y1hxZDRKgM0khINlx+r51Tey9Qy+l+FNyH0DJqwBGhCCLiocCGiQ8B5QUli0oiEBAjkn5HLwOJnXofZBGMrfHD4LiVh2sWUwbiAzBJRSijrIWU9IDiPNiZnOAsa16IVGKNzYsgTo0fbYjUmmxJFs+k5pigx1iIqATPONbTNdAnyet/RzKcMd65Rjze7Dir67M+RM+LpPlASkZzxX2XL87z2HVujAaVWqOipC4tW8OzkhNHYU+/tYbRiYHoMPd85koCxvKQm8Lt/hLRSKJWCPq9Y+i6fZWVZoYJbsqUkRqxJgW+HohGL1yX3j6aIKC4WHc5D080wSlFo8IsFF+2M89NTqqMzDqZznj47ZX5+Rphf0HUtw+GA47MZxhomJ5rb+wNevHGDxWJO0zpi16DMLlYLg6pgooWHJxcbXYOL01O6pqUY1MvAom1b5rMF460hVVVgC5vARu8hRiREos9MJB8wVYki0jQNbecgwuPxgLcOd2lbx7VRzSPXEY1i0XX4GDm9mHBxPmX71pgYPN1igjjH9sCiVcdgPIQNE3LLObJMSCU/VeuVf3qJrbWMG3pwJrGBLgWXQJosiqDSOhWDJyhBBY/L89HLCqRN+0HaYz2CIiDh88YNgqi03hllUKKZzdI8+DRAUyvFyKTQQhQgMKxGvPrln2D38CZKG7QYjFoFcuusBhEhKNDxMkQDITFpYkQr/UNMiB9nTefQKnsYMTEh287luCslt7zzLOgwPVCe/dK0pweUpASAVinJ5X1MwHZ+bb/TJpCcy0n4vC2HfOlUBorSSuJ/xBH/sHVdy8BYCmOIriPaElUURBcheKw1xC4lMk1eMBJImc6fysB/Yk7nZGifBJLei1CINjgfcUCMASuKQEKHCy24mNjrVWEpC8NaDv65FiPLGC2EFbQgpP27nU8BePL+H3By8kvsjUrSjiarhU96X2Jl63BLGq5aBa2skk1k0P/y8UY23NpWg1gjR4yO/5DjT77H7OuHaGUobQYfsk+/fOsoeT0WWh+xKl2LzgcqE9iNkYVPfzSwiqGNjMrIsBCGhVBZsDrHyvHyOdfq02DmZ1nyFeiBSVGY04+499EPaL96gIkWpbKHlz9MkUC+S5tPxqqWpIvlFekZpqvzmkAqIep1Zm5chT3LWARS2vtH23NAmlTOtETApQdmVoCMVupTDJvLi20CYXSeJCv3OsbkACnpMyd+iSCvhmhA8s3c32CpfoTwuRdbEjDkA/1p6lFIif2RrY1dC9GlEz7YGqIlMjmfYYm4eYMdVCwWc4KAJA4ihVXUA8XxqUs3Jutu/WX7PFygqq4wJgE0/ddPs5n6jbF3WJeoaXaMLgdFLEdbGih1cro651m4tAAXGTWfd4l2PGs989bhvAcrGOVBh2V50fPMVGO6xYRqvEf0LRJSVlDFFj3YTVRtNyV0QlFUqKKAGJAIYZGcRGMUWltcmxxR0QbJwaF3LcoYmtCibIGpa2IU4ixQbV0jhg7XdYitCa7FuYbpo/eQ6BLlfANbLFrKSlEXlknwDAYV+I6LaUOhFEFJml95D1ASMQSsBCpr0IoEKUWSg0GaI6I1HkXnPMSEExhRhOiwJtHPrQTK0jIaVihj8d6jg8OYQFEZrPlj3A8/wkJefOZtxz/6jXd4ej77ka/rP+1i1vLP3n6ISTnD5bx+7aU7vPXlr/HxO2/z5Ohk9YdK8fKLd/iD736QgMzPedhKINrq0nOmnaFDi8QASqG6hnJ2hK/GeFMQqhFaAs4Uy2A+VCOKdgoxJIDHL1CLM7p6jB+MKOfnmIsnRJPowfQgDQARV4+o56eEUBCNJRoDZjPA8vzslKIo6LGJtm24//GHHFy7nsHUiNaatml4+ZU3+OTex4y3dtne2mI4HuN9oCwrdnZ3OT46oqoHXL95G60VF+fnnJwcM18sGIyGKK3wznF8/JTx9i7GFHRdhzUF2zu7qeRJG2azKYvZjK5rNxpDD270WTVRad3RVuO7wAs39vniC4ewmKBHg7WtjNU6v1yb1uEX1l+5tHjp+5wNWcumLBmCbD6nenAo5j8SYiodCRFrhTt7FTI7Js5P0FUFopfHesnlWcddlmvrakdZCzHWfv+jRrqWGdjQ2sWU8d41tDa4rqWqB3jvKWyByqVw9XCU9lwfKErLYLCTnOcQcQRCZknoTE8XI1iriTFAFHzMAWBI664yms61FEWZ2DRFibVFYuz4RDX3rs0Aw/NNMtiiJDM58rFoSUmVnkFjtGByYshotQRpUvxwyXlYZh9DDk4SQJOCd+0DOqRgQ0nAZSaNDgm88SHVPCVWzWbXIXhPNJ6iHiD1ABGVnO8YMKZAZ7ZmcB0xOIqyyH4R6RznvZzg0Mbka1UmTyVn67quSywErVEiGGvRWmGNzY5jKpOMMdK1DZOzI9r5hMF4sySEii75diIZmOmDi34/A6VC/j75dKW1SPAQOoITtKRkVWGEwghGp/M/sKBwaNWX2MXl+tdnGSVGJCTfK4QM1qgUG2wS0jVtiyJgtcYaQyTSZKaYVRrmHRfzYwoVGdUlpihxref8fM6wtGxvVajaIBFMUdA4z6N7n3ByfMpsOsUqKMs0p6siscys1uxuD/HAzRuHvHp9i8cnFzTiuXNtF2Msw3nDsLy52TxqG5oQcK6jKCu0VjjvmPlU1tPUae9TSgie5COJJgaPkcQu0THQTGaJJVpVNIuGTz68zw+2arYO95ieNrz9/Y+IIty9sU/nOpR3zOdzmsWMagDDOMWXFUrVHOxdB13Rbui19sD7Mrmr1RJcXf28nmSUpWSCSCpZX7JsJPnokG/vGFBR8JKYDyp6vAgGwUfHMkdGX9aSDkh8SL76hvh9v7+JkMuTUswDgYvJWQIi+tcClRJ2rTB36fUBGG5t8dqXfoqtnQNMBrZVvnf7e6r/rP68rd4x70zRp3A+aqIoAmzMBvI+pGA/n4cUgwWc6zP+CYRw3mO0JoaAscmfDyGlxa1WKUkbUlVDzHS3JQAT45KBcIl1uBaQ9tG1CDgRvHYovSEDv+vwtkVswUIs3iVgxvkm+fwiqQy8XeStVZEY+IkRqGJEk5LuYmSV0Inp/PZxkluebzD5fGkioiXHQ1CXlqJI5amOSPA/OtH/46xntayfpuUcUIqX797gcFxSWcGs8S0+HUF+2sW47FL07OTV1x9lMa4BQJtaDmx6dltwTSq3lYjROa7J4M+lYyTFFdYnUkChhdIIW2VinPmQgByrkwTHoFDUhaLQyRfoz8H6GenHqja7FegjYCWGaDShHCOx4Xd/65/y9164zq98/S7XR5bSqrU1YgUO0X/tn1j6mhFZDrSf7atjjSpmoCqVz61eJRtjAJ8N0qyVLiV2RgZrtGRkWeUFbMWqSQvs6jnpKYxL1Jm8wCUaUJC0Ca8veEuAhh64EYJ4QnbkNs0yftpiTPSjEPsTC0MDc5+QIqMFlxkuwV12wne3ay7OZ7QRYog0k5TKF0l1dzFA24asnyJZ3iLxPESTFoeQnEZtdKJXbziOuq6X4Exi0axtbpKyDQirrKJaRw1XbBrVB0T5Dkp/G2nz4uRF0CZNozYEXAAvKi3ERlMpgw8e6xJY03mPM5sh4krD+PAFglvQTRp8M8FUQ4bbh6AUrp0hQRjtHeLaltBNsUWNoGiJbG1fS1PfzbEKisEObTvDd3NMWSK6QklkuH1IVAq0yXS0Ie3sBF1UVON9QnCINbRzh9s6oDl+gNq/tdEYzqcztpRKrCaTMpyltUzDHHKmKAafT2/AxsxKsgaj0uJvtMb7vPFKTOVMovAuIjFgVSCFghFlhLJQaC3UZZXAuqLEOY8hXSulS7TRdP6Pd0982nq65Pm0ZT5v6Dr4VBiJYnWf3hyVfPmFEb/78RRwLKGMxTH33n2bolAMCouwIALOBd7+8Al7WzW1gZnfPCMBEAvD/OAlquOPU3YEUG6O9g3BJPaUFo8NLWZ+jLMDunoL8Q2iLdGWgKC7E9rhLqOjj+iKAcY3tNUYX4+RGGiG2+j5CeI6zPwYawxdNU7rkW/R3ZxoC2xzgemmtMNdqsnRRmMYj0cc3riJMRbnOoiR+XRKWaZAdz7ztE1LVdXs7R9yfn7OYj5le3sb5xw7OzvM53Oc89y+e5dirVyvrmuuHR7ivOP0+JjRaIRzDqUVJ8cnDIdDBsNxytA2LbYoaNuWqqrQ+/vcuLXZvXDpmoTkzMRcq6C1cOvwOq++9kWq8RAdw3KtWdnSU1o5FJfedLUT9J7Icq9MqEpyspYbZ1rrPs9cCj6idKI+iwjGqLwvwf6w4K/83Jd45e4dShw6tKAN9J/Zf9K6Y/0ch2G14cvlv/uXMFuUnDx+wGA0ZufgcFnaNJ9cMBhvUQ+GSccqnyNrC7x3iTXjW4iB8fYu1haE4NFGUxQlwXvmiyYlKQZDYoxUVYlSKiU2gK5tgZDK5YC2WVAoy3h3n6cPPqKZnm80Bq11YmwoluVNRgStVf45fbW5zNeotCYatZ6xX0s+5H0+sVpZlTn5pE+hfEBlrTulEmjTgzMSUiJIMoizYTxEPRozOT1CBIZb2xTVMIE0IaC1piiK7BcNU3mXCK5t0UazmE0pqpLR1g7EiHcOVdh0HUKg6xpizGU5tqCu66Wzl36fSke1sYTgWcxnaKMZbe9x9PBjpqdPNxpDqSPRt7guMqiHa4zbrIEnPViTzzcBLRCCo7QpYffRg6dYBSZ2SDfHyA5RCePxOOn5SVxikQL5GmWntg/8EiGLJeq/IZOmqgqC9zjv0RnoLktD0zQJgGia5JPGyHTRUlUl8+mM6DouuhYfI9cOtnnxziG7BwdcnJ1y7+MHPH20gOCSEyMQuoab4/T9pPE8OZ3y+tDy2s1tdnd3MINhYmMby6RxnM0Di82wb5DEYJC2oYsBygKtLTE6phcTmkWTkgYk8E4ZBTHNMa0UhdF0zqeEhY/EpqGNAUvH9z56yPhihgAXswWL1lFkMPbaVs3WwFIWBaJL9O4YHTs67/G6SKVvG6Lfutdc6bVnpJc/SACNUXoNqFmXS1jJJqTSp+TbxuVeEVNwGRWIT2Ue65uC0eD7ZDBLgEZJJIhktv5mO8RKg49LYNN0eo5z3aV9plDCYaESQKM0XiLjnX1e+8o3GYx3ljIFolJplxG1vKcu7SOXDm0VhfdZ+wR6eJTabAw6v3/IzJiUpI55H07rrIuRGNSSZVgGi9GGXivPGp2ufb/mx8To6fGvJIeQYpteZ9SHXs8yrJWcrrFolULrzRJaTdNQSCQa8GUJwRM9jAYFvm1Aa3Rh8a5ZsR5jBpQjGFLw369jab0JS4BGlMJHgawTqXM5WIw+sxzTPmOtoSzLlFD1niIGtN3sfuj1+lietQxkrG0uSiJ+do6RkBmk/RxcD+uTXQL3lq6E/Ji96kf4Kcsvn8NfWn/vGJHQIg9+l7n7OYQyyS2s+Wjr3lv/rVdJDqTQQm2FzqmkF5VfZpRgTL/P96xoVuyT1eVlefSbbtBZQy35bwHlp4gLhN/+2/ztB9/l/l/4t/k3fu5r/NwbB9S1vXzsQkriyQ/dpKmUMvZXSYhRLZk4y6snMQHNMayei0nSIv1TfFYPp+do0qglQLMuDLysNdUJpDGXFttUiiOSftfXlqZyJ1ki0DH6BNKELKzj1yccfDp3EgFFWGbGNqW0/9Bp1QrlPTrXgpZaaJY0N1gu8fkPE3unY37eYoyiLDTzeZeOKR+skny0kqiBhUkXtA0BH8FkEEobRexCcm4At+EdUvdMmkslTevizLL8XuWAo98gl47W2gmRNQQyZLAoBBAVc/Y0EiWgVGI7hRBQQaFDSLpBWmG8x/iA15uBNO3JI6wCXW0RixJDYFBVEDq0GOrxHqZMuhtGIqoeIHimJ08Y7l5nsL2fggqfuElFWVKUBTMi3s2pBjvoomY4gkCqdQ8hZTbbaoC2BVEbXAfzs6fosmawc0B7+pDm5OFGY1i4QHsxZxSgHAhN21D4jlJFuhAYlAVT78F7jEQMiSpZ6lTLakXSIiwBdMwOiKLzAU+gVP2ik3aZojBYa6jrkrKuMWVJ27YpsLAJsHOkOs/mx5TvfaZdXlHTQpon9agwzBcdWXMOASyrUNgKtFG4uT/iL/7pr/Ab/+l/l0uNU5ZlMNrh5p6hK/eJopYfoUV4adhx9/oW/+h3IfOTN45VozY04wOi0ojPWHQIaLfA1yNMc8bw2YdI8HSjffxgzNbpfbpiQDk/Y3rwIihDSUgouETqyWPOb30Jb0sgohfnuGrE4tpd6qNPiItpWkOthhBRQcBoQllifUM3GKOjI25IB7927Tqua9ZOvfDowcecHB8xGm9zeHgdW9jkVNy6ySuvv8rD+/cRpajqRIMfDJPmgdaaLpdXxCyO2IMldT1ge3sbEJq2pWsdZ6enbG/vcnp2Rl3XjMYjIkmbpGnbT5Wlbm4p45hEKY3VNN5hy5qiLJFlDgEupX+WGcTVxV9NhX6bX/td3gyJ/RbYA/b9rPwh1+AzrQckezaP8x4liQEQBXav3WDn7hegGOT9wNEHC8tDjKtxrJ5cf+55R7P2t38MnPXWi6/QLOYcPbrPs4efsHtwSDUY0iwWVHXNaLxNLxqslNA1Dc+ePqKuhxRFydb2DmU1IIaYmIYKui6VwY1HWzTNgq6dU9cDfExCwWVZouqKuk4ggtaG+XyG4NPeVBTceuFVHn3ywUZjMFrlEieWgIzJbBmT2TRGCdZojF6BNYVJ2jTSn29Zy2nl4H8F0KRmA94nkCYBMwmsCTr93PpEl5fQa1MJfsPb4dqtu+weXOfpg494+uBjrt16ka3dPYwy1MMR2lhiDATniESePvqEyfkpo/E2N269hC0KklaC0InQNgvaZo7Wmroa0HUNTbtYloYtub8x6VMppfHRM1/MGAwGKeiyhlsvv86DD9/baAyWjum84+MHR3ztS2/k+0JIHLmwxpBIQQVA9IvE6lHgmgmTyQStoCwspdUkDUyhqurEslEJFOjaxRJYSHo0CVCLq+gv31prAeFzbFgPGI5qHj16AiHQtS3GWgprmTcLXNsQSaUMC9/RLmZIBjjKqmAwqlHG8MmDp3z4yTOmZycJaHMthlSD5RZz6tGYf+2bb6K14fHxOaeTGT/55gu89MJNposO5o6Zh5PTlsV8TtM2nJ5NN7oGS/2MmMqrhYgqI9paoks6Ix2SEn1K4dvkoxlRaKMorSF0C0KXEmnROFTXoVB8cB/K4ymD2tJ2nq7zGCVc2xkiIXB4eEhV1suzHUWxCBNK2qU/+ZyQYWkrv38F0PTiwD0bf1n+lEGbXlpBdP/anOBFVvd0FpdWQbI2Tf48kiux8nRTsswjmTGXfHT5vOwBWAJOMQQuLi4uMSFqJbxcC2dOIEkBsXd4i5e//FOMB9tJBFb3FQW5MkFY+e3SI5IrIGP9HIawSm6kzzUbj0H362EueZIM8oTYMxcTX8PHiHOOEHsWTaTXAAsZqHYu+fkxhBxsyvJvY7/GBp/XWJ/Wuix6m7CGFLvJWiy50bnPJTazxqFUR6mFkP9+e1Rzej4lkkC4fjJoJai48r/VUocmlWUvZTlFESQB8pLLmaIkQXxtFNYoCqMoC5u03LShbVusihhlWW808DxL5ch5JQtp7U63evLbtgYFX7y5TZw8hd1tjK6XYf4SnFn+l+Z5D7ZJXi/XXsUlZ+JHHGb8cb94/kjyGByDs3vQNqlaQPdzeB1M+hSgEdN5CMmNzrpSvQt1ORnQH2GkB/lWZXM/hGVuYAmgSzGSREEcoDTStaj7f8iXT7/FT45eZGx30h71qTPUA2b5TlqNB7kEyiA9Q0YgSgJoEHqdniApNu31j1IZlOez1tXPXnHzDbVkwyzBAb1Eu7Va7waQF97lz6uynMT2kH7ExKgyDVmS6JcCcXmhXcb9KxSRmEANUTnBsulauwa2aG0gBpS14BNNcuESkCIk8Edrk2p910+SFposXd11jizKnsSBJamCi0BlI2VR0HUOo6Fr84RWSSjK9fFEiOzvjHh4vNnGbfAY0SgVMUYyY6kvN5MkbKZSp6aq0LQeXEwCs6Ve1fkn3ZlI57PiOwG/rAWPSxpyrxbeCzsnplBydAOJThvEI6FDbVhbGlzL9PgRO3d2KLf2mB09pBpuU20fJhR5MUWFhna2YHb6GO9aquGY4c5NBuNdlCkgGLpmgncdbTvFaMNoaxfnBswvTqhMmnPtYoqpRigiVVEgocUWA9p2jm+nVNUA7ztMPWD77lucfvhHG41h3jhwkdYHhq2nLFM5gYgQvUMRGFidQKKQFv1SCUV0aIFCabSEdNdFAaXwPtHqJQbQLO8rYzWiDaYeYOoBSmmc6zAiSFkQotBkeFmCR8U/Bkizbp9a07dHA24dVrz78TOmXbgU/PQKEiqCKSyTecO4gnmXFfGBt954nZe+8T9icvoY0OgY8SLc3LL8/E+9zv/7H32HeffHiEuNIhQFUVvEd/l4I+XshG7vJkGPCeWAaApECcPTTzDTE5QtENEMjz5IItXAoJulbOGNV9mqKhyZklgNqeenLAbb+MEYFT3WL/AElG8QCbjhGHPeEG1BN9ymvDjGNpvpDpRVyY2bt9ja3efk2WOIsJhNGQ0GbG9vUVcViNA2DUS4OJ/w8quv0S4WPH78mIuzU/b29gmFTVTfGDl6+gxrLcPhEKMNIgrnOrQ2WJuy+Gec8+JLL9O2LcE5hoMBJmsDxSJQ1zWz2Y8ub3ueeRfAZGp1jMmR8Qs0A5Y763LTXgdpemR+HZpZmaxloER6RzXtC0sJxQiIYiVYt/HOnbR0JK3xsAYEASxOITRA0XsYXNqTlkecvb51yf7LGYdsn/Yw1v5+PU0UP/0ZP97KwlKVJePRiMcPPuHZowdcv3WHF195BdPrysRU5ju5OOPB/Y+IMdIs5rz86ltU1SAxO0wKHiJJE0kbRVVVGKM4PTlmMjknhEDbNPjhkMV8zmhrC2sLmnZO1y5QStEsZjTzOdqajRmvlU3dIXqdGaMUVqUspjWJOWN1cpqtVstsmzWSM26ZOaqkj+8vCQWHLIDZP7RPzMWQOxV2PovjNx4JagnQIGFZTvs800ooRyPqV97k+OlDjh7eY//6TXav38YamwMuD1rx8QfvMLm4wFiTEykB37VoYzG6wIkwHA4TaLYs3Qk0ixmzyTkx+qW2gXOOwWiMMYbz89MExs0UzXy+ZNBtSstXYZG6adhAkULaJTAjmdYtkoTze3CusIZmMeX85AnbO3vcvTZOCQqtmU3PEaXY3R6l7obBYVTSlXt2eoILgZs3rkNOuQVJPomoVPaUyg9Jws4b3A9Ns6CsCrTWLNqWGNyy2QMxCfEnFoBHk8rpqrLAmCSY8/TxM548Cgm4UYImMKgMg1IjpPk4qCxWC+eh4LW7d9g7bJhMJ2zt7fPx43Peef9j3v/kGcPdXU4v5jw7PuHjB4/ZGm5vdA2Siy9ZD0HAe1zTIiT/NbqknRYdBPGoGFKWVjuMWLQIVgSdhTy9c4jr6ESYzYW26ZjPLKIULjNuPvj4Meb2Pi/fup6vcQa/I4yKEfgpMfrMJqqeM4IsBL5k3/e+6gqgUVlTcV2XRmu9Fjes4gu1jBv6stT1Tq9CcNmlFpbKpSpGdD7+fjn1sQ8/PmfTkbWt6mJyjvduuV0NRPjqlubMBYKkFhY3X3iZF7/4E9SDIVVhEZVaRvRlIpKZGgnEygLlPWVgFYGv8gA5UbqUq4+CyGY+d2KL5O6LfcifYx2l1JKh4PNa0pcvuxCx2qBjTEnZ/LzK5yEl133W90rsRL9k0PSdtTJIk9kDfXJ+xcTbbI/unKc1nkXrKJljBmVq9CGpLDJ72xilUklWTuAYAgkfU0jMQvRkEFgn0CaISsLIWZJARECl40v7jKKqSoq6TkLFXUtlFCiDD9B8jqkUY8/c7dfTdGw5n8YXX77Fn//5P8NoZ0wRO0ywy3zt0he4BEKmJ34kPvNpxyPPrcsrqIBs2mJh7bNglQw5/pBHj+4R39jC5j04fhpU+qGjWc3Ddf+gdwWXr+nv3fzavkPjJf8sj2GjQUhu20hm5ylFVIIOQsATB2PGOzuUJt9fsT9jq3uSTysRLTtPkBg0pHLCZScnMqM3LyIxz8EACajJq/3zlFueW+7Ut7zsF1pZUowvCwf3ZThpse2R8lXpU8/2SAPKIE0ION9zZjJSFXRqWUd6Te8bR1YDJPZUvg0s9mMRlMr0Zx8Y7gxpzqYsfJpw2sDB/ohnR7O1P0zH27pIqdPp1pLAIpUX71EFL9y5zccPjgh4qiJyPouMVXqtj1kwyoVltwitDVGv0TKfY/r0A8qqoqxSycvAJlRXmZJhqRkOhsxDwUUHiyCpS40kgWSfN7mEHkcGhuS0ZTAmuI5F6+h8wPmYlfpyd46uQ0UPwVOofM5FUNrjY4e3PgmwbmC7t1/h7P4HzB6/z403vs7W3nXKokKp5KBXwzGumRGYcPH0k9y5RjPeOUgaPKLBQNcpinLIYnaGbyJbezcJfoFS0M0meIk0zRwEJqfPGO9eo6pqlNbEILTKpEyj90wmp4x3DpgORhuNYTGfI8YSEHxcUAaLJWByO9oYQhKalaTCX0ikMqnkKWWCs/beMh6LONLrCyWITgIAyhjQBVINoB4lkTzfJWE0rZa0Ugnp/CsixYYsjkv2I0B3K5EQhZ/94m3+ws/c5n/3t/457z7qS/sud0cwAs+Oz/gXv/ldrg00zy7c8m2bow959j2hi4Jr5svnp43nve+9x5dvjfnH33m8+uC19fAzTSt8VeOrEapdAQpmekx99phm95DuzpsUCEobjO8opqfIJ3+E3rmZO5dEuntvY174KurwpdRo2KbWi4FI0CWREc3kiKA1qp3h3AI33iVmhDgWFjfaomguqBfn1Kf3aap6o9NeVyV1VfLya69x+uwJkch8NuM3f/1X+dLXfoLD6ze5du06vusIBMajEV3TorXhK1/9alo3u27JUAze8fIrr2CtRYngvOPo6TNu3rxFUaTuP1VZMR6PiSEJUe7u7i7LLta1ZfznqbNeAuCJou9dSGUoWnN0ckY3O6Pa3sqbY6YTLj29NXADycIXa3OBCH2SsacsxlxqtEZFXzkgKTuxBD02MKVS1pAgdLmzT6EFqxQXM8c7P/iIL/3EUyh6+usaeNIfV+9IibAsZl56HP0J+vQnrzkWP/Q1e20bd0ZKY45RcePWHQaDIffvfYhrG1585bUsNAmTiwse3PuIsqzw3jGoh0k8ej5lOBxRlqlN+nw2YTga4Z2j6xrm8xmQaPLPnj6k61pOTwx1PaBZzFDGpC5zrgMUtrCcziYYY9nbv7bxGKxK2Ret1tgzWmF1SkIU2Wm25jJYY7TkTocrQGGZseuFgn0GaVwGZVzA6ZCAIAmczQPzNlDYpF3hQmameknB3gZmBHy7QAQOb9yiKAoe3PsI33W8+PKrWGvxPvD+e+8xn8+4fuMWTx4/YDgcMZ9O2d7ZoyxrlFZE73EugTZaa4zRNIskNOy9Zz6bMbk4ZzAcJi0g34GCrfGYpmkxxjAcjnny6D7GWG7evrPRGEotLJou7Vl0PTmJ3kFPwWFEUNx/8pQb1/YxSvjg3hOu7e1i6DgYWYxExDdMT55hTIHd3yF0s6QxQCRmsNaHsCyPjUSQmBoLZKFUHdNzrXfM3PP9DOe6FDzGFCyG4FESVh2r6AODFGSqAL5L+i9N55csAaXIjHHoOrhxsMO8aakKy1e/8BJ3bxxw5+Y+ZVnQNsLHD5/w0f23UUVF20WOLhY8OnnI6cWMd37wA07Pz3nj9dc2ugbiuiULJarc9ZRIt0g6U4U1Sx0IEKKHSEs0Aq7DEVAxYE1ipLjOMYqe1iuEFreIWbRap7206xgWsDMqM1Nm7VhECLGji0KhNefHz9g9OHjuGFQW+76kVbmMI1Y6inoJ2KySu1qlTkqXmpBIzx4jJw5TOY04UnMRkVViN0LULEGBdX0IYNVOd1PLa7vznul0snyfoRL+0qHhaRt5tFAghruvvsXt179EVZXUlaEuLYFUThNCYoCgBJVFYUViBtkSU61/8yB5m4zkfUCtkqgbO0p5u83nPLEKw2qrEhLDKN/bIfbtwtNrlIAWs4S0hLyekn2F3D3L5bbm6+BM/zX5FH076HREAmtSDM+3znmmbYcuNYumpQ2RQQBRHca1FBJogqeyii6mtTMSElAsaf3WJKaZ6rszSjqSJKAc0ZJZLtLvJxpyglTKGh880bXLpjkpwR1TbPR5LbLslOe6VFJlbRLDHu3ss7V3iCgFdBkMXNN4yVeiD/gvPfuZ5/MyXNK7Vxtubfn9+69JdBdTotpzvvXr/4A7ewN+8UsvcDC2VFaWXa/6Q3zelY7L/1f8lXUwJsa+fPkycLP6qw2O35TgWmLwGXD0SdOUyEuHQ/7iV7bZGiTNtf6Er477x3xCD0ACSaA8+XyaFaiagND0qkAPHOcyQxIor6ICfnzs8HyQZq3V84o9s67MnkGZ/DBmBdYYtULH9YrHlGj5+UaXHqnON49zYHREMNl39ymb4pMT5jMKyeckDhib68Cdw4dIe5JockaB94nV02WV375xVF+O1C5anKSFrHU9bRBAsIXh5kh4ZARTD+j8gtLC3jCJqkaga32+kNmJDIHjyWLjm+SFwxFFlbq/aFugderuY0zKpPsYMcoxtIoalRbN6NEoBsYsnd3KqlRD7iLedRA8Ti3o4oImOoJEZouWadPRtJ7OpzmAaDo0XkwS/BJN1AkHtBu2Q9+59gJFUfHso+9y9OF3uf3mN5JWQnZKjQhtO+PBe3/A9v5NZtNTxrvXmJ8fMRiOQFeYssIoTVWNKIzBeU9RFGi1xezsiPniIhGzfYvRwvT0CUYiW9du0k4vePbwQ2xZMXnyAfPpOV3bpu4k08lGYxCSeGYMDhcVYd4gmqXwJUojKmDwVEZRqEBpBKsEK2BNoDCpG1WUxCBzKsVkLipEa4IyBF1ANSSagtg1aImUVkGExvsk0BaTUnqIChUD8jlFzH70+JIauQC//e13+YXXhSo2WXdcUntDSfeqIn2/FVr+6s9/kb/333/A9x+fkOW4OTk/Z+/WbT66d8RsnjKBKkZ2Ks1P/amf5Ne+/ZDIZjT8S2YT2ManhOcGT36A3bvJ1qnHDHcQEUx9DX1+hq5q1N23kMU57dEjzHgX2dqnqmuMn6PHB1CkzL/3LmlFFYbm2SmuGhLPH+Fdy+DuG7TzOd14j85ocKkemm4KZRJ03sTqMgkY37x1i29nGnUk8Pa3f5s//INvMRiM+MU/+xf5+V/81xBJnQu0Nhhr6dqOwWgIkkSqAUprGQxTiUMzn1MVBcNBTVWWVFWZ8I685i4WC+qqZNEsKKxN4GVMwqc+ONoNBf1Sq1fBtT7pbwWW5UMxwsnJOd3FM7h+HdZzC4G1NhAZ2BAB0cuAEFm65GupkxVQs6JRrsAQWTaOXnvtc8wYwTmSACcQg6BtYh3OG8+TJ09gcQLj/XwsvYg9ZHQqf7z0HjGXgCfUstS4x3IuZX4i6dyEtTH24wubOYDNbE7btoyGI4qyZHT7DsPhkPfe/R4+eF544SWapuG9d77H9Ru32D+4xvnpKZPJBfUS+K9pFwvKoqCuDrKGTeIuON8Rs87J/t5uEqYl6c9sbW2nsSnBu+T8NG1DWZRcnJ+xv0FAB6ByB54ys2YkM2qsVhRar1g0RlHYpLthjSyf67UDVJ85yQGN73VoMkjTdp7OBbROYE3wgSbVQKB1KuckyV0kAVvZXMNCYsAoRT0coJRiPHqJrfEW773zXb73h7/P/v4Bk8kFs+mMN9/6MnU9YDgc07YLDvavoU3SOyL4zIbbXma7ITIcjiBGJhfnlNULy6Dn/PyMre0dtEqzP3hP0zapfME7QvCMx1ubjSE0FCpdhyRlL1nzadU4NAmRGiR4rEqgxrgAFRqGgz3quuTkyT12tvc4eeYIfoHEhulsSvQturDp2rRzrFYoCfSV+irf7/29H0il4e3snCcnU77wnONfLBY8fvwk6QsSknYioFVKkvgQ8HlexOCIPtDF5N8QXP78lEwTSQ0CxgPLbg0/8+ZdWjHcPNxmUGre/eA+v//9jymtYd40dD5wMVlwbW/M5OyctgtMpjPOLy5QSnP/0Wa6QCavF72IqRayvowQYoO4bsU0gbR+utQ4oW07VF1TFBZrNVYpnMA1CTxxGhMjnWvxwRFDgbGGoBWPn024c32R9PKCBwJaJWBaJKbOOmFG2DAxmsStP9V+OzNn9JIl0yd3c9ygdRLXXU/0ZpFdyaUxfbmT9wG3BAxT4O/RxBiXej0ArHWLhUsh6nPtUtc/EabTyZJxogTeGigWPnLURKqq4MXXv8L2nVcpihJjChBD4yQnLUgATe502wdzaftQ+V6WZS4iLWNC6r6X1mG1BGk2H4MPMQeB6W9CjFycHFHWA+rheEX+lNQFSRBM/j6GiJeQWTTpNT07sV9fl8F17PVnegAtCQ3HnkmzZOmn12+IzwDQukCHQ0kCor1zeOcoy4IuJFkBiUlnptcFRhIwUyrBZN0so3rfNceRMYHEWqWbrI9xtVYEpVH1EIqa4Do0AWs0ntShKPqYtC03vA69pYqs5ANFnWOGmNaa4DvM4gwV9tJ6FFc+0wqPWYEtS16LrH/9Ef5Pj8hc8pXWXrVhECq9X5N9HwkNtHD2W3+X/+IHv839P/sr/Mov/hxfevkmVW0veWCrQ++PIwPMa69JwMtaUXxcjf4SYLP2uwQArqCdzzz+kFml/Zv7gDYerYWvv/YSr735BXRpIbbZZ5O1Y16DgvrBLIGcfF7XWdyxZ8ulc5YkRHLTGNbK/xBMlFzu9OPtM0Ea0yPhOVPVO0LrTJpVfWnK+Jg1sCb9nKmNolfU65icH9/7tORLlo81CCAOXKLahbxQ9IisxEjQm00ubRWuC1ilKYzifNEi5FrzKNR1wXTegSg0joO9kuPTBXVtOTtP5RRKsiaZ61tPprrGgDAA5iHpuhwMLDfvHvA7v/MxD047wqeDhXzIRakoo2Ox0QhAD3YoqhKxJShFGxUDbXDKEqREdOocVLMSXTJKlqwOTxZMlHQ9bFETvaHtHNpaTDlgKJHKQjM7Zzqbs5jNcbnTU4wd3jfEGBGtwVSILpPa/IZdtnw3YTDaYv/OKxx/8j6P3n+bV7/8zdTW0Bqa2YQHH/wRpqioBzXN7Bxry4R0G0NVD0EMThecHn1CWYxw3YLF7BzXNQgwqEecPrnHfHrKyUOHKMVxM+fi+DHaWHzX0S3maGPY3r/J0YMPKesRW7vXNxrDl7/4Is8uGiZnE7zvEjPMBYpBRYzJOTFiKJyjUIpKJ1X4SvcCwkJhyQ51xHlwAVoveKANMTFpiiQUKJmurpVOmQnI7RuzA+EDgktlChtTyz5la2tPwRqhz3XE9gLnesHp5LALAUPa8Ergte2O29cVaj6lkEibF33deubHT6mZUurVtqFE2FHHDMwfD1QyWlMQMd2n7p4YqLd2sNuHqEc/oNi9SWk1i4unlLs3KA9uIu0unTHYesxCAosH32WRF/zh7TcY33gZ1zXMz48Z3nyZ87KgPLzN0fvfIkzP2OrmUNXEqsIDrrnAN1MiAcZj2sFmwVBVpjKUn/j6T/Dr/+wfc3ZyRCQs2VjTyRn/8O/9XR588iH7B4dorXnttTe4fv0GbdvhmiEHBwdMFwu883SLBZSWplmwvZ1EhbUSCqspiwKlhPl8weTsnEWzIIakc6VUhOgobAFW5XbEm7URj/1cVb0eVpqTSiVNF9d1hHYKsSPNqv4BuTg9idjkdohIQar3S5u4xEhUPYLS79jSFzOzBEEgv4dh2fd0U4tczqwKlFYzMELXwodPLvCTR+jdm+m9c/eQ9Nq1zVskM4E0GWEiZxjy2NKHLd2oGFeU0NxJiCirr5nNuIkdHh5mCnkWoxTFaDikKgu+990/5Pe+9VuICHduv8Brr75OVVbcPLzO+fk5IQZGw3FiYA2H9Iou65lQBEwWbBzt7xOB6XQCIRC9px4MaJsk2qiUYlBWFAcHXD88zCyc55sxOosAJ0HgMgd4WifGTGE01qZy3sLqDNSkDKQ1OgE1PdNXWLLC+ox75wKd8xij6DpP26Wf2y7RjQubha1VyEzhgPIeJwG1YXunvb1dBJUve5qHN27cZDQc8vvf/h0++vB9RqMxX//6N9je3kVE2NneYjab0nUOrWA4GKLXShVd17JoGoSItZaiqhgOKurBgBiTdlBXVanc1Vi6pl1eg1jCoEoabxcXmwk4WwLRd4hboGOLXjr2GaTJnYQEMHTo0ID3fOmlPWI3J3YTrNXUNrBoG2LoOH72hJdfvE10c0TFDPh46roESULCEgOBhIyJBEL0iPjl97X2lOH5c8l3aa1RkhIjQtprC5NYWT4HRy6kcuSA0HYOIZUjGy0Yq5OmjjW8cnuHv/TNVxFtePMLb3Dv8Qm//u33ee+jJ3iX2CyFNSyalnnj6DrHxMCN3QGzpuP7H36EKSq0LZktNvP2dEyt4JVoooKhhoEWznzS/1gKnEZFqRR7NjW7mHae4D1dl7pb6rLAW4MWobZJsF/FsLya3geCtwiR88mcdz5+wvmspXWBF66Pee32TR49fIiyGr+YcTpr+PjRGf/jv/h8RpBZFwXWfYwga3HEKsGrlc4ATU7uGp3EanPs0Lfshj7RoPAqLJnsy74GPdiwZNTFNdmE3KmJjWPSFDyT3tO7jsVixQa+UShKI/zhRSQUBV/98k+grr2AsmVmp6qs8Zg6U0Vy3KBWZT79ey+ho9jvELnMkJ5BtH5IcQV4bDIEklaiigkYuTh5xv/n//V/5+4LL/MLf+WvYa1dxvAqsxczxyfLI6wYtpIDzL6ENOa9S2JE5ZiMzESDVDLYi/SGvMeFDDh/nq6eSkMXAqFp0TqC1kTSPWy1oL1fNi9WmTWjVPJlS507BBIpdC8KnASDfQg4lYEBEaJSBNGIMaiySmSAZpYYnDqVsWRFAqICo1JyeRNbdgpbdgyOya2RiC3SevrR/WecPnyf0bVr2Rfqy3PiKrFziYG0lgxaJrpYSxD1PtMKHFv6UL2P0v9+o0GQQcP8uVH1Nwfh9D6vhGd8YSeyXQZE3Arj6A/10hutbP0w1gjT+b65fIh9Lmv9sXkr9MRuSeL6LlUidB3aGpr5KbE5hbAAycqbKt236XSv+QA9GLaOiS3FgvNBrrVWob83Yu8GJn0auVQG+Nk3w2czafQaMKOzMvsaa+bSI4M1JgM21ujsXJm06K4ttt4HnPe4rJXSkBXG+5t6iRSqy1mcXMsYlaA3FA4OLp3gtu3onDAcFszmXcqmkNS/tUCpArVVTFsYlYqqMpyfJxV3rSLWFnSuzfdLmuSioB7WNIuOrm3RoeVmCaPacu58cjZYYZiq0Cl7g6asamS2GYPj937396mqkqqwFEYxGlTsbI+WwpxFPQRjUaZIDndZgFiiZJG16CgkUNiCqh7lls4mZc9jpHMhieJGQdsxo61I3TM2QtIz6LKz60Ogcw7vMlq+YTDhnMMUBTsHtwlty9nTBxw/+ICbL72FAh59+F28a7j54pupRelgSAiByphM83ZYA6OtLRCoBlsUxkIMNO2cZj5lNj1jtHuNwfYuwQUG21sUxQBTFJRlSYwpI6K14eLihLaZZadmMwbEl37yS7TTGR9/+IBPHh4njR7n8STHpFQRExN7ppL0c62hUoFSR6oCKhvQKs11F4TGRYwXFi4FuEEHRJokFG0tUenE2skbCURUdGkD1CA5g7Rpq9hLdjk+zc8lmuitrZLjSc2sVamkStJ9YknU/kJgqCKLmTByU+7YGSPRLEhZiuP7H/OP//ZDgltwsUhZWYDoW7rFnIsnj9dCgM3tMAdpeucQNzlZG4Bia7SF8XOql99icfSIYnGCGg5RizPqSmOtZveLP4XRGuGL+K5hdvqE2fkxj9/7A5599DbF/k1Gu4fYi8foxTk7tWVSluBqxu2E8vobmfkUmMeOtp2gDl9Im/D+ZmCfa+bsbG8xvHWdn/8zP89/81//V/QayP2G2rUNv/c7v5F1vgwP733EX//r/xZb2yPapuX40X2Oj484Oz9P3Z4mJwyHY867hqIsmF+c8E/+4X/DL//yX+ba4SGHe9t08wlPHx+zv7uHBEdtSqq6omlazs/P2drZxrAZkyaGNPeTHtPqeaWF7VIzbRwXp0858B2pHtilr0TA53ShJnHTDanFqFnmeZaQhjTp9TFCUPlrVhgVk8+XBtUDN5uDNBHBFprgI8TUBSLEyKCynEw97z6acfHkY3YOXwFbpzH0boFE0sDDCnBa9bJOKGb/szJEVZHuHgd+lsCrTJtesWdYgVBhs3W1LgzkevClkDzCndu36NoFb7/9NqPRiK9++ctYW+CcI4bIznhM5zpmk3MuXAJbQCiK1CGnKAu0MegydbHrmkVyeI2h2N5mazTEuY6TkxPKsmRrPMrMj6TvMpvPsGazPXpdd8bkrGapEzBjdC/gqCmLpLlW2MyosSazavSyJbfIilHiQ6Rzns45Wie0Xch0dk/rVoKgojxKpfIJJdDJ6nntN5tPpU3gimRhUDJoVu3tLYHTne1trh8e4p1nPp/n61cgIVAWFiMe36UW3IqAInCwt5MZBYq2bYhaUZnEMq6sZlTXTKdTzi/OGdQ1w9FoGRD54JhcXDCoy43G4JvzJKysQcUu6WUQkKhRMYCERPGPnu1ijhVHGzxPnh3RNHNMvODo+ClPnpaUwxlaRybTKajIbunQBiIdZydPwc0o6yEKB9ERQosSxWKxoCw0i65J4rjBoUiP584jtXJ3YxY89R46SawCrRJA7kICPNqmXfqXyxbwShjWBfvbNS9dHzPzirKo+f137vP+J495+3sfMZ1Mc1Y+addEgY+fnDFpWh4c1fyJL9/l+PEpc5cy54uLE4LrNroGopLgqyJ1eSQKnQuUfXCURfgVARvBuYhRmi2TzpCJAesayuiwbQIzVYSiWwUODlmeHzpoZ8L9B8c8fnqOD/AH34ey+D5d67FGsTu0XEwaPk8JptarhiNa98waWYExWqPNejyRk7oZiE3ga+5mmsWyQgi44Okcqfw9xw0xCoT1Vt1r+4D0gqRp79B68/0BgAiz+TwDFTDWwrZRPFhEqGruvvVV/P7tzF5KnT+XcZMGo+ISOCLrOcX+KPM6kQChnnGSItqVBlMGSPogPW89m1jPLe0T3I/ufcB7H3/C5GLCN3/hLzDe2WNdwDeEpG9kVWIvLkuCkMQ8jLncaalh0ycYEnumcy7FBmulT0sB4czA6Xf2Tek0r94Y8dHTBYsQIbjUDTgq2i4gLmKNWiYRlVKJ9RKFUgmlSuX7ViKlFqxKMgQQcSFVSnQxJdvbnGRVRhFDRyGkxje9LIUotJElOEUIG+Mb2miC92n986vrgQhFoYgeZrMFi7NH4GagY/Y1coJqFeGvclN9UmiZILKAWSWKAMRnH8WvALQlGqIyyrHZPZ2anKTr2GvqxMyEHNeaN25V7I4LSu2TjtLy7y5/XbcVdiSfAmhY5rF+CLAhu0kZKFz1DHvuRUiJr5yIEVFLbaWn5xc8e/873N7bg+0DMgMDJJWc0leLyKe0lCSuzQFJgU8k+aXIyk+F1aAACb1mVg92/kuANHodAdeZhqzzorukMK4xZ/LXPrtVWk1ZGArTAzXJ8U414p7GOVTLcqMUF3F5aenbZeEiUa9VlsaYkKvPEdoJJHq01bRZeM2oxGS4mLeEkACU/Rt7NB+fMg+wmPf6GulCLOYtCkmZH5FEl4twa7siDAccHmzzhdfu8spNy6/qR2nxaDyOPh7JYWqMSNvhXbNxj/exWVBrz8CUSWzQO9y0g+YcUxWMyh3G1RaDocZUdRJFEhAUg7LAIQQUxlg8mqaLLEIWBQsRT8SrpM4eVBYOVmkxjiqd+9SdKHXBMBIJKi/CfrObfHvrAFuVGG0ZDka4ZsqD979L182RCCePP+HanVe4fvcNJEb0ww8o6xHD8V4GUpKg5WC8x8H+jQQG50lvbXrP4XCAv3ZIUVSICGfnR4gPDLf3l12qiqKiWSxw1YDpYIRq5ox3djcaQ3QN5bDkxVfvUNQFjx6dsJh3FMGhgsMKlEZRYqgV1FqodaBWkcoEBlYYlJI7XkDjIotOmHVCVSii0ihrwFiCFLQYupA2mT647dfkJYApK7r/57JP3T55WVnuAV957TZf/trrFP/g3UQZJ1IJjCUyUJFaRQ6rwEt1R9d6DmzgpRLOnXDuhbsv3uBf/xu/wMP3H7H7G3+P1gc8cDKN/P67x5ydTrIjIj/2mH6UHRQ6aVO9/lVO77+zBrM7OLrH7htfp66HTOenLI7uce36C9A11HXNzs4edVVljQJBpCTujAnxFV5940u0zYLv/c4/4+idb7F39w12t3fxj36AvzimvThhfu/7qHbK4uyIrpmDNozuvk7bzBi9/IXMDHm+XdutiDEFJS/cuYE2htBezgn0czsGDwIfvv993nn79/iZn/5p7tw9ZDgYUhRvpWy0Tkyrs/ML/uA7bzNTin/6j/4B09mUX/tn/5g//ad/jtlsxve+/w4HBweM6mtMphO+9TvfYTqdcHh4naIoeOf7b1MWmwV0kMB2EcEUqaQy+pSpFWtYXLQ8e/qEl12TAYuOBLZ4wCVHpGfRqCo7GSVxORNzUBA7YJHBC5X8Fpfq9FM7DUlflc0OL2wK1HSdpygUZZlaPr+2ZzmaOiYLn6uyUsaD4MA1yXHqgZoYVo6UElbtiQRCPq5qBOWbYF8CNcrHHCBMoXsfFt8D3yaHwLm0oWQHcFPnqSzUUogxPdSSWVMVNjnYXYeWwLDShKCYzWZYY9kaDLl1bY9euDL0Dhi9UwZkx2xY7KAyWy9EBVERok3ZypyESb+DzgWC0VRbm7GyUmlGZoGqrD+TwZnSrtgzpdVUpaYsNJXVFNZQ2uRfFMbkrpLJGfIhJYK6XPYza1ua1uF0oMEzjx3axmWL4FZU7i4VUU6hfAKruw2X1arQy2ug1r56n0pkAc7Pz1MJ7LBke1guAyCjtlNTg2XGUfJ5X8ZlEMEXkkTweic2v29th+yMysTm7DXLYqBzEAepY90mpsQT3QLXeiQ0qEBiF0WNihqJKSiIHj559Ji9/V1cuwA8u1sVL776Mt/76BmvvnyT1m4z/+ADZDonujMwmqa5oIgl08l58hmlQ2KLjg6JHTEKbTeltgMe3H/IS3ev47tzjIbp+fMTWjH4XEoD0ScGgcmBm9FpbQg+F1eFmDPkSavCaE1pNXVpuLk3YDQecuPmTerxmI8en3F8eoHrHMG1mNhR6dTsr7Sa+xct954cESI8O73g6cmENoODrp1htMHWm+mVVXkOL2OxvEfanCQRPBJTcacipKAveKxkYFNBpRQDBZUOjA04L4xRzNFYEXqoOYSk5aKdEJvIfJ41DIFmlmZhMMLjyYxhoTncKTYag1Zr8cEyZlgJBfcsuR68WepPGaEwOt/vSZTa9no1pPKUzicfvu06pNcY6SIdubQmz3+JChVjKhPq10aVGnh8HgvE5X1WKmG3UDQI9fY2N177Elv7B5RVQVmktcjYHuBNfy+Z0SUKlCQ2Rc9GWJdYlSiZ3ZX8dslBeV/u1Ps5IcrG4EBK+ufIKXjeffvbdG3D7UpQweFCQPeQkdIYkpBxKmcK+Axm+hDxMbHPRLI2aJ9Q956mbZk3LU2XQZo1gIZc6tGXeagsQL5pLuWXfvJFHk7gvYcTTueeycWUrsl6WTGfKyVYUSgfKATKmACaUkEtkUJFShMpTPKdYwQXIq2HLsAiZE0aFdDKpdjNWoJSCdAkl9z180llWYANW3CHEHIyK+3/PdsTEQalQnWRk7nn43sf8No3zsCq5C/1AMsyIZS/V+S6SJ19nhIYZHCg90H7Y+sTSYv06Bk1QSUfxW8aR8flOejjWE0Csn72i6/ySz/zNUZDi0juBpKciFUvhdVUZ5ma7YFHuAx2kIEb8qFm8DIBjjF3eI4rZs0mQ/A+Y4QxY11pAoUQePfxBf/9b/4L/s1XX0ENRsmPUzE9Iv1EA6OIMgbpxdMDxAmEdlkFJAgxpJV7OZ4VspSZ4VnjIoZV3vIz7LPLnVTKjPaPdYBG69SFoV9ktZYk7JedqcIaqsJQWU1VGMrekY+RznualhXi1oM0Ki79XSS1yF22vsrtcj09ArVZlk7lebg9rlHRYbYqjo+m7O/WHE88d/dr7j+9oHMwe3aKArYGqU3kSb+AxeRIeueptLAzLmlc5MmkpRpoDkaKs8pQlsKcwHBrm0LmzKbHeBLYVZaa0HW0RKIxbA0LLo6bjcYwHiTnwdoknrg1HrC/v4PWhroqMEXF1rikGpR4YwnolIeLvfMpGKAwEaMC4yIJKLss/NX5gAtxDQFPLJmQv4/BEyTRaaN4ogp4SSJ9fkNxoKKoMMokttVgzMtf+Ene+85v8OTj9xCE0e4+L7z6Rba2dojeM37zazy89z5VVbJd7SKisLYChKaZEZxjsZhSVTUheowuEImMBlupy0iXKPiumyN4UIpmPsV1LUQoy4r9/evYskwddjawi2dHKGspoufWWHOr3uU7Hx4RFx2F1tC2aIFBqRgaS20iQw1D4xhYz6gIDEtFqVJXrXknnDdC4TVOFWAqMBa0oQvQdJmWJzE3g0oUQ2U0ylhsWWGKEmvyYr2p/dCiEJcMBkjz/bvv3ecv/snrDGqDuWgTACWwrQN3K89L4zlfPJjxxa8fsvUnfplvPL5Pe/YBf3gy5kFj+eJrY6xuKaq0IPUAkAtQbu2zdaNEydGm8cPSdqwQZxfEQcW5NqsMZYz4Z/fY+epPMawMg90dJt2MOD1OQryHN6lsgVVZ/Dh4Zs2C0XCY4K+hxcUxh3/+V/je7/0Lvvv7v8Vw7zrBd7j5hJ396xTi2B5WvPDmz+Ncx4e/+U8ouxlbB4fUVbFhnzMwNBSlRWvhjVdu8Rf+7M/zz37115lOZ0twJrFX0yqnYmRUlnztCy+zWyt2qgj+AjdLQfXB9RvM5h16ZPnyGy8ym834uZ/6KvsHezx+esRv/+avo43h3ief4Nopjx58hNaaw8MDDAWTs6d87533OD054/T8gr/5f/o/PHcM65RrHzxFpdmpS24NCh5cJLqryk4iPm9OscuPNmcZIDkQFagxUe8S1ZDktDaIe5iclTBJ7+FNav/nIQE0agXSiM8OSx/ebGAR2jYzYbTiB0cNL+5q7p8lDYuBVRhVgPOJCuuz49QDTdGl8Swjqpg2TStQ7sLop8C8DNkVXmZhlIXy6yAlNL8KnUuf0bmU+vebgzSVSUHRqptKCuBEhPGgRASapuXJ4wfc2H8TImzVW7mEMgWxl8qEAqmlu0nvEULg5OyC8WiItYm113Qd3iemx6g2SXuAsMz2KaAclRyfnm00hr4cpdAqiQSrHLDZVKJcLRk0KekzKDWD0jIqCwZlmbPw61n31G7bOU9pU1by7HyOa2Y0swVHiwm0c6IXtC6ojWcumoVAoRythKTT1jWI25A9ELuc+U8lJn1pg2DY39niyZMnTKdTnj5+yJuvvoxzjtY5CJHKVjg3ZzgcoERo2rRHuZBYNSZ3nHx6dsLB3u5Sq2beOJo2rX+aiCkMnUt/awRMoShMwdn5Zl3nbFjw4eMjzucR9cIeSjwSLYJGooKYmG8hRJ48OYE3pzTTM/7w++/zZ7/5MrE9pVIzlHKcnzxGxwV7owgSOD8/4+TkCB069vd2uDif07k5wZdIDKjYAsJuCSq2GDw2NJwdP0vdq+wm1yFkYEMt5aD6Ehjo9UFS+ZNzSZNIW7Msidrfqnjt5piX7lzje/cv+I23P2SrVDSd52La4LoO5RbsDzWH2yWjyhJi5J9/9x4En4VVYb6YJxFj7ykqS2HrjQVrrw30sjTH54BZMniqJaKRBCpJKqXWojCSysYMjgJPJYqx1oytZq+Cp60iWJggdEoTlKZFki8qEYme2CQtHtOXTmQh77TWRrxoNivmzUwatdKmMeuxQy7F7wW/jUl6NAmENemeLzR1YSitpSoMxqTr53yg6Ry6TeegJxcplTtkSkytdUkJgL46pAc8IIGXn8f6bc4K7FpFYQyDnR3uvPYWw509bFliC7MsvTRGLzvNQf78XDGg8vaUjimDNJLHEiSVG6dPpS93EunjnVUwGzfcG/qA1OjEFpnN59wcmNSBrSxShzZJwLjOrxcdcxl0n/xKwaTq2TC5GyIh4rqOWdMya1rars1M+9x5LoSsKZXZQZkCpMilXxsyaZ7KkGvXa8Y37nDuI2dPjnj/g4dML2ZA0vNTAkZCEv0XoUKlxKiK1ApKA7WNVFbQOu1xrYcmM9hrlfQglVFgDUEZuqhSgxgSMKXocnyaj1sU1m7Wjj7mqg1UxAwMKgSGleVarXk2d2xVBW7acf/JMTSTlNyJLgM1jpWv0SbGsMoMARMTUmxqUAcgQ1BDoqQ4CRziJxBOIDYQzxKg4IBgElCzoVzF8h7qy31iJHqHGE3o5qjuAvGLdHzLt+zZYqxuRNU/0YNF2d/Nb0//MT24EaGXOVk90jXsOz5tEkMoSSBvDP0dlo/QBbrOpXyh+JSM82EF0hjSmGxJ1K8Q2VrGWmkkLchDCE8gZo895mRh7BN2rAAa79LzUeWy9pC+/wx7DpMmL4BJCD4vtrJGUUyiWDrX6K1Tk6tCMygMg8oyLC3DKrFpfAw0nWJmBDXvmSoq0RbzAGMQdFBEFUGvaOzJF86CS5tKWuSrMa41e7sjHj05xWnNLKa2ySymDOoCQmR7r2IyPUXZCmMr5PgpEsmU0aSYf7A7Ymer5ujolMoWvPLCi7z33nt0zYK2mVKZa8jinEkHPiNESkUq7ZGiQi8cw60Br9+ouHf0ZKMh/OTXXsTYAltYjDGppEknhxDAWIMuhDYsUF2L1YqqtKnOX6vUCYqe8SRQDQiqBD+luzihmzuiKFzbMZ3NmM3mqNwZI+Z5YKzCB0fSTvcE5emCI2zYDtDk0jeTO1ZU+zd48bUv8e53fhttLF/8+s+yu7ePiDBvFhS25MWXXufp4084eXKf8dYO2zvXMLZgWFWcnz7DqkhoZ9hqQFlWtPPzdK20wWghDEfo8RbOdUkwdTCi3NlP5VvOMRpvM5+dUZSbsQe++/vvoAcD5m3ASuRLt0a8eljx/v0GY4TFPHcdKFKbzkpFBsazVUW2CtipDcMqtVEPXjFpUrunUiqCqZEitfurrObi4gIXEpssKKEclgy2xlTbIwpT4KPBk3Q4Qows3AYr1Y8xQRhKxEVoSBvofDLn+PEnzBc+tQ8nMlKwpQMvjub80ktHvHDXY7/4CnJ4mxdemmHvn7N93/FHx9tsjQ8QK9i9a6ntIGmDvjYuePlwi3/xrXvc2YYPTtOtvOnR71ohDiradoqthzQXp8vfxcWM/cpQ2sju/g7ffe/bfO1n/jR7O7tYlTrIKIGL81MeP/iEg8NDbuxcW24CPgY6XzD4qW/y6quv8U///t/hycP7vPjW1/jCz/48471rONL+6EJk+5f+EkEZzk+eMqj0xkmJUk3ZGe5QFortap9X/2d/lcn5Cb/6a7+zelHsa+JTNbj4jpdvbPHWm3e5ODtDxUjTNLSd54O374HAbN5ycXHBn/iTP83PfuUvg0rr7aJp6ZxDKZXbDXtUZv2E3J1hOp1ydn7Bw0ebrUnrFlwgBDifBa7X0HapDKAsh3kzytoyoXc8mgxGZOfDRKK+Q1Rbq8yK1GCuI/5+AmlcBKfB57KimEGaAAmkcfS5501Bmsw0p20iqoqUVnNjmPbkZxPYsoltldg7LoE0oV05TzH/jEufr2NKZNUGbrwF+mZ/MQG5BGwJCuwroH4d5o+g86mVjFsDajYw380o6oqu7RiOhvT6/CLwwo1dhoOayXTOJ/fv882vvo4WxbxpOT2dJGDEGLQk9qqxNjEw5g2jnS1sYelcYG4CzfwcK1VqBy0dk26BNRbvUlZzUFkiwvlkRl0VxBjZGW+WeS/XQRojFDmQToGbSsyZIrFoRqVlb1hRWsOgLKgriy1sElM1OpHZJCbyU5fKh4xRWOk4f+ZxvkvtWQmIT13zJAZMFMoQaLsWaRq6eYv3ZNHN55sKCwpT47uWelhfYtN89a0Xee+Dj+i6juPjZwzeehGvwDcNz46O6YZDqrJkdpbaZs8WDdcP9qhLTVmm7Ots3jIs4JOPP+SFO9dRIgxs5PTklPFwROMaSlsxGhVMp3Ma53L5COyONyvntW7K7S2oVUC3p6hQIqoAbUGZxBTUmug8ElsIC1w35WuvH/Dk+IQX3nqDdnpC9BNmR4/w8xmDgzuIarl1fcjh9W2OP3qHstjitJtwfDSlLuDi9IzDvRpBobs5YgfouMDEOdLNUUGzZ5+v6WJEcleaVTClJCUT+zBXVAqaxpVmd1gxKoQ7+xURze7YUlQDLprIZDrj9GTCXEduH27TTFp0bLm2WzAoFNu1ptaO731yTLtoMESCRKIPhM5jRCFF6ugVTWImbGJ/42drposEcESJXMw8pxeB82mkbZM4KqGPHyJWRSotlCpSiFBIpNaR3SKwW0XqgbA9gSMvTGJk4j2zGOlEpfVKIEhIZdWi8DGAFqxJ7ILWp71OKXh6tpnGlFaxnypo3ccNLEGydbBGSfp+yb7PAM2gNAwrw7AqKKzCkzr9zJusY0RKpCaZBLWMIUIIBJ263fX9U9b5aRsD+GQWW0zkyF2jqI1ia2+f26++xtbODlVdUFmbgD6jMSbpsVmtM0lBLVlLqdRLLTvc+gzQLDtmRsFlyYc+hk1skZ5TkHRRUmy74f5GEscXcuGM0tzeGfLKl76GNYb50TMiHfr6HUKf3BCfWCUxtbOuTeqMNm2T+DoS8T7SdI5p07BoOrrO4X2A6FH0ScW+dTgsNT3y2GTFD3quPbhoWWCpbINRhsPDHcra8vij+xydNei2TSLhMWAFKqMYamGoIwOd7o3aBAaFUJeCziSG1gnTFqqoicYixibZA6PpfKTtUnn2kh2p0vJXFEVqYFKWFJ+DdQzgu6S7ZQeKpm3Z2y+ZzCPHkxYtws5okFjFgbXElss+Rgu+SX6GcqAdGJd8qPoA7NcJ9hap5KlHSSJR7SBhhLQnEE/AzXP9p82+1IZdYUVSPk2RNFXyFAwh8M7DZ3z7W/+CPzkeIHs3WHbqVLBCUnu0tNcOJGWD8fRsq8sPWbFeIonhlZAZ6Fk0MXdr3ujwBa0TAK5UYrgCyxVicnaOP3mIGR9mgMavGEsFUL8Osst6pJK+KxF1F9Q5dM8g2CV5KYEzPZMmgnNE1yIhgpj8nP+XK3dSavXQOk3UfsE1WnILzJ6uKLldpqKwqZNQXSpGtWZnYBkOSsrCJGHMtsPOezQ80+JINc9JWEel7A19N4GQWp95lYO9TBvfwPo22HPXcjqNfPnVEY/enjI7mREiGKWJRcW2mvPmC9d5+GSOn03pZvNMKYXtSjgYGI4mnnEJA+M5xkMU9q7tc/Q732Y6C8znLdeu7VAXFQdacXY6zXTJCF3SeJl3wMkFT8vNg+qxnlCVJaJUeq8mnXtrbVIk7zTK90Js6VpIl2ii1qgkTlWolHrZGSPVV9Dd+8TjRxjfUQZP16buFyo4Kutx3i9V2oML+MYlEUUXE3UseLT3G2d8rU2aIMs5I0Jd97SxSGULSq1YzCcYIviWRTNne7TFzet36JoFi/NjBqMRLgQGZcFwfA2l0hT2wRMHA0pr08JqDYPiOi54Tk6f4ucThnt7GKOJWmMUdM5x0cyp7WYL1emi5fTZDBeTcNn9J+fsjkua1lEKFD7gJVDHlmHUmAEMVWDHRq4NFdUwJFZiqdDOsrWoGNkRsRqzmDSEqNA1QKAuBujxmOpwH7M9RJclgsa55Ky1TcB1SenedV0SWd3EPjXtehdGEfFLPk3k2v6A07MzJIullQpqFTkoPS9vzbhxzVO8aeFr/yZsfQ314i43HwQmizmPpzXKXyBqgEzvUSqNzj08SjyihT94/ykv7ZR8ctbwefClsXKgPF1l2N7b58kaSOMWE3Yqxai2PLr/kNs3b/LijQNKY7AqgcfNfMYiLjjYHvClV+7SNA2dd+zu7mUwQ2imnuuvvMj+v/Xv8N/9k/8v9+5/gjRT9oe36ULM3dMirhyxaBooDcNSb7giwV7Zod0R84uGvd1tfus73+OTe/eXLaF7dmXKLkQkBJrphO/81q/zC9+4y+1xncon1Yhm0fDuu0d8fO8xr754h8OD19jaFaaTY+qyQoliGho6FVBKWLQtH99/xLVrB1Q5E+yCx1Yte3XJ7f2bzzn6ZOutu0XANxFdKzAwLBVNExlUwwSmhC5nbzJDxDugAd1CaGD4IlFvrWVgAIQoAwQN7hRaDc4kx8JnkGaZCTIgXc5IqBRQbjqGkMtZF2m3//YDuDmA0io8gmsFFplBE3oAJTtMfpG+j20ejwMbAAvSQqbgS/owLg8wuwduDtOH0HSZSRMzILXZTXF9x6DEEwohhCmFStloQTHetdy+ts070xnHp+c00zPGdUkVHfvXR5yeXjAeWJrFgmFdMpld4LxjrBVlmKI7gxXFcTvh7Xc+4tb1A167e42D0YDZZE7bTakKze72GK3Teloqw9nFBYumYzDYzIktTdrPEjgjWCO5zEkorVAV6TEoNVu1ScCNNVibBPM1C8xokFRWUeAF5UE3HW4B0QfK2lJXgfPjGbgFOnQMVKTzgTbErO/R8sm9JxxfLNjaGjAcDTYuj7i+o1HKQQFNe05RFhilmM9bbu1VbI8qnh13fPLwMdPzp+ACQ6vYvbPL8dEpB5VBERluF7ROCHGKayKuiXRe8N4TFw3vfvABoxJuX99NQEzsUH7Kje2KutaAoyDivDBdzDk5mTIcbnYdZD7FNAuUA9VOUwcPne85ZSADNqFzjE0HboKRhipOONyJSPuUwahm0c6puWBycYTerogcQndOO3uKjWcQpijVUZsZOk5YTB7B1j4XZxdopRlsQXQzJFRM5guGI5OytM+xnoWdWNmprCSJ9Iel0DkxUBnNuLbcPRyxW2sO90e8dDCiGtScdIr37z2jXbS8fK3iYLviB/eOU1Z+ZNA4Slqq4Lk+FP6om1CZVBqiRKWuLcoQSG1WiUlwf9MSlRcHHj0GawVtUmmFRMW8g+MTxWKWup0mcY6AMolhY4HaQl2DMh5rI/r6DpSK6qzl+qyjRei8ImbBV7eA2YK0wYswc4GZy0KqIsy94mgOZ22gC0LnNs+6p8RtrgBVqeHBKm5YadEkcDbFDkW+7+tSM6oN24OC4bCkKi0SI/OuYzpXuYleYu9demSwpi8rlUv/FDoH3Z/HlMCOUexUBVt7uxzcfgFd1PgAnYtYk0GjrDsTcrInCTYncMvHXPooiSMTMm2gT8BAhOyer2fpAVKJjUO8Q5mcCNpwLhUZCPMZaNqqKrZefpO9l75KNXnGt3/91/jqF1/G3rydxxpQMQF9osD5yEArRgXoEOkkUKrI8dwxdY7oEyhjVCrFI6qsPRgJQfCh1yiLOYGVDlzDxsLBv/Pb73Brf8TNgzGjrWESvw6BL94a8XFpePiwpdQK1ySxl0GpGRdQSWRoIiPrGRbCqBLqMmI1dEGYLBRSaJyySFmhy4piUGONYjq5IIRUfmqsYbQ1ZLyzTTUcY4xlEYQuCG5DFso6O9q3kVYFbKF4NGn4yu2K3/jIUVnF7mgb9CCXdUsO9uNaGbTPvsYCVANmAVUL4z9FsHfIdJC1T07ASFS7oG8g81+HJkBTJF8qmM1Bml6HKLAsj+5rcZ9OFty7/wnMT6DdygtxZNkCVkvaP/Qe0eyRhJETdCh+Cv4IwpxUCs6nwI0M1oS4xjAWVAZrYoioDSbTuuh2TxQMIaJFcC7w+HSW6FXzCcRFTroBVhGLfUTtZtD0cleq9Mka1B5072UfFXC5PLCXFfIRXAudy8wyk8Aa53kODPM8kCZmNk2PBMuSUWP0Wich09eTCoVOqtqlSfV2W7Vhe1yyNa6oqwJCoJo3aJUEaZ13qQV2SJ2CUk1ppgLF3FpVep2a9M8BesO7XMUE9FgfWUxawmyAmrdYiSwQzgOE0DLYraj9nLHVHKuKtl3V1s2awIWCsYX9gWIwqrk4v+DRJBC7BW/c3mb20Tl3bt3ANY7xQDNqFzywkXOX0PAKod6zdM8cXRu5/2wz0WCAcPqMxYXOAs6p5jUISXi5r2HWKtW9aoXKjq61ClVCKCMyEmSnQsq3iOo2mB8QyveI5wvCNBBnkkoW20DoAl2XtIM653E+tz0M0DSOtvM4F3K51GY7RlUojM0ZUq0yRTHStySPrmFUFWwPB7RNu2yvXVcjtLFLVkHMPbNCTDo5IUpqix01Q3uQan7jqiyOoKj2r7E/GlGUVabKeToFiwjbW0OCr553+ADcvjHEHs85u+honeBi4MHRhNB5agVDq/E6UgUYonAaTC1sF0I1BNlTsG9gXMBUIacKIxpGQnF9j1CWYCsUNXG8hVRFQnRdl7L4XYNuA0Xnic6D93SuRYWUIf68JuuP2OeZ0tdnTvOddxfMXG5hKDBQgW3rOag7ylpgq4LtnwRdwnAXsamcNsbIB7/5e9z+E38JNzSXGQRG8+iDd3l02tA2Sbjt89iT7/4eWoSXv/AlTg8OePLRD5a/W0wnuIsjhuNbXN8Zce/4EeMCSptYofPZhHe//zYHu7u8+fJtYjthWFhUVTAsUmLxk2dP6Gbn7N26xt74FuoXfoH/53/2n3Dvu7/P177yBQJwfHxM0pLQPHt8j+s3b2GqzUGah9//NlWhmLeef/T+M/7zv/8tjk4maVFfEptzlhFQMaB84Ojeu2h+gJQKjAEjFNvwhRs1X+SV1Gq0m0P7gEIFVFTELqDF8f33HzAclmxvDXl9P/Lhve9yfX+cgHcldCfnFLZgsBm+cclEBO9S1sNEuDtWXGhBmwrQ2RloUysOn+YtoQWZJaBD7cO6Iv7qnYlSIYtzWJTQqVTy1IMzPZuGJJSenlOgN2NwXLLMjpp28GQuTLrAsFBMzmDrIuvjhDYDNV366hy0C+gWaWNXC7AtzDq49TtQfB1Rd0i5w5WgX+z/7z6ER78BJ0fJeWpjOkdOJdbQBjaIF0mgU6f2oAWKdurpOk8Imjv7Ne98mMQvv//Oe3z5hWu8cnuLjx4+YLdQHNbCcNeA95S7BUJB5zq09Tw6mfLw2YQH954y0J6v3a0Y1C0Kz37VsjOuKQtDiAt8CDTiKG2kGEYWBTw+PtloDIXxSd/DJPF+bQxlEXMLboXFU4lhbC21EYq+rEN1aDdH+Tl0Neg7oPdI2TmHVIK1EX/e0J6fE7oFg1Ihe0O2toY0QeG8ZzJfcHE+4Vu/+w7/7W+8y6xxDIcDvvnTb1JseD9U4RxNKqOptMKEOV0HYdrS+YrDrZJnx+ecnl/w0Qcf85UX9jjcqvng/kO+dmuHqugYFIbpZMLBfkXTBerSgIo8OJ5zseh49737vLhb8I27BaLndCEyjML2SKO0I8TUEMEqhyOgdMdgV/Pw6fFGYwixQwjQtdBNkgOvdO8AkijVBuk6DkaO5uwharGgW5yh4gg/P0bac1o3w5qWelRR1QUoR+s6tAWhY3H8EXERKaVF/DnBXSDeosIFk7ZmUJ8xqBfQXXDvk4fc2L3J9PT0uccvMeR9LGV9tUoZe4VKGpt9+agSWhc4vljwpZt7bG3XHDWBKjbMZwtOTs6xOjKuLR/cP0EFx6AQKnGMbGCv8hyOAze34f29yAu7mocTQ9AVi6ZJrEXRuM4lRkzoWX7Pt5OzpCeYGOqJxVCZiJHAYRGxVWKeyBIJkSU6FVRMdTk2onYEbl+HaBH3LnQGd2GYTjVzr5g5YeaFhReakH6+aCIPJ45J7jbpM8vSxcj5yTPe/f7b/C/+w/9gk5mEEp33lgzU6FXcYNbAmhQ3qBQ7mBQ31FYYVZqtkWVrXDEcFGiByaJNDOngc9wg+CCE/IhG5QRvSvKmth8hQzSCE8kB0uY20sJ+Zdg72GHv5k2qYbVk9tlCY3XEqkClYwKTbaTUieFU6FSuqSS1fJ9HSQwAUUn3clmuyzK+1pm1seT+xKQTI0US1U+gx2bHHmKk9anzrMTAG29+gdl0yr0Hj9geVLz1kz+BiW3yo0PEkebV+SKxI40IKqRHpSKVJE2WWsFcrXIiEliKAy+7wGUgMIRUYpaOOV0LVNKA28ROzue4pmVyfMZwUOBQzBvPzS3Li9fHnFYafNLHW3jPQgJDEYoiMlCerQK2hukxrFLMuvCasjYcFENUNWC26AhKYSvBR89gb8Boe4udaweEakQjiSXa+sDUebxzhC6tt5vaUmw3RrpFkvW4WAht67k7ErxT1NUI1CCtuyEkP8n5lOBy+efQpdJrmYGaJlDP3OKHAZrLFvUBMj+CCdCW4P7/5P13rKVbmt6H/Vb4wg4nVq7qG7tvx8mRoyGHcSxKHgqiaJqwJcKmDRuCbREOEAgDhAEnybJhCRBEChAhUZZpChRJW2IYksPh5Onp6e7png439M11K518zk5fWuH1H+vb+5yqW7dq1+0mBZILqDrn7LPPt7+41vs+7/M+TwZiU8Frnf3X6lzTZbXRXu8oRGbzirg4w2zs9qFcTF8zDbmBwSvE7MY5iwaADLElyoxQ8c205iypZ6EHZlZgTUznYtku1M/xKsS1Cikr0yGWFtgkURCjCQSmnRA7jzQNuFOQBmVCQki2tlnFp+rDUWpiiOXQzpDGo3xEfDxnRUcNUSNdkxx5pY9hgyBOINoPb/PCeGIIcnBwzM7uJiMz6J2bEhJpDGQWMitYm75fTbK5pshgUCSQZmOQsb1Zcml3g8GoSD3Y0wVI6gXrvEkCa4F+wu3pVNnS4amHZnpgTvXo2VPauM4vjgYCzNvIIPO4LJBZxQ/sGt6Yqt7SN9I0jqgiVzeEyTwxFLRKlNKBUdy6uomaz3luE0Im3McjPnLy4H1OfYG3Y0qpublznVJaLIkCm54bRSeKbqFxPtkwbw01J/V67Ie/9etnPZtJo+1FJfykgJ/1LVBL5ozte4JTxTEh+qNSsb0Ju7vvY2/9Jbo7U472PaczTeM0jYss2siiDszrLvVrOk/bJVAmCeEld6cQAj4m1XbnAv/KGscwLnW/KCcau1bpawLYhenxAzZe+RQqM8kpBI1RureWXfaFpkVOpz9J7KooCIa6qRkXSRlMSG5SrQ/Y3CRng2KICw6lNT6kgC5aYWNYcnR8uNZ1+PLrBxiSvWeIKeBQ/eLURoE2ogwcO8EEGJAsMtW2Ru0q+FQJO1dR2S60NVzZRQ0+Ddmo76HvSFlaB1IhzFAuQhugjYhLE5Xygu5BGuX7ZHFN94gllZbzLwA0y7Cgny02BgM6lTF3Z0SBOirmQXPcWT6Yldw4dFx/c47e+U9g+Nfgm79Ctad487DkXjPgx65vwOFXeftLDzit/YrFOKkcv/z1e8wczJz0wmzrDx0ceWYoVcRozjnJQAyBs707PH91h/nxHsdHe7zx7a+jFVzdTaLBL9y4wng44BNXdphOpxydHPLcrZvk2pOVmo1SMyx32BpYfBSeu7bLZz/zab7+u99kuvcBL7z8MlkY8urrr1OUAz7/6ZfoQiQqj8nXayt477W3ubxV8sXvPOBv/tYH+BDPqy19xUnBCvW3SjACRx/cwR9/FX1ZI5tCHLfEfIzNf08S8FSvoeMUORqgmoz2LEdmjtJYvrAD0QvhTPBReF479t55n2ntwBq+/e4xn35uh9GaTjDQV1SWix7QVoF3Djqe29J4lRHI+oqQSsGAJ1UrnOupu3VyM3jSEhUiLObQdH31x6TteUlBhipALYMXjWCIOj6lNpFGz6Zd3fMhCLFX9R5o+ML1LcbFJu1JhZKQqpniUMGhxEF0qBDBRaRNtGSlaygr4JfgxwQu/RugbyZAqRc7VgD+A3j3P4D3vwmVgdpCqxGfETpDDIZ1roRaHK/23/jIeJQRYrKRrtrAJ4rIMNMsOs8b7+3xg7sKdTDjZXG8OMjYUBVZFKYLx83LQ96+M+f6zoDRMGc6mfNDO5oXygF/++t73Ll9j5euDhnkmluZwXR10rKwqTpfxkjbN/z7OpI367VH5Kol15qiFw820pBFi7QOr2C8MWKcbzGwipI2tTkNC/KNDAY5ZFuQb4P+AjAkcaQPwOxDGTFSUhpHnkeKwlDXLU3rmdeRvZOatuuYT8/4za++RV13OOc56zy/+uvfxLLevNoc7lNmmrqNbA0tg1xhg2I7B9+d8v07mrfuaFwIvPbufX7qkmND4PdtKD6h5tDBQFviQLNVZrw/nVO6nL1JRBbCp3Y1+QuW33n/hK994y22xznXtguGGuJpr4FjkptgHqGLgrjIovEM/XpxRjXvOFk4JnNHO68pCpvaM0wPBCyzbe9RsWPv/gOGeWR+uMe+ucLOtTFucYiKE8igLBJQpOIxZdZgdMvZbM4wxsQ2cTPqheLk4IAXr1gIFdI1SFuxk1WEao7tjjjYixycPr2olZmlaHNKghKYAUZHMpueuyI3DAqDi5GTWcdvvHXGzlbNZNrwA8+NeXuvIvjAOIN7B2cE17FRKIZWuDQQrg49t7bg6hZcuwy1HXH3eMLCaQ4WSWMwt0nwPzGEDTEq2jV7YT+YKiJCF1w69wrKLE+W3CEJsSZhbbOKj3t/qmSHHCJDrbhRwMYn30ei5vBNw3u1MCFQo+iAVhTzLhCUQWc5DqiDRg1zdrKcKL7XI4wsqopf/u3f4s4Ht9c6ht/6ja9z6dION29e5uqVHfLRAGtS7pC+KmzW5w1GkS0Zc5likCuGpWZjkLO1UXJpd8h4Y4jWisG8QhPx3qW8wameZaYIViF9QneetJ37PAVSi4Re1xoJKJRiNzfs7G5z6cplRsOSQWkpS0NZQpkLwwLyXKONYI1HS4oJU0uQQ6ylNDqJO4sgOrl0aqVJ8HNag4xKcWVhwepUiNRK9wSCmFo8UMQlK2yN4Xyg941KbRbGYGzG0ckREjZ57vIWutii6fx525VKgJfSiqgUbV/s1ySh4BCT6UumBGUhU+l9wSTNoOAjIXgkJLAmsWhSjBB78esoqUVtnfHidkaRG0al5f5pQ92lYvFsXvPe3iy1dEkCkEoFVVSMSUDnYJDqiJfHmt0N2BwrbG5oOsu8y5DckpcQy5JsMEAXQ7wqKUbbRJNTB6FyARVaQgioEDDeI8ui6Zrz6jJOuhjnuDYwDZrv7HdorYlieHDkkSatp6mvXqWvTqUCTudSQShUwBz0LBWHnj+A7NZj2Xory3d/BKeHsLDg8lTskjyBBesMOU8dLmJBWifduoOzObGuMIsp4FJMZkg2sNlVYnaVj4rzRJUoewlmt1PV1ksPSvXMmkjfGuTSzbjUdBESY2UZUz1hKH0+G4SQ8lgNdM5TaMP+1HF6/zZXy02Ur0EWqehma9guYScxtR+HgwkC4RQmd5IZqQspLvQBcQF82l/VuFQ/EgMuuXpFp+hCxpMsFp4Yy37lt18jzzM2N0f85O/5AlvbY5rasbExJNOWzCSgJreQWyhyRZEl1sQgV4xKw8bIsr1VMrqyjRruoMSxYfZp25pFrakaRWt7NrvuXYZUJCAY1ff5Kkn6NAJJtkbWVqVeJjsn047SCou9E0IXsFbRNUIrntMWLu9mxLMjBlaxMxqRqY76pMKoxKK+kVdc2ul4YQPu+EDW0/wuZzPqkeG1uuJ0/zbDRc7kZE7rklUgQFAKGVgub0RcFRgNC27sWN47Xu8hn/lk66ejworFRIOOhiwarGRorzEu2aMOhwOsypAQyYJiEBWVE2atZrJQzBaaS5tXOXxQc3pcMmsjToSm89QusKgdPmhcEBoHLii8GAIaJ54gmqg0noCPIVmUrTFGeWq7sr29otGGS7vbyY46Rvb27hNdxc5wi6atyaxFiSIzWVrArMUaqOoWUNRNg8qylaheV09RsWB7ayv1A2eGxcEJ2WBAZkiLnPd4FxCJlHliQjRaKPP1JqqDaUumFHnvIGFUSrmsSb27EoVZJ3iVaG5WFAMU14aGDcnRl38crb8PuI4UD5BiH+EY2CcBM12a/LsAXYQGpIuriUtCJHrBRaH1CThrnaduOvaPJrz4Y2schDy8WCyfIk+qvCQGBxxNKlyraUMq1okCh+LEGb52nM7xK/OKV+Qr6Os32f9tx5v7Q1492ea+K9hb5OzswdnxCY0k288AdFHzrfuaXKcF9VnHc9d3uXvnHnfefJWb16/whtaEcK6L9PWv/DZnh/sMi4yf+MHPc3l7m62NDW5evYRRitlsCsEzO77PwdFxUqyvTymyTTofmZ4e8PlPv4KiIygh3ywZ5paubfiv/upf5U/9yT/OdL7g+uaQl175FKI086pmVi3YHKzHyHp7H77+7gG/+K07KZC6sLoK9IC0EFWizKteSf87d2b82v/7PW5e3UDnoAZHDHYs1//A58i2nqf+9hdZNN/h6J0R9ZGiO7EcTwNOZ2ijUNpw1gkz1/PRNAQih/OaB2cNR0eOuvP83j/7zJel33eh9ZGTBSgdOT2ukn3CRb/LLqb2obZO1aBsAu0DGH7hQ0GGAmj2YDaFNutZNP2/oNM/oyA4ord4sQSdE5Swscb+xuUasmyRVtC0wsTDZ64OuDOZ8/V397i1cwkdA1pSO6iODiMeg8eIQ0UHPibCm0/J4fC4otz7a5jP/gbq+Z+GjR8EcxnaU+ToK8g7v0i8d4qvxvjGUldwWiuOKuG0jTQB/ntrHMMH750xziW1IzSe0wK28t5FRQJlG7lSGhadZ+90xtme5lJWMi4Vm7Ww4WFkIy+UkVEWuP6HhLfezZjez7la17w8yJhFxed/KOe1own/6BsnHLQepQUvmjYEtFbc2LY8v50zyDWti9RemM3WW990SG0u0kEUmwonOQxGGWVmGeSGIlTkXUUWIxqN1iVSjFDFsAdoPgVsX8BsR4myrCugRYLj6GTCbDJHYuDNtz7gy197kzfee8Ci8ejgaKoa53pXQ4T5fLE2k2bvoENHR9UFMq0Z2kipUxKplHD/tONSoXmwCNw/XXD7rmH7yoA6E46rwEYGRR64NIQrlwKXf1bz1rua7W95vm/LoIPh+cLwhRc0789rfuH9Kd92STdu4oS5S/PI9Z2c57YM24MsiUYH4XSxXqzUzT268xgfiYsO7wLGpEB8aaaGBvEBaTxaBQojnMwDdjanO31AbgNDd8CsrSijoxxcRTLHSE6gHTPIPVa3uHbK8cEZn9yAYZhAXUDXoTqNaixF6IjOsZs74mJCDN1T97+0umdv9CK1Kpk2ZD2zeJAnZsPOWDPKDdbA4axhI3pMLsymM17Z1eyfOa5sZJxZhYqaayNhe6jYLALbQ+FTL5aMdzPMtU/yhetHXP7ybUSyxHKgr+q7QBcC2mh8iLgLa9STxr/zN7+IoHDOU+YZWgm725tsjUZYWxC6wKhMJhwrtpDSGG2T/k4Utozi+Qx++ERwZHzjvua9aJnnJVJqsIYuRjyQFZatYcHWeMitYY6PQlkUdG1L3dRUdUN1Nufq7gZF9uJax3B2OmM2qXj/3Xt85jPP8RM/8Xk+eP8B29tbXLm8jSmSxXNhhDyDLINy1dqoU8vKyLC9WbB1ZRO9cQmUYVwc4F1LXdcpb8gUnQNvEut7uRxEnYq4svxqEkhgtSS20RpDkTBJAVRWrFrlku5KQItBxOODYDwYFXsbd0FHMCKUBrTr0EFjlYBSdB46EgN+pD3agBfVd3UoYlA4SW1QhuQEavoekNwkVm1Yk7MrEhDRRJJDk/OBznmatuN0csZGbtm6tgExrgAas8xCJYEvEkBUZKnaGiUVlLRI0oJR6ZwuOzqcSkCiSKSJva04qQNECcktKvUGrnUMe3PPRinYDC5tWg4nDhvS9exiJLhADohRoIRJTO5OGyh8qRhaxbVNxfZVg7lZIHlGdqoZFlvoW7fQxRBUiWoTECIh4ruGyjV9UdT38YtP817P5hDfnZtWPPU69B0DD5NQiCIsRFE4QRnLi89/Ft9pdJ/kKy+o0LNrg4Eug8ZAHVObta5hcQKX/wvUC1cQ+wk+BISIgFSoe/8F7B8kxqnPe02aPMVSa4xlh5PumTDLAmL6PnKycLhFRTafQ6hJ7d8BsgDj0Yf360NDQ30Etetjxh4d9DGxaSJ9cU+AVKiLPSnbi2b41IuQPiL49CwpBSazqZvHRb59b8Z//PNf5n/1hw2Xdq5DmAOnqHwC4QFy7WdQ5ReWskqrTabRIke/hDp8EzqbOtKcR3mDql1iRksf33iF8wYXMtpgWLQaFy2vPGHXn3iFJEbatuP4yFEtZigV+eV/+FU2N0fcvHWFH/j+T3Lzxi6ZjmRWyEyyOiv6SXeQKzYGmvFGjh5dR+tPAR1m27OxmDGbaeY51BnkXcQbIRghmj5QkvSVXm1cSQQd06Sh11v0lu0Uu0NL5wN35x4vsHeaBH1PWktUinxrxO6VEfcmZ5ydntH4VKMQgcIIV4aaP3gr5+anbvAP3ggUcUamYXdnTB0qMgnUXY5ThqBybFthQwQ0+aDE4JI3elRsbBZkG+snqF4iJmqUUWmS9EJhTBI79Z5yNCSzFt3bFcaYkHFtDD72k6bWqAgL0VwunkdtLXCnB7SxZdE4uiBUnU+LiE8Wpp0L5HmGtYJzjizLehZepO06nFZJI2eNIaFiVG6TZ2nhsRryK9tsjMdMplNmsxm5ahnnEeU9d+7cxTnPJ25eZzGfMSwLRsP0KDZNw6JuuHJpl83tLbyPuAbOpsdsjyxlkeMlcmkj573bt7l18xqLqiKKsLOzwWy+YDqbs7u9iVGBbrQeA6LzHQFN6C+dIlVAFIqpggzIleCUSkX+qFBRkWthtFFx9cV34OaPo9UVknfYXUQeQNMkGuJCQQWuEuaTjugVTZ0YTD6mRGzaePZOZtzenzGZt7x555gP9ibcO57wwf/w31/jKD583wnQAahz68+26fjsjYIv99e4jqm32olBUHz1cIu3zsb8lHEM3r7Db71+idvzAUedZiqKewcnfPLwTYZMekvU9DnTLvDOcYU2vbD5Wmf+fPzkT/4gL966wte+8nWOpmdJjPxCANxUC37u9/84L33iJq5ryLTi7v0H5NsZozLHuRk3ruzy7p173BhrvvzqW2xQs10+z+nRGduF4uTgLrtbW7x75wFff/VN7t2/xx/5vT/OP/rNr/KX/19/hd//0z/Bj/7sHyCGGtGKcRaYzE8YbK3HQvny3Qnz+YymS+5dq+uwZNP0/ytJgZ1SiiYK9+aO/+ff/Q7bRcaGioxjyzXb8bm//Lu88rzl3n3L147g3VlkhuW0izRo2gheaaIyeAWdJM0BD7gQWXQdxqSquQD/9zWvxTL4OKdmpb/vIhQ64/LV5/BdCja0E5QjtfE4DVVMSvq2gsMvo7Z+CtHjRz6gRR18FaYT6PJE0Y1ZqgCRqkGiWlwD80bhVEY0ntqtB9IsR+pRTuCkD4mBePusYdbVDIrX+KEXXgEMElIffgxJCDkGj8RACI4QUktH5wI+aKyUXM0113/thN3RX2c4/muI1oRGcbYomLUFk+4qU2doo6L2mqkXpl2k6ltL1wFpfuW9VEiIMVLmGcTIIAsoibQuEERRZHkCHQX+2hszXttzXMoUmxYuF5pNK1wuAzd3PS8vNnn+5U3eeu8u9Rn82j3DQQ3HTnPioAkK5RP9+azpOOsCRmve2G/xYZJ0VgZZovSvKX68mM9ptcIijHODyTPaWiNGE43ui34CBdhxhikMMZYYNYbhNsl6NPYPjurpaAIyxVcHvPOV1/nVX/waX/7d9zmbpzl8umhpVy27QNdxvPCJmdnfziFGCrve2vBL70xYPr1ZL4iamcT8XNQtG2WGUxbw+Ah/9fUZX7zbMTKKoRIGEtk0cGOoeW7b89lvb3BjR7j7/oIvHmkOW8Wx05w5mAeoBJqY5oZ5EBY+FbW+fa/hq+97cqsZ58n1z625Rv/iq3M2S82sDTQ1bJWaS6PkXpmZpLUREsccZi2HlWPrlqWUCE3F2X7NvApIc0ozbdiSBcNLLyOb18j0L6PrnLI7pfMWnMcvztCLSJkJcX5GFgMDyZAK8B3SeoIP6K5jJ3v6MYwKndrtbSqclNaQZ4nRvT2ybA6S1smt3TyJ98eIaw1KC1UjzBrPog3slJGB9ty6LlweKz5xyXJlx1CONHqYw3gTNb4KN/4gG7sn7Ix/BduzeDrn8SEtdsbYtHYHv7YmzfUXP0PTtvgQkp5ODHitmYrFqhJvPKfzliCppWhgNAOjKUwkM4ZCCRIgF8V+XbDfaR7onOMozNqGIrNUixnlYEie5WiWCXhI56ywGB0Z2IzCRopcMxw9z63nrjOv13MjZen2BnRNAxL45jfe5Ox0zsbmiC98/mV+709/X2Lnm0huhNwKZZ50dYZ5ak3ZGFv0aBdtPw8Y2LCMqzmj2ZzBQlFZyG2kc6m9KOhI7P+Jir0gsvS06+QWa9V6c5JWvVQPglYBq5MeSxJojmR4rESsmOSsJhYrihxhqIQcTyZQ6KS/aFTSv2hRODRe9c5XNrmvRhRRJGl/qvS96v+GGHo2UCqErAvSvPXm6/36nBhli6amcx3oxJS5f3xMbXNkssDoBOwnhlYCN5d6r31ajkS/Yp9KFGL0vc5Hz3oQIfrAMHh2JOJipA2Jpd0JRJI196KqGW9srnUMR7OGs4XmcJLa47SKCbxCoYjoFCIRAiwkAY/Rg4mKkVZcHxvKsUF93yW48TJ6sEmsF1jvoO0SMFyBtImxHrpI7SKVCzQ+gavexyT74ENywvWB4FwSF36GcVGbBpVO2bwWbuwMuLI5ZjGvONmbpHslBkz02NhhYofpWbsqGJTLoTaJoWE06iu/hVr8m+gX/01k9FOgN3tmXYuqv4m6/ZfgvVeh3YC2Q7pI6CK+i3hv1o6V9ApoSsehddIlDAHe2J/z93/ra/x3ftgzLAboWCcQyTagF6hLP4nYK48SivoTE2D+Ghy8C21fzHM9EaOLvTaPRnwyBHBB4YOhi4rGKdpoeHmNc6+NScZYPqCUTno2vc7rSRN446jl9KiiCA26rSj0HJOfoaYnSPl/QX7k/4AqPr0SJEgbroiHfwP16v8PzjqoLHQ21dyjJXpN6Ax1Z5JhUguTVlMHRR0MtVOIyj4+SLN6IjV9IhSp64ZqUbO/f8z0bMa/9C/+OHMRhsOSuup4/uYldsY7lDkMCxiWGjMeoPVNFCm4VtkNivF9RgPNYJFAmi5fPedpko8JoFEmJqq59CK1KqB0AL2uAkR/oAac12SlIZwF2uGQRVOhQ6IEvndnwrXMUTUwdb1AL4meN84Ck+M5t34kYxRPiGeOeePRusBsXWK+F1ksOjq3Sbm5w7zpcE1YuheS60SlJxthbEU3a7jn128rSAJHQp5nKxpvnqcJ1VqN1ZLEu3rp/6IsevoiGGUgBkJU1DEwiIbD9z7g7GjOZNFyPFnQ+KTu37lI3Tp8jNR1S904UA3GGKIsKwVp4QohrIi264xxGbGxYmwHZDZiTGSUKW7duMRkOqXrWo4P9xhnqVXpMy9eJlOa+3v7mBCJi4bTsyMmdc2Na5f5gZdvURYZnWuYdAtCdQKu48GDhk9cvcxwVFJsGPaLxI5QRnHj2iUGA02Gpa0c+3t32NocszFYDzBbLGpUlFQt6R/UJQdHiWBEUSgojaIyKYg4xTOZZuyfKj73YMKVV47Y/tTP8M7bfxsXjtgYDjl54OjmwulJy7ffPeX1O6c8OF3gAtQu4MPSws9Sdy1114tPKY1ohYt+bfeIi+1OF2dMuXAsAWF/4fnyB5429hRBSWFXLoqjoDmpczY7YbQv7GwqvjYpOHE6iaoB09rx1tv3qetuVUlZshZHPeU4Xpzs1sQsS6l5/toGo9/z/dy/+4Bmdsrrb99Z/d51jkGs2dIN2TCJkd745FXuH95jvLtNFhZsmCEb1vHaOx+wnQW+8/bbbA8tX/rq69w/OqH1wnv3Drm0PebGlV3+rX/959jc3CDPFP/g13+H3/zS76AlULcN87rl8qUtRsOCo/178Kf+p089hrfefQdFSqyXC/dy8Ut9sxDTMpuEffuT0wIzNHsncwZakXUNW0b41rFw+R3PwCg+aBRHQTHxLZUoqr4Q40nXxV1gkC5vg9Qy2HthrNkr/hD758L9FKIiA16+PMagmZ9VGAnY4LE+YKKgQw+01AAB3v4a6uo/RG3+HKL6JUmBmvw63HsVFkVil/nQC7AHIOCD4WxRcTiPzDoweYnrafyfXOcgls9CH8ejk4CtE+i6xFj79XdPePv4VT538zoiESMRkUDnhHnrCSFZjvoQiL39qAuBECKFQKYyUtNsYqQVVoPSBFFJN4uQmM0oXN+m4mKqOK4zjmY1yyupVLt6jJbOfFolDbO+gY6FE758VGMVlEpRaEWJMEAYI1z9jWM+OTzmzMG7neIwOiqSfleXFEseun/Scn1+D7c+cFKva0afxmJSkRnIM41yGlxHtIZoNCozGEnFKKcVTe0xWJwVVCaYU4+yHWr4JtgCYQfiHovbf493v/VFvvGlt/j6N+9z76Rl0gS6IKnjLiQxyxAiVe25WgobRlAmta24ZQC35nWYLJqHtbceaQWctQ8zQZogvHHWYJSkRA6S+PyxML4j7L56ws0M5lFxx0fOBOr+GoQ+BT5/hi/02vfXoXGRxsWH9ulp4z/4lf0kPUNytCysZpRpPnUpZ5AbJpVHKeHmpub5rUgjmi++VXP7QUU2sNzccMznnmq/4tqG43NXhVFzjJoDd+/zwTce8NoHnjrboCgVWiKXC02cdVSxo8gNB2cd94JgVMtiYfnOsYKu4u2jmt/7lP1ve1FGEUUuqRhUSCoBdz6waMHHQGE8V8bJoWk0VthMoTEopTHKYo1QZsK4iBQ2Ym1EZ4IqhZMusjj0tKcV2f1/yNnrv8WdQ2FkHQpDjJGmcwSSYGuW56nlI6yX0O2fTHDBU2Q2XeNebD3Pc3IsVV0T2pZMawrVYYsCi04sDAVN8DQqWRH/7l7ED7fYazpak6HyAheFcjBAJDmZWauQriV0ComprUpJREg6UZKbvtW+YFA8gxMM9Pp/kRgdrvN4Hzg9nfHV33mdQWG4vLvBtas7HB5OuX55ix/8wosUWc4gh2GhyEYpV1B9nVyZW2TjO4wHhkEBZZ46QHzoU5ULeQMmFSdT3hBAB8T0LoPrDFnqngo5gZHyDFTHQGkGCoZYcmUYKE2OoxBFGWFghDGBgQ6URrNRGIwBFRM7wgnUKqNC0wa1cvDU6YQl23KtkqsuCSiit3COkiSS3bpdBALOOU5Pj7h85RrFYEBoO4xNguvRFtQ+gm96rSbNbDrhyuUrWJMY7t51zBcVR2dnzOfTlKP1zPbN0ZBxkfPceMSuVRQilDGwozzXtgKHU+GbVWBPFJHkdCUiTE+PuX/33fWuQ3CEaKiDSoFM38qY5HAUmUrmO8tmYk9y/HkgCiWpTfHWPcWLUmHGL6PtZ+nCX0G19zBnGg41slBIq2g7mHaR4yow6yKLLlK51B7uvHA8aziZNNw5nLE/qTma1PyxNVnHF+dhvRSZjkBIz+zX7p2gf+Hn+RM/MyC4Ai0BFTtUb1KgQov2bXLVCzW+XdB2LRIVpR1z+ZsHXL7+59i4uUu2cwVFhsxOCYeHzM9Kum7EvMmY1YrTynOw8Jx1yYb8z/3v1jsGpXujhdizK1XfkheFO6cVf/3rd/n01hVu7VzGhIZCz8mzBWryAcr+J/DZ/zGS3+Qh1Whp0adfhNf+BhzPodXgDOJAgk6NBV7Rek3rNVUXWThFEzQLB7WHyDogDYTOY0qbpFJ6zVu0SuLXVnFv2vIrb7/Hpy9pYtugwpyRdewMhe0HX2X03r9B8X0/i7r+o2CHML+LfPArxHdexc8GuDanrRL2V3eKeRtZtMLCWyatcFbD3AvTNtJERVQGEKI2/NwT9v3JII3qe7B6cdeuqc9vNoF337vPf/aXf55hYTDWcDat+bEfeoX/9f/8X6IwljKLFAWJz8jgfLNqA10Yilz6CoAn04FMB7wOBBPITEg+7DqgdWLQoBNAo1RA1HpUsyDpZjqrPAjUbYZVcDCpiZ6EqAHzLvLmqWM+CyhjyE1yewDYmynyEPiNr8+4tNPx5uGAvdrig/Cl37zNWZeU8U/Par7922/RknGmhUqSdFnqoRVMZ2iUJtSRjZ0hmtlax3A6qeicY2tjSJ5ZstyyswFiA5ATQiQWQq40mTbMpnNiFPIsQxEJrqPMc3Y2S0Y7lyhGu4wliT3tZhnTqqX1HhcTRdf7wLIiqYCu63otmgQEBB9BCUartZO6a2NP3ZyifcdGWdJ1EecCNy8Pee3NBES9+/77vHJ9Ax07VBswWUYuHZ+4cQlCy872LotFxWzR8OC910FpvJdkod3Mee+9e7gQeH77B1m0geNJhXYNN2/scunSiMwIPtY4teD6lmKeaW7fu82lS+uh+gev/S7O+UR7RfVfScGAUiil+4W9B7MkoqJnYDVjA5cGik9t/SpfuPr/4bdud5y00ETNvEu2mC29eZYs6ZBpYRZJ84kYQ5SQfJJUenHVvfQMvdYfNc4hm1R9PGhSZUL3r4FQC7ReYRW0UXj7OMNMhUlUTKJa7f97x4FRUXNtqySSEPeoUpK3XcLBIm332dI5yN0cCZF333ybL371NZrm4epe0zm+9ZUv84ev/wh6tE0kw+aKSzdKvnPnfe7undDODpktGkI7p1lUgGakaqy0PH9pwK9/6wP+l//a7+P7XnkepZN+QZCO/9G//HvIpePvf/Hb/N1f/I2LcjjsbI1xPvDv/ntPP4YQQqqWPabCvZpfe5EzeqAmKEUVhPtnZwkIkRScTDzkSnGnTQ5ciHASEo12dU+RWDNRpXsqgUD91xhXTk0Pff6a46HqEArvhYBl7gJff/U7fObFz2HEk8WOLLRksSWLNdZ3SBWRTsgrT27+IvoH95DdP4xgUce/inr1b8BZQaiEZtpyMu2Y1JouWKqgmDrN/iJy1ESiKLI8o3GRuQ/8i2vt+7IdFiRIan9Syzg+JXdtF7l/Nmdo72JMRm5g0SliNHQ+rujfIaTvQ0zVQum1qqLE1XOlSXoDuZYLQnZqRRU/18tbWpc+ffgn9MUrlfQILj5k0msbdJLa0bsoLEhuCTlwH3jDwUDBIgozoO3vn37mSf8knaNHgYlnvX8A3r03J8sSW8PqXvS+d3yxGsrcMMg0o9IyLnLGRcZG0bFRztkcwKXdku3rR+TPv4eUL3H21b/C137pK3zz7Yp39xv2J55ZG2m80EVJ7QV98g5g+laY57cMkwZq5zmuXUow1zyci4y45Xl+eKgPva6UIkhiyRmgVQotMENxGIT3PRRAhVD1IGvoW2qW12E5L3+c8/7oqHy6dxWkdmMtKALvn7YsCXNGJ4a1JqT3xAQhl7ajEEd0jvsHHTtZx/Sa52fz/5CYab7z247fPrC8NRtzv20484lRsFHO2RooRDyjLPDNe44OyzjXHNc1URmaasYgi/z5p+z/O3cfsLtRcnN3yKA07A4t20PNxjAVHmZ1zShTuJDz7r7j/nENxqTwNCZ9wvsnDUe1wjvPZ69Egms5XXh8VOQ5HM0Cg0wzrxqeGzdcGUfeObYMbEBIjjBJQHV5jfXqWV9n6Ngm7RLnAUXrAoM8w3cNTduBOmciBxGm3jONGqUNynUJUHEdA5NxEA25dLSoBAVHgyG1B+e9dbTNLMpoRCmaLiDKY0huRU3r6Xyk875nEKzPHFgC/loD0dF2KZZWQNc6fumXk1bczvaI08mCrc0h/6d/+7/Prd2CMouUuSSB/F6ZSymFkiHkWcobbCQ3AdvnDt5Eoo3EEJAQVrkCOiI6AV1CQNR6EYdWUKoEnA5wDGLDKMJGDAyjY6QyrBdKiRRBKAwMtWasPNvac6mE4chirxZklzaQ4xlyb0pVR+aSMdaWWhQtoCXZrbuoCKRrEXudIS8xMZhDaiU+qzzdmtehC0kL0GQ5jYv4ztO1NaPRBmWRMxfLt9/7AKNTIGNsRk5gb16hRXBdR+N9f93TPZ2kfwUVPTM3xQJ7x2e8PCp5oTCUFsY7GYNPDrnxfuQ7R8cMbM7UdTQh0vhAVc1ZLKbr3UfBEwlErZMxgupbp3qdSieJfGEEDEKhFN6ktuMYFCFo2q8HfrTa4xN/6HVGL2lOPvgm4W6HnGScHnp8q7h93PCN+3O+dX/O3dOaeRtWHdrLebZqO4IPvfgzaxcW4ZG1sc+ptU2Oo5PGs2gCX719wNE//Ft85vqPYESjYwOxw8WOpqvxriVGhw8dMXqcb3HeEYJDR8XYDtmwNePsfQqtKIwlNwMmzuLEU0WhioYqCFV/LbzAn1vnOkjK+0xm+oQgnZilUYvSiv1Zwy9+5wNe3O6I3kOsGdmW3UHDpXf/EVu/+1VGr/ww9tonUXaILA4J97+N++Bd2qmhbQ11Y6g7xcIpZl1yQ14ExayNTDuhcpG5iz3Bpl9TleKPrXn+Y5fi3Rild6u2SM9Yu1nCe8ctb50c07mOziVjiyLCWJdcLxY8N/6rXNv+zykKhWtz5u0GM1cw8Zqpg6l3NMFTRVi4QOsFh6KLyVUsiiaI4CTi+5j5aYWgJ7c7Lf3LtWIxm2PUIDmQ9MmJEkVdd0QnRHRvBd6R647cGAoTsLb3dX8o7IwoHchNoLCewnhy7ejoMOJoFgt8CGmSTx2VGDwRjxaP4LA824IRjCbvE59c9T2sMU2OIlBYmMyTTbfW9J+q8AhtVBx0lp9/K/L8JdhrpQ+YhL35lBgjNoOTxvHqwYym63AhpAlNgXMeJRCnNbFzOBG66WTt/bfGUBY5gyLHmjQ7LOpAZgXTpX7TwUDIc8Eal6qEMaKoyYxJlNkgGAOnxzO6+gFnk2Me7B0wawJHZ4uVVpNSOtkFxkieWYxJQJ0i0YOb1uN8atNIwM16xzCIM6yKjJWnPjujaSBEza2tAqNSxXJv/4gPPrjDj33uOlbXvPqdd/j8y9fZ3azZGOT4bsFG2fDZ68mRSRTcvjfhvf1Dbn9wQD2b8S//9GfYLeukfxM6ro4zXriREWkStV0C3nZ0bspGrnnl1pi3bu+tdQzt2cmq+p6ID8sENS0eCkXo20iSEPDS6i3JZ+iouSswUI7TWph1JMpeFBpSoSBVz3q1fNLSmEAZiCEmEXeWv+/r42G5ajzrOP+bVM85r5JP2sCVcumllbxpfJ9IKtLEISjeWlh28sAiqpXml1KK26eBoZpx+2BOG1NL4fITpx3JaeHirghrLXrx7IRvvXufX//iN/ih564xLDR/9+vvPLSt33nrA4L/PMM4J7PJ7Qyd8ROf2eWHX9lCGYMyGmtfJPjAP/zS69w7eMA4c/zW63v867//s/yRL1zFx5rGped40ToG2vCnfv/n2SoVf+s3X6d1yfmsc4HTyfpubavr96G5Od1cSi2T6X49VInJ1EZoQkqsMwVtX1GyKKyA8bIyH61Jv3ckTazVfdVvD0mJnTGavqtqvQvwUcfUM/xCSFT31+8f8evf+hqV2yE6D75NgmyhRbqK6BZ07ZyqnlKojhde7fjk1/4zdm785QTenWQcTjaY1p77szl7C7i38Ew7wYnCS+rdd6LpYjpXXhIryD9LwtoHW2qJuUpidC6dC3KbnDxcUKh8yH7tUqAWXX8N4wUHi97NYtmqK0t+0oWP620fFYnlsqo6X/gHrM3geNKQi/PThZ+XX31/P+j+Ke9Qac6SxOLSpDbIgKyYcE+6Rz4uUNC4kAIXldg0nRdi8H2LgLA5KmgLy6LpaIae+UIxyy0jGxlmcHxquXp0yq2mYXr2m7z2pS/x2tsVd/Y6FgtPaAXnI5lOLQazNokqg8L31y4rktirJzLILUMfaX3Erqmd8LTxODBr+VqavhOzRJH0wRSwENV7Sigc59oO8l08p08aP/tTnyPExAq6vDXEmgznHE2TZOXzzCSqf4iczRZsDAq0gsm0YrPQiGu5f3jK8NZNjJ+y58+4845lWERerS0nxRAXDNvjDL1oaTDYzFJriEqzP2/Yn05BaSYmsc/IcrwIZ93TtRNOFhUni5r3D85WbSNaKYrhmKgMwbdcHhheuVmS+4pffV/QNseUGRINIgrvHInZIHzzrsJ1Dm00EgKGVHQhekorHA8128OCSasodNKR8kIqRoj0YOvyuq93zQrlyEcl1hg0MBwUZDYjoOiC6t00VWpPtRkKhTV9q7tKWmbjPOfFMtAG2Noes7+ItFmOM5ZZtSC36VxqndF1kaZtmNWOcdu3ubcVo2FJ8B7nGjJt+haudVkoy2MW5rMFs8kkgdarwImV/XRd9ww0gQxHbhyFycisT5oWD81dAjoVcAsTKIyj0J5WOYw4om8R71DRY1REVCCu/nmM8uuDNCRnp7GG0tfoBhQNobW0c4uxQpEpcpPEgB2CySOFDmzYmlHuKTqFfn4H9YU/jnrz15A7dxlMPGfTnKkz3KuERTQ4DKcOThtPJ4rTVqh97NfltHafNZ6jxnNSedoQ+DNrHMNvfPXr5FZTWsXCC4W1/OALz5FbQ5YVGBc5OjkmBIfvWrTWjIuSyvlzZnUfK0SRXkYmFSAlerquY1Dk7HUL3nKOnMimsWyL50d+LcFrv95pDkWo+jnOuZQkl9l6WijtvALds4hCAuHo50mJEQkhtYVLEoU2SiXX2Ji0YwZW8cta2P0S3PyvXmN3ZPnW3oKJSy38C59ihy7GVXwrfZE03a9LIKC/b89v7Weqi14EaIJf6rl4mhDw/RqzqB3v3L3LyHjyrGSQRWZVxMeCed0Rok//QiBE3+d1Hh/9SkdNkxi7Vily48mNoFQqCgYUXjROUowU4vrFoOWIPq5ckoxOTBpBY5Ti+tBwb9Ly2tEeznucd8To0DFQqMCmnXOl+ICro2RdH2NGFXKqYFl4TRUUlU9xbheFdlVUYWXjnvKTlJ/2XOG1YqXl+Y/hPIPROmIttA2ICty4VHBzd8Bv3pnj2o7WN7S+TTpEMWAFcnLGOqfQYLVBGcEbjyA4cUloG5Vy/HBh/+mnvgv5o6hklvQ0YtxT2p3ShpQID+4dMxpcJVVtzu3EjE6fGoJgrOHo6Iz33r3L5mdvEJ3i9NiRDQbsXpsj0XJ0721UecRGtsCqjlw1FLolVy2Z6shwWBqMgSiqJ/cGtCSAxuBJXKj1QRoFeBcRBaaNVKIYaLPab0GRZTAeCLNaegHp8+DZK4W2cK8xVBPD/sJRuXQxjs46Brmm7qCNHQeLU6rWX6AkJoGjLFO42BFIlEYf3NoPiCiDKMN00aG1Is9yjA2MBqbXtPIo5Wl7fQBrU4UktwnkcsHjWs88dhxrRbgMprRsbObMmjm7lzbxQdD9Yty1La0VYky9qUZD5wKgKYocYw2d8+gY8Wteh7w9gTayPRjglCaWwt5pRDpFnmnqznM2r6CZsOFz7u7N2JaO7XDIlivAQTdz3LhkObl/yM6WZTiwdHnHpz5b8oWrl/lLvzjj6jBya1xzsvB8YhSIyjBoD4gS8QjBB3IJDMaeRR047moGcT0XklQhOwcbZPXApdeln92FnujS29ZFUkLUhMikhZNKsXAJoGnl/EGWJdOh36ZwIbFaTqjLD2UZ6CxXj+8ucL/Y/qIAF4WTLlV0Eo000UuXC0FQ0PUBxNikZC6S2BpawUYR+MqBZaeIq8lV+t2MKrXdfJyULqvn/NZXXudf+Owt/vhPfYaDkym/8K336Px5JfvtwwXfeOcOP/MDz6OCSb0SWYfSmrzQSczMakQCDZ7f/PZ7fPm1fcoi54/+yPP8iX/hFpmacjJvcI3HGAuNoxyWXCmEn/2Bm2yX6dzvbAx5b3/COw9OefPuyXrnOj4JkbrAagFEJeHgZXvdWeiDEJ1mxhSkJ6BmyQjRPTjjVLoHl9azSitUBB8SoLCk3Z7vy/m9te44rxClC2+NpYvQuchvvvUO83iZ3dFlpGsIvsL5Ct81ONfgQ0vb1nSuxX7QsfOGZjuLjLPEnJj7hio6Jl4zDzBzPgWvPbISem2dIL2DBHr1/Xo7n74sgzJkFZOS6/Qsbo9KysGAVivqzhMAx7K9aWkxKqskRHrwTVZArnr4tKqUlK9WF5Wu4VKYL736cUHXx4+PAk9EZOUukoCq5ZlNe6ESLeACQPPh8TBDQB7+bs3LYAhEnwSIY18gSPoDmhA802lFGI+YHp8Q6zkbw5xPPH8TN59i2wnf/32fZnGyz6Ka8dbrb3Hn3pz9iWfRRc4aqENkmCmO60ATFI0TtNGUuUlBvzKczCNjAwsfscZwaTygDYLN1mzxeIbxuOuxYk+pFW7YXw+1CuouztGPjhUQ9yEIZ31204994QUa57m3d8Irz13F++SEOSosmTVopWhaBxJ56/0HPHd1i2GR8979E3bGBU3d8K237vInf/ZHqE4OufPBPcbff52yVDy/UfGFnV2OZy2jUc7EadrOs2iTHslk4fibv3GbG8+9yPxkD2yBzTKa1jHc3ORs+vTK+3CYNK201v2/dCZ9vgEoyrxglLd89e0JnQu0Ysh0ia8aYhAkBkTAmKRzdhYSQJPnORJVah/zPmnFYDhpNIPxFp2KVNVJYmihU9Ct0mKetAHth5hWHzUODu4lPRASQLw1yNEKtkcFGsVYabYGOSWWTCzOC5PGc3lcsl3kjIxQNoFbGrZfusH4quKdr7zDWZ2xEMXcC15bOlJrcifJDTTLLVKXaGsxzhFag3OR6aJKLfAhELp6rWNYDiG58JweT3sGMg8tNUoJwUe00ngf+PLvvMH1bcvIemZ54MB3XH3hJUajS8wn+7hwwqCYolRHpptUDFYdOR0OB65CvEstQkSESJRAEI/pi7txTe6uF6h7HcAHp469M4cxQjLzVoxsWlOHhuRKpyLXS7iWCy8MhWsDYbeEnbtz9D/6i2gXkDZyfwbfnjSctpHbtWKvTcyZM6eYpiopE58KKo0ISmlsf87aKLRB8Gu2trfNnDoEGFhOTs/QWsNLL3Bydsql3U9RUjE7usd8MSUGT57nhPEW0/ks5XVKkecJCAwSsUqR6YALgdwoWheJXc6WCczajkqELDfUjeNbWLYLg7aKcWaT81LnqauGIh8ia7o7Te69l+4lkRRTs1ysPzwurkVLy+uJSi7QEw2zXLE7VewvhFkUWmG1/q3+CUg8LyCuWHHLWKF/rp9lXn1oyLmWi0iKBdue3qy1QmeWB6enjLafZzYTgmuJbkYSY/Z9S3VYMXbDBYAG6eM8lfZPuYjRAZOsjZKmDEknbQVGPWO8tywuLOMkrVOeHiUZpuxuBPYOFpwsHI1z+OB7ZnFqP9QImU5MfKMFpXuufs8eC7JkFQtRVHIRXn4u0PuMLYnOPTN8/WM47wSKeCdkmWDyRE189TTy4vVTntsc8LsPPPO6o/OOECMS07pn0Kl4hEoglQ5oDUolpShRuj/HQhCFlx5M6ue+2Benl/lilI++n5fjKe1OKQUUEU7PFpyczC9UXc8P2oVlAqZ4cDDj3/sLf58f/b6b6YIo4blPXud//397nsXpFn/h//i/YO9oyg//5Cv86Z/7EVSs0bFO1C7forzH1RWvv33EFz57LdlY+YCEtEBG7xMFbs0e32XAoxMsjIgi01C1gRhTguMCtB5O5ok9E2PvKNUnAqjAtNPEYNBBCAZsryy/UAmBNUZRN4GDSexb3dK2EHrldkl9skajojAiMl0TitUIeEduLEqbVGVRiraLvc1khosaEY1vPD50yZVqOAAiEjx5lpHpyPHkGP/2Ph6o2i7diEHQVqMRWu9pmy5dZ5P4EtoYEMiNJs9NYvP0FH9ZExw4ubPHVmlQ0RB9UvD//oFiv4WbI8u7XWBeO969/YAfGc749FC4ccWwwRTVFkQDbAjiLXOnOb7dMMs1b98Rtjc1XoQfvRz5G7/wbW5d3eSnXsrZHllcsMwOK8Yjk6oevStS3Qa6WYs0kS3WD8TPxVJT0htDn0DLw+9heR+JApMWmNoLc604rVPLkMkNNiQnAOdcamlaPrzLbXHxgTuvRgmsepVVeMac7jF5VbzwKyFR87IeSPEkUWS58LfLRc0omLok4rXEjyKJBjkqhEXUvXXk8twkpsJDu/sM+/7+vT186/ixayOG1YzL0jAw+iGQpvWR//SXXucnP7VBtlGmvo5oQJKQJiaD3OCD4/DglC98fpe37p3xP/u5z/CJ7QHffOc9xEWOpx03d8aUmeHy5gDvHBLgaglXhorvPJjxY5/c5ZPXR/zwJy8xrZ7uQLLeAZ///hywO2fWGK1oJAGomsTo6/qbIjFmZGWhuQQLpE+4k5bReZBAXC5yy3/PNi5q6vguolSkCmkhPZtWTKe3KfUUIx3OKe6f1jjX4kNHCGmu8t4RQuAOkUxBaQJDG5PQm9LUMbXnNCH0YtOqZ3Tph7Q54iMMhafvfLodoO8P78+8UXBlbAgBtoYZ0xjpwvnxBuQcGOoX2sgFfSGSK+FyYV4Cuku22vJzVH/eLkJkF+Cb7/lYAUGPbDz2ryWw6KGJ7MKeyYfW/sd8wmrj67Z3AFTTGVUbsXmedFCGOcakQMfmBSKa6ayjHG9hNjZQoeXgwR5GKUzneOf2Ad3ijPitt6majtanwKgN/b2hNcdVqnYVOtHhSxMwShENzOrAPAjFQNF0nkFuMUqTG8Vkse4zvf54lNm0HKtr01cqV0nJxfc85gJe3N7jzvu616JzgffunrCoGwaZYmtnRGENlzcK8iy5FDVth1GadnrKT3zmKsF1HB4dcG2sufL8NrE55OVbig98xc1LDeXnPkk5vsqN8BuMtgzlgeMTN3Jqr/F1YOosm6MSBdx/sMff/9o+m8OSykXquiZEQVvLYPR0eUtrs77FZvkkJV0h1wfNRZnAj6ZpkwC2Bt81SXjUdauY0pGAGolCZiwRS2ZCEtQPPgFANmM8ytiwntOu5bgteiBNVhp+1tpz0HPNa+B8MrZYFj8Ppqmd7HjRpaKoSg48xiSuWwiepmnZHo/ITSqoPV8Ir6JoXrufBGOjYtIFvLE0ncNm5hxw9oE8y+lcKhpmedEnHSoBMzGx2pzzDwn0P3HoflIVqCvH/b2zD1e75Zz5aKzG+cDf/Hu/yxvfuUteGK7tDKnbhn/3L17C7474z/8f/zbvvvMBl567xL/1p38fOtYYSXmDluSsZqXl8OCMq5dHfXyadCxV9EkTJnrUmnlDBOoAjU+giNADbn2ThbfpWaxNEgfWPTu/cYkhfa+CywUMTwWHo9Qp2Tr1itsVnHWKE6eogsJYC8oT6F36YkyJfOiTVJ1izAQCytoW3MYlJ8tGLKXu2NoYs7u7y+XdK2htiK5FhZrNYdkn3IbCGC5vbzMeFnRdTV3VuBAps6RVFEUxzgtGZcZQLN45cunINGibg9VYbagHCq+FxsNkWtNEWLQN80VgPMoot57qx5Ouw8XWrkfmuUfnu8e1mEaSQ2YbhblL2jVViHSS2mXCEta+kCt/6OvqP/rq68UXnn1cbHMXSS2kSikGwxHD7Ws4rThzQhdTg3GMPok29wCNxJDaqHsWKCvGnqBV0uJJP/XuUCzlGFQfg6Sg5GKesc5YAjPL/Y5L7TwRola8N3UIp1zJM+45WHR+BSYt91MrUKEvBqkUxS2lItLQ57mMLDtaVoqJLNGZiyDaOkP3c9KyFZ0+NvYxSXGL1xzU8Bvvzfj0qKJ1A+bO4XudwRjTedWk3B5IatU6CYtrtVRFkuSAqATdx+OuB5XSyTYoUfTqSemonnIITwRp1IXJtuscBweT1e+W7IEo6UOM1f2NLiyqji997Ta5VYwGhvt7J/xv/8yfZaMcsP9gn5N5R/Hqu/ydwqDFcXBac/PaJoenNdZovviV9/n2W0coIs/d2GBWdUnNXqveXSMQ1uzLXF7DGNNNIVFwUWOM9ELFanW+2w5ikHP1bQQk0cQWvYL8vImJMhbSwu9iwHeQW8V4I7C1rRnPNYuFwsf+IVRJqT22Qibps7oqIW3rjMOTGQrpRehSMJ1bgzaG4XAA0TEsC4zRlEUOOIZ5jqWFGBiWOaOh4up2ybUrltPKMp1MsXaD1mtOzloqB3XbJetI72k7R+fi6mZO51Cou8TM6TrfV+TXOgTu355wrBTTccZmaagQpjZZfW8YtQrvD89qrrvAoMsIi8QwKUNFVoDkwuATGeMfVXzj79fcfVe4vDnkM9sOq3N+aEv4I88Z/ua3T/mPfsHhSRoQmVZsjHJK5fmxm4atQmhj5KyKTFrP3dP1go+Li0M6IWniUkalliOlVq5k55Z7iZEUFHQClYMzlWiWXZf2sZEkUrq87xJYcw7GiMh5D2w/qy6nNNFq9Sx+rNGf+Eyn4GC5pbJIzhjSJoHoSBKiXqbyURJ4U4vi87cu0d6fMG+SFKpWistXrzG9d9K3EDx0Fmn9I5X55fy7xvh7X32XP/iF63zquQ1yCzuF5dZOyWTv4Xaj370z5a3be/zgp3bQGFAmgTNiQWdgcrKh5oVP7/D8S5v8d3/mBkMRTBug0bRzx8FhwKqOzUGBc3NCEuZAeXhpO2M2z3j9vUNeur7BQGnO1p6TzhPZjwo4Hh79otvfD21IwXpc/U26ZjGeZ9FqObeIWiXhq+30nx2ioE3/y4sr48cYD4E1KlG1gwhv3b/NtG0JUeNcciuJIfVR+3DujHS+iAtzH8m8kOl+/lGpwuLjOeNgCTwtF29ZAVLr11WW3UZLoGS53VGeFm9blJx6QVRc5VgikvabJOKY2G8X9+l8D86/9pUTUtCx/D7tBP2RcOFd31uQ5qEK44X9etyQC0y9JSjzaNtU+t2H7+HlJywZheuOja0tNnXSBEltKgCR2XSOioHR5jbaZNjc0lQV9bxl2J2glOXS9pAH+/tUbWR6tmBcaCoHxgiHi0DjhcZHvCQTgC4KhY4MrKLMhdMmiQg7F5lqRYyBeRNRytC4QOufVTXro8dHsY4+4t0PBaJPmiOenqysN27uFPzt3zzmO7cP+M4Hp/zRn/ocL1wZMsyWTZXCxiDj7GxOaYVRLtSiU7U35mR4urajmpywf3BGNW3xqsCpDN95FtMJb9+bsjnw6GLA2ekpqhwhPrA9tvxP/tBNfvyzl/kP/+s3WHSQ58kitQuezDy9kKJVcq3RfdV42U7o+pki+sDMR2xWsJkrFp1DfJuSF5Xi3WXlPDMGdEQTMdHh24assIzKIukl6UhVN9y4ZTmtPPsLDdpAFMpBgXMObZKQ8EM0uaeMunXJHEIbgqhV21ZwDmsMEiNOBBMSU8goxXA0wBMRUdiQqrrvVwoXEnulE6GJEW2Trkzo2sSQ1anC3rquT6aEzjlC6JmaIRBFyDLDqt3oGYbSGvGB4+NFr/eVJtvzdj+wy9hPktPg6+8ekFvF+6Vme5Tz5//s/5WrVy4xOT7h6GTB3mTGa2+8yN17h5RlgTYwX7S0zvP+7Qn/9S++yc/9oVfY3Sp657bkzuN9+rqugHOaq8FJyhMSq3w556XCmCJpXjYqYpTQBMWsUxxlsFkoxrVQmBTXZSqJcbcR9hvh1Al1UMxDJIvpmvu4NFhIn7lkIBMhKlm10K07I+3t3yZGxdXLlzk82mc6G+O9YzwcUGSGLLecTQ5pOg+iyAvL1mjMop4nYeHYs9KUolaKUWlYtJFBZlDO4KOh6mDaLdgaFzRNgxgLBKouQhQ0mqmLVB4616FtjtWapl3TKeziNXlkHXoS+HxRKy9GaE3SWDM+xeEbGwOmVUcM8gho8hSGjDwmD3iGcRHogMQ63xoohjYjGw05oyfqiEeRTAoiCaRJAEMP1KzirfOiVEoPHt4nufCNIhEH1IXcYt3AeykUrGDFFgZwbWpJ1CqiNRxWmtmio24Tg769YI6BSljB6hOXYJdaRnPA0n1tFW9djFfUKk69GFk9y/5rbXqzh/RctnWan7WOGKs5ayyvLoSqWSAoWukBpv5jtAhKzvNViWoFOCnd709kxUpesoDO87PzSFOW5+Qph/BEkCZ6z5Kc08XA3v7s/AHhPDlczt8iSaNEKQUhoXqdj0zmHe+8dZ9yWBBCZFF7vv7tfX739QmIcHfvlK3NIbN5x81rG+wf1Ryc1fz1n3+dl57b5OC4AqX5mR+/zuXtgvAMk+1KZC+k6kRZarpOELXCFNP7IqicJe2lf1DOA3ePRquAUxqlwUpyB9ve1nTeMWsMW9uBa1daTmY5TW1WlD6jYVgKpQbnhKmHRRDimgyOaLNkF4Zma2OAi7LqWfa9Lkw9r/sHZ5ECG5eElWMIGITxuGSQFxQmkNmM1jkaJ4jJMPmAedVgTAIZ2q4FIm3boo3F2oLRsACV2sa6ztG1FUVu6dasrnz5QWQzM5gjz+5AsKKJBu7WjlulJetBjHdnkf/yNc8nR4ax7hjoyFah2R1qLm/C9Uoon7/MD//pq9Rf/AD9fkN1HDmdR6ZTx95CeE6gyqHMA5MO3ppF7k9rJi7wm+8JVweKG8PIOEsg0ZmTpx8AH70onOs0fbiKfxGND6Joo1B5qIPQSFqIl+0Eqv8DxVJU9Hyh0b1uj1KAaFCR6FO1VT0TjeaxR3ABqe5fCYGySPdcqkikiVnTK+n3E3YUyKl7cnF6oowWZouKaZssNS8KBCu42LF1cRfWGk0X+MLNHara402isv7gJ7Z57RGQpnbC//m/eZvPXi34H/z0Vb7vlW1UtKBzyAoYRiiKJHxWezY2BeYtSAviKEzkuV2QzuM6h+8UsYO208xbRd3Azc0x759WfPnNI0QZgjxba8THEeuV/p6JKqIiDDNNJwlwWeJ4SunziWv15VENnF4zJZ7/zCMBxLMM1YsPipwv4mWZMywKTLHJvPK4sCAGhwSfwJkYVu5IQkQJaEmVhzYGjO4rQ+oCRZdEgz0/rvNj/Di7vsIT+nvSasgzRVkYaqVxMbWQLtlHSZOj32dJ68bFBObiHPAQkHEhJHoIJJHl73n0N9+zcTGJf9K9dg72LoPgDwMAy/Eoe+O7Ea7tfESrJJWZGATJu6MsSggtznVYa5kvOjQRbS1nVYmvpuyfzahbh3MBiZFBrun6Sl0XFXUXCZK2G6LgnGej1GwMLJ1PjFoh3b/HTRJGDD5yVrUPHef3Yqx7jpZV+/6HVdVzqX326E3y3Qh/XxxvvnuHe2ctYix3zzr+07/3dX7gRsbv/fw1ylwRnMdq4ei0QSHMFwsWTvHt989444MzfuSV61iTEVRGORrQ1g1u0aDiIdXxCS63DMycpnVMFy1HZy3PXRIW04Z7DwInlUbyEX/mj36SX331hNcPoJMBk7NjXNs8/byJoGLSCDkvN8Dyfp7NWy4V6fvN8YgNrfH9vNm6QNs0IAnIGBT5yrXNB49oBT4wsJqhhZcvpWf2vSNHkcEoE5o2yar6HtiLy7ZSY8mKwYd3+DEjuXXqJMrcA03nzNzUGhRir8ygk0m0cw5QGBXQVqO856xZAsIaMYYg4LoObRJDUFSaywRBq8TO9sTk2rlMaIxJLBqfCqPrhhmxa/tTnm7Wk7NqVbBSSpOcKM+LuiLJZQ0FTqWW3CwIVRu4e/eExXRBRDGpOo5mLf/OX/glZvOGk0nN7s6Y2aLl2qUhKM3+YcVf+f9+ixdujVEqCXa+9NyYW9fG6VquCbomAAacKFTPyFOh1xFjOVdC1rNcrFJ0MelmVFFx4lLhayNLlfdMQ64FJzBxMHOKOiZGh9HJbKIwihgiEiGoXueMlGsFSeteqv6vx3+I3jEY5FgdsQQKHTk82OdIHfGJG7dQKNo2sqg7tsYWgkp6a8Hh2hTsbW0YooMys1R1S9t58Dm7gyFNV4EUKN3i2ojDozC0nUNpEC9Yq6maSNXrsMQQ8b6gWFOTZnU91pyHHy0eJIw0uWg1OjFLWoFq2pCeqRTDPgn8fnT9vKhB+WzHAI9O4EZDaaA1A+ZYvHjU0qpDAhJbgqTnFOkZNBdjjX5rq7asC4CNfMR5Ow93HheIf/S+K5PcL0WEGFKcF0JidkUFro2ceIcV4cZ4wFHjkXAx7nw4vjkHl5Z7c2F/5GLJahk/yWNwmfX2P7WSQV5qglf4VvAuWXovHeRdK9zznth6tsqc0C4L7RfiIfXI8ch5sW85MywxkXOkRK/2Xy1htIvH8JR7+ymaNL0zhYLBoEy6Hi6sFg9jkquTWp4EpShyy8ZGybCwDHLNqMzZ3iwZl5aTwwM+8eINDicVszqyaBx167l6/RpBYGgDR/NAFzVFnhFiYO+4xYdU4frGd04ZDUzvc/4sRC0SsGKWSGkkt+AdGNML5q6oCf1kuDqtAsbSuSQiWBaBxikalxJVvIeoyLXiyjhyfUP4TtToHm2LgPOKzmlsFpk2ioFNydG6wlNJhdrQtB17Bwu0UoxHIwZFRlHYhFgrxWhQrmy6uxCJJKG/xJxNSUUtilkrKFOQjws67wlolM2TsrzR2OEYYywxawkx0MVIvYhonSi2yuY0LZzNWqpqvT7l+6HgUFu01tgm3TNd15HbgoXLEBMRl1wUfuEg8IkykCvNGEUukaE4dk3k1tdrPvtrjldeKvj6t+a8cwpHHUyDYhGEShQNSTW/Q9GRwJ9OBNNbqr4/Dbw3WVY5FG5dOtAjY0U7XQK8D03257OJ9Amm7yt6VYh0UeH7pzvEc1w4Pdzpb5eTrJCq+bJ8GGPoQejzlpXvdix7WaWnSjqBk+oxiXB/LLq3/DRK+NadirlTvc6M4By8cX/BwmsW4ZFtqCS2t9KkuXi61hjjImdeCb4LWJ2CpFtbYzKjPmRN+fX7NV+/X/O1OxX//p98ieevFpRjwWxl4Eao8jLYbQgT6CpoGqTuSChaxNeCa+D2kWbSGB7MFQ/mmtMWThvBWsXlUUHTau5PPfuz9bSNnjQex1p4/PtIQW2kF5PkAsjS3xBLAOBJibksC71yASn8GPv9CIVXKxgOt2C8zaSLdMTUnxsccWVXHVbuSMtbewVqiuBjqvssA+O4/L2cgx79YX7ssVxcY7+oxggGxe7Q8NZpclMJfftECkoetk0///ekc3z+fH9UMPjwPn3vgIGP+ozHv4mHrv9Hs7sefuN3AwxAaj8xWqiqFq0UuU0sgeb0gO3S0xVXiLnFdS1FnmPwNK7jdN6hoqe0qRjU+uT+0N/4QLKrdSG1BedGsTPOGWSKaas4nKW2XquWPfD98UqqemulKPNnSya+J+MihvfouX3S777LcVQrhsbT0XFlo+RzL1/nh57b5FO3tkEiwTk2BpZZ5XhwNGVno2QcFZ0P3NrO+dwLu3z11Ql37+3T1RP2jo+Y731AaDu++nZN62Y8mGnUtyNb5RwXAt/MM+ZxwHFt8aHjg6NDhoOCYrCJHVpELKZarFqYnjRC7M0aYpp/AsKwyBgWINFzWjmsyfu2JiF6vwJZdQwQPUEUZZFT1Q0ohTWa8WiA1oqB8Qx1YHcQOa09R5Vn79Qj2hBE95VUAIXWBpGIkqR1sy76ndvUR7MEgossYylOrozBxaSiIREya2japr9nk55FrjyNGPLcpKKuyGqh9VFo6ibpxhnTtxoZhEjnL2hsxaTZZIxBMDjvQbFy93zasHmeEi6tKMscYzRN3QKp/cxqg7VmNfeqPm/Y2RkzKjMGmabIDfv7R+RFxr/6r/0r1IuaX/vSl5ksPJNFRxMyxAT2zjpC1JzdqVgsGozRtD7w5vtniR0kMJ0u6JoWbda+DH1RrdeF4XzGS6LqnGv1xZ5FoCDrwfYuprjEGMU8poO0Csb9VFL5ZBZRx2SBrHRi2kO/nvfV+mVOmhibCqN16ihYG7AIFCY5sWktjDciznWECAdHB1zZGVPkCh/UOYgdHTEGtjctXRvJUJS5ovKO1nlcF8kznyy6VSSGNrWvFAGaSBci6NRhYItU0N60FulSq7iLQuu6BMA/w1gnLnrSewSh60ltXlQyB+Dhgsqjf3fO2EnvhQsubU9Z85+2j5DmqFEBtjDUyibXLh1TB4sI+I7ouuRW1rtFPgTQXPiXXrt4vKziwYcA/35tPI9I1hshpPad5fK6HMl4Is0ZIYlx8YXrGddLww1X8JX7s8TQf+SjLpatVkQb1RecL+4uD0M7KzMjni1OihHwCtel5zfJhAAq7bv3QltDlis+uav4wRslv3NP8f5Zg/SOh+mi91m9SszF1Z5GDVqn53gJ0KhU4JYVVqGe4YyfjydGIPmwRJGU5ItyuXjEBM4YQ5FnZLnFGo02mswYNscl25tDcqMYFoZhYdjeKLh5ZZPf+wf+N2xsKH7xF36eg5OKvaM5J9OGqvOIpJ7otktVsaZtE9KnErrrQ0pM50GIfXVjnbEK/CXdaOhEnW87eovjpVK1YK3Qtqq/uc9RPVE+0fWjxvbfK9INe3hssDkMh8LRaUYMYGxEjEZWl1aoGyAmByxlVBIpXs9FHGULoii0See/84553VI1aeETgagMMZxR5BmjwvDc7hADxOCJGIwSdkfJwUBlOcZmHM8riqGlMMLeWcd4Y0TTBVqVM3OCyQxGzOohKssc1zWEKIyuXKVtOzq3Xs9+VdeoJlFsL9IVF8CkF/hbnqsmwNuLhlwpchEyYIRQAG9MhW/uL/jUawuOPXwQFQeiaEg2pa06X9j6+nwCOT40oQm1849lv6w7HqpsyvnPagXY0P+cFgBFao/oUEkmJZ5PQEIC7SQu778eqOkfellOEL31YEqo1cNiMh939AvXxfOQ+sXVhbz9YTRFSO16kVRpSgrmy+sqbO8IYSK0/sMTU+iBqHMGwfr7f2ljl289cBRWk+nUs910lsLmuPB4Cu2bxx3/5ZcW/PSLliubgWu7HeVWxU52BXPzs8jsVeKDOfW+J84DQy2oLqm+z2rNfGI5Wgh1p7AORqLQRlEk31wGEW4NM3aLfL2D+Ihx8fw/PXFPP7tHwJHV7z6qsn5xO6rXrzHnP39sKs2FUWSK3WGBHRRUQUClckWUQIgBWX2VVRJxfledj2U1Ivb3CnEJep4D6N8Vi6M/TdooVDivSrkIh3NHqRXTVlanTK3+ow/SYEmPluUOr/b98ft08fWPZOZ9j5PvZxkfZgJ+1L587/bx7PCAcrTBxsYQazXeRfb29snaU27eGlN1HZu6omscrbd0Tc3dvVM6l+jfN7aS9XoXk57Q0mITWAkPRp8q3hVJJ6F1oQ/UFT5EjIIs12wNByyqhtxGikwzqdc3KPhejsed93/c98Wt7YKf/Mw13r6j+eytMVvDlsydoBcVP/zyBr/9xiExaPYOHG++P2d704K23N6fcHiU89rtQ969e8S7d3Pe+eCYu4cL2uptohrxzYOMt25PKAYbNLpD5zlEzdm8RnSH9y2j7S1c0Ngmos6mdF2grWbE4LH26UKjpVWUmcb02ixBFIW12ELR+YxhaZksksbGonFkWTJBqOYzLJHSKuouEEJqvRNbEPIh+2cn+DYB8Lk1fOpKxmCQEbWmjTHp0unUTrdkjISY2C1xyXpZ8xp0zuO6jmFZkBnTs2gNEM7t0bMsxXUhUhRFYhuSko/dUnPqlzOpouvbpDKTWn5tln4TRXDeUbcdeWbJ86yvEqeAIvaW21EgiH9Yi+EpIxuUqYhrDcNBgTaKrF8bM2vI85w8N2TW9oxcYTgouLK7QZlZSqvY2hxw49oON6+M+KP/6p8my0quXP/LvPX+Hh/cO6YNmllVM1801E2HzQtOTyZ4HzCZ7Y/P07YdSmne2j933ltnpBgyafMZdR6jadXPMXI+A8alkUof51kNTjQ6wtKJSClovZCb1OLUBU0TU5u7jim0CySmTRBJYsG9HEPoiyiRkFrR1iwqvvTiS2TWUjeere0rGJNxdHzErU+8gM0yHuzdZzQagsCwMIiyjEYlUgS62nF5a0TrfN+yF9jZzPExMsoNtasYFlBuFBRoZrMFJkssKcmFUml8CNiRJs+Fgc44O+soJCCuo+uevaD1US2dT2t/SiBCCsw98liJhqcyTb+L2Ohi8Unr87UpStIVvLk94BsPFkn+ohdsTsFFovkoWYIy/T6sfn4kd7kYoFwEbC6iIHz844gpYX7ouJabPDehEI7bVGTZny0Y54qTx9TxP+xQ2LerX3iwnl5gXP84kq4MBK9WeRQkmZZE+JAVYP/yjYzTNvCTn9xk8VrL/vxc7Dfttkb1Oj+rfVeyRMRSsZvlZzyKnC2/uZhVPfk4ngjS2DxDoSmKjPG4BBGapsOYRI8sBwV5brE2OSW5pqJrA9aM2N3eYDywaOm4fnWT7/++z/IDP/XH2Hv3t8mLnBAXbG8PwWjKxuNCpPORukl0ubzMErWuP8GQ6Jlt6whKEPVsrQVLupaQ1JitTS5OywKNUhqrSSc2LhkFiZzUdeeJwlllV/epIt2zTaOYVwIh4oJi78TQtKnPOT2IamV3li5ewHtZe9HbHm9CdPhM0RUWQVEWZUL7g6OuG7I8Ty40wLRueOPIE7yna5q+NSqps4/ztD/WaDIlXBpaqhh4YavEi6LtAhIbtoohsW3RNqNxHrSlaxti8Kmv2XUYoxkU2VrHEGN8aDK9OKHGHtVeVjGXyVcnghiDE6FFsDFSoZmTqOlDiRwpzQRhocD1QqIPJ7vLyvc5Te3Rfs7vKvgV0oP5odfOv08gmqzown6JrfTXf4kgp009+sc9BhTPf162Xlz81HXF5B5/DEtwqUe1eyBoWThbTjXn04r04I2gRWGNoOK5SK1RComKzAqZFebd8llN+xjiOWnjWfd60mac7M0xCoZZntTXg6e0BfOP6HMW4Bv3TpKOTAMntXDVacK7dxmdKM6OjpkeReqzyHQiTKaKaaWYd5qFEyrnmXYOL6lK58Tgeq2XpTaPC32V4R/TeBxos2LB9BdndT77C9E/Tg+f59WCfWG7kl54mJ+y/nh07R9YEJUcQ7wL/VoVSDJ40gtqnz93qz7qZZXiAlF0RYJ9pBd5uZ+Pa/NY+3mW/iM5B2IAQky25CEsgZjVka4qnulRTCf/IkDzMN36fI8fPl/fDaL6z94I1SnKCJXWTE5OGGxus6g99dQTZYGomjAMHNeaybzF+UDnk76c0XA8T3adMUpfoRe877XBeoe9EITOJ/cerTVNlxgJRaZxPtKKMLCaHevZ2LC4CKdVwD/NH/OfofH2u/dBCT/6XMZh0/HaBxUOQx7m/Pk/8Qqv7jn+my8f4cRSN46trS2axRkERzEeELqGo705r98rKHRBFSN/59Ujru4qHJrNnSu8fzhBtGe8uYXNS0abGa3zYDXz6Yy66XBRePGFGyDgVASJ+O7pYFluoMht78YhoDSTukE1KRaSGEFnlKVGGZuExkNikWCSW5/SJgmyK0XVLqjns3NtGaDpIq/e7xgUBcZY8mxA41psURK9xwffM3b7FVKWlPj13GyGgwI1KLF6WaEOaGNQWiWXFtIc46MQYv9Zit4OVzHWwpHXBOhFlzMEhQupPWo4GOC8w4fIxnBA5xxd38IZYmRR1RiT3LzaHuSwNlX2VxqVTxkp8dHYzDIYFn11WVauW3lhKXK7aulyXUM1n5Bd3WI0zBmXGVd2h3zqhcu8/OJNNneuUM/PmM1miES2toacThvGowFKaQbDki4ENrZHeB9p2ja1IOU55SAnhEDbeqILKLPeMSyBFYHePKSPS0mt20oEQ1r7DQolyUQyZUIpEV+uX1pIiaBKf+uiwkliK/u+VV4pRSCx+gVN0D1wE1MLnUhvQRwfDzI8bgzy+xhyTJFRDDvapuOXf+09bL7F7vYO43zBzUsZcbMgKs2oHNIEsFJQDQ3GlGyMLVWzoFt4tDbsbm3hfUehMiofsHpAbsDmaZ6tqwVN5RgMCkQM3ltUbskzS5Fr5osGJUKIH1+TZnWN1LlRwJPW1IvOd+ECc2O5zYvb+egPf+bdvfAZ53Ga1g8DNU40d45rdoqcw3kCdlctFivgqP/8i0DN08ZjTsf3mrErcjHegbzQKIG7xy0nmSNIEu/v3/2Rp/BpxarvZXFi1ZrebzLJdiXmY5aneepr9wyv7Gb8g9dOk2DwxXxVSX959Pl14lxqYLntZaH+0T1/uOC9+vMnjicLByu1uqmM0cQQV2JjKMGYpOsiEvFdi3eOk9mUq7sbiAxpnTAuLV0b0BLxzaQX4fKUpUUaT5FZOudR2hJiR5YlZXwXkuNH8CEpJevUD2dNDjFVZZ9pqJToWuuIkuF8JIrG9QJgPkScF0T06gQv/7DzKX2xRuF9mkghtUXF/nfRKQwWK0LTmYcukCwt22Ka3JVouvB0f/TlWEwnaKWwOrIxKPv+XUEj2MGAQZYl4VljsFlOUZbYLKdrO7TaxvaW2c51OBHqGKmaFpvl3D7x1LUj3GvTQkokN8mWcZAbBrllmOf4YNgoM2rXYTKDUoratVT1mnQgeOxE+Kh46qOvuRDQKim0dyi8EhYiTFEMMXgRGgUBvdJNWX7Ww18f3oePMwE8zkVj1Qu6OshlosyFZ/G8FB8RvCwZPv2LS2aALLd98Rg+PIH945i8HjoAWLnoPPoJAis76KVIauuXzgPL/YOmFWJQtCt24nJLqb3sgkP9M423zqo0L6EwxoEEomuIPJnF8vaZ5++8lfp/SxUZmw4b3+DG6G2OW8thQ9KKcqkVLUiiHScbvSQWK6pvTVN6BUitWFoXD/GfwDh/ZvoPXmEtD99rCnUOgjy0AVbvowfmVvfjM4+Lzy5kBrwpOWo60Dbd4sERQ89cU+d79DBgutoaotQKQE9Bjix/86HzcPHrs4z+sEHOgXQFZDrSOE3tL5zX/i8e/pjVpHLxp/OzotIztFYwdBFk4uNdhX9ax844x7kKN2kx+Qbz2ZzgA03reHDiGZZJdPpg6nC+51tLOkdaWxqf2DDBR/yFSUhpjQppfvV9P5smgTQuCqWNeJ9aFTZGBSOryayBkEwKQnCM8vWSun8Wxi+/us/Ny5uEGLBWcTJpUMWQdh74j//RAfvHEybTmhAMRV7SLGryYszRwT3GMRLQbO/ssjEaUk0OMdZy6drzTOYL5vNjBlu7XLmaM1vUOOeo2xTjKaU5OTvjU7du8H3f9zk2d3d4++1v8/7xCdeu36KNmrZePHX/Y4x0LrBoIxI60k1ieta5ApVAAZsblNJJOysml41F69Fakfc6LNZoiAHftY+p4CuqpsVoj9Hp/e2iQ5uMGOJDAHrSB3uSif3DQyt9zjBVicWujcZ1gUjoxbU1A5MsuaVHkaNojNWIhMTUFekZGanFW5ROlr2SNHKsBh8CWa4xttcwFGFQZH3Sosi0xmlF27lUKV+z3Un6yCGGSNd1fRG317BUSUMnyxKQ5ZqarqnxbcvR/j7lJ24QC8vpZMFiUbO7MSIEjzI2tWZJxGi4srvBtOrwwdPMWkIQitxiTEDIkvuVhq7zOCeAwWaKNYk0q6Ra9eSGFPKntdRwXmjTJPcZpRS5pJbrQD839fONlcTk8ApsTKBPEiRObG/db3fJuUqFjLSNsARx0s2XQKP1DgHpckQpSpuRqXQOY/QcHB1wfHLED31yg5Ed0yxqinGJ4CgwKFp2RgbinNAFtHeUNkAWOT2dsz3KCUrIS0PXNJy0NWiwuQHlsSaJTnsfcN4zYoSVnKYK1JUnM57MrFfcffy1UY/9/qPecx6vL+/Bi7H2P5mV9tHwZPmxGQmArbvYL2vnAceyILT62wsAzX+bbNtHh+oZPMEL1kBhoXJJZiPTKs2zSn1kEfOf5HV49HOjJE0dYzSZUYgoTk4d31okFmHldN8FASvD9h7B/VBh/jFjVW5/JEZ8luN9IkgjElE9NqyVom47YhQymyGS3GmMSRP6/PQsATiiuHf/CJRmc5jR1BZjDN95+32+//ccELp6NXl3LuBcy3iYUXeBpgmMSkPwjlGpGQ9HeN/3Dwt4l4SMlWh8eMaL2lMKm5lFq5RALk9iynOSpfaS+XJxaJ1YN51PfWgi59ZlWisap5PuSSssZhHXpfcvq7+mx7V8n5w23QWEdI1xdrJPnmVopTg8CgyHI3Z3L6F9iyhPoTWDTOOURQCrhFwLRaFRIkybhqbtyKwlyzO2ssgiV0zaiBhStaEX+xSlCWh0nnPqA/sLh580xOBAElIeo2eY2WTrbZ7tOjwKxFz8/nFilEk0VFbAgOuBmo7IguRX3ym9UsW/+LB8GKiRx37/ccaTKvdLJfEVogoXUNdUfQnSLxQk1hZyjvCLnP9LC8o/7gl5GVYth+r37+F0cfnTkuuglwGFPHIvK1B9ZS9Gdf4i6d4cZYppt/79f3EEo9HZEEERQovWFqVKVOh4EjencR3vHe1TGINRkRgDi65lt8gobEYV6KnGF/7B6thCTwNfVkQvrpsPf/NPbogsF4yHXn34PWvs2PI++7hI08X7MzNgM0NnSFVg1Vf/3HIOiR96BuWRm+fhc3uxLe7xz9x3+yxrYGugmVSJaRFFUfcVFlhv2+d4rHrs609tbboYeD7T3v/TP1qXtDu2y0he1nzz9hxlbKo+a8208ZxWrCyAY08B11oTolC3YVX1XgZcqATcLEck/U1mU3xhtMWq5J4jKuJ8pCwMXiKVC9Qu2YXma2ih/LMyBi9/P/dOj4mLUzav3MRvNMwO92gWLb/0u/dxTc3Vy5sUuaWq5uimoutaOucoBiXDjQ1C2+AEdDmmbSfcf3CH6JKtdTOZMB6UbI4yDk4XbI4GKFOQZZb5YsrWtVu02YAys6jBJnM55ezBAZdu3FoL4nAhUnU1EiLaZmhjExizRNQTJQ+UXt0PsafLadLvJAZ8FDKt0EpjbbZyU3k0nggxJtZOH6doDRIDWmWrdUN6Rs26+oNR+sQ/hAQ09LoG2iSGzzIeogdBUvHQIMBQRWZuKbCeqvWdnHNWhXPL3ATeJ7aisRlFz9wJvX6E8x6TKUa2Z/HopR7O04eEiKT+KIRUYHXOkecZ3nvKMk+f4TzzeUV0DpsVTKYVl+uGw65hPMjY3R5RtTUHt19jvHudruuAmOzAEawRysIgUjKvOoSID8kxCtJcbrUh5BrVC0KvK7orktqPwkUGpywd+tI1uhjjqf79SvqYR6c2JiUp3iOmPCD07JiAEKLqpXZB0AT6RF3k/HblYvx6vg/rjL3DwDBTDEeKKAUx9FosImgN+XCTs9awaOfs5JFAhlYFuclQytL4BhFDF5LJSNd1mACuFBwR1QVEheTQpVJngLYKuuRKFAQGpebSeIgPHUWeCl3OtWszFD9u8v6R7cY8e9z5OBDh4wILIpBliuTrIlgTmTeW2vVaU/Lwez80VkU1+ntPPfy7D/3wSDzY37bf6yBjqWfpA2RWoQ14nzThFJDZhCE8C+H/H3feswJfeofTGJNepikUixasiQwzICY5Bxcv5JeroLm/Bk84n9/tcTzZ3SkkIbYYY68gnxaqGEKyCAwBpUwfRBu6tqPrPMMy47337nL10iY3rm0RY8dLL90kL4ds7Gxw+coGToSmCxRTzaJxGBUYFEl4J88Ns0Uk10JmFbN50yPwqQ9XaY1zz2bBvTxNdacIQbA6JWLLkxuFFfCzqp0JvR1yH7CbpAZt1PnfVl3qKxUSYng41QyNUHXnN2SQ9L30ldUMwSAsWK9Kd9Sr228MB1zbGhOi5/jsOGnOoPDO9aLGAzZyeOPeHvOq4uUrm/zEp5/ngXecCWhxjIzwyqZlOmu5iyYWiqrTnFUdajDCZAWLqsa1DVobCqMYD0eEEGicx+YZdbVA2YwqRnz3bIymi4HO04Cai2OZ659LsOjUG0y6xrGnoclj/na5ve+WgfJoYvhRvbDSrwRxmTD0e4xA1GnhF1IymBblDx/z4wCmx3/W92YiW6XBfbYTlkqqj9T1LwYPqWKkembQ+TOWazAx6UQ0/uFFJAh0ywX64yxyXcWy3UtrTXQtRinyLKfWhhgfPy8IMHcNQXJCDPgYUiWr8+ReiCQNqSi9tXIfxMoKiIoXAv4LjA718cCmfzLjo0Gr1TtWVaWPdTlW24A+sI1weVzywazFxQ6tdbKlD6ltQfpWp6UQ3mN3d7W9D+/7d+sk9OjHAb29dwoiAkLlexD+4gl5ygla7tGHArfeivHxWdqFBeaf85Fnqfra1TMub2aczFP1vu1iYsGIoE1aY2NfUDBEVAAkiXgv2VBREvtSYOXCZYzC6uSSkltN0zqqLjIuM9qQQJ7RpRLnIl2A2kUmte/FEP/5GKf79zAq6YzVTY21ltoLB/sHKJIltrZXkkUwkc5FWufIM8t0NkebjOnZKUYrRGkKm3M6P6N2mhdeepGtrTHKNdw9OKRazLFEorFsjwqGZY7rFuyfOk6rKbePZjg9wIvGx4zFGnFG8A5jMsTkLNHrpdRmFBKLWSfxV2D1TBuT2nkSiJGADN+zTj5Kw+RihbQwMMxTwh0CbOaauechkHCp9bLOMYhatngKkYj4vlgVhRAcRptUENVp/RXSvDM0kTOfKiRLkXWlksFHpBdg749JaYWKfUtWr4MRo+/n54jq2fwqeAhC1yUdsXWGQL+91HZodOjXbFbxUIzJca0oBkwWNU3jwGe8d/seg9Ly/K1LDIpNXn7pBpdu7DKvI1luuH59C5vNOTmriSgGuUGr1PrVuQR8FJnCR4vzDiUBBTgfk4PVmscArECsZQFjGeMsMb9IYstYkruT6uMbEwUlglcpV5D+WhmdirSiTbJUlrTe0Mcdy9h1yaoxSvU6GRfWWGRtwG86OWV0uYQYyFWHF0EktQ4YA0bNUZSQKU4XFcp0SGwZGMHYnLYNiNJUQZi1EUvKY45mBmVgZBVie70XXaAboW48PkBoHVmeoUUznS8oipLLW5e5f7iPRVOv6Qr73Y4Pxcsf8b51YoqL7/lumB/bY8NkFnEh0gbpAZpnwE0uoiyP/tFHFexWIbc87o3f1VjGj3Ce09lMkRtN1yaw1AUoLbSP0VD/XgFgTxpPihuVogeSheChLBQmQOsNdScUJjLI1Cpv+17sy7OMJzNpILlvxEhVdxidhKGc85gy9ekmEd3IYDRAQoY/PWMymXF5d8xkMueFT+xyaXfM9qWrLCa3yYsxl3Z2uXPvmGFhmWuhdZHpwvUK/kLbtFgVCMHig+f05AzQ5IMB3gW89xwdnq11gLqfOIWeeqjBBdX3frJqRVpWUpALtKx+cg69F7pftkZJWuxy1dtqR02MyRSmNElobGBh0eeLIkKuoOuTcS8QtF77MYkCm4OczUHOoq7Z3NyiblusVYni7T0BODg74XResT9rGGWGEcJv1W9yeaNgc1DgIhydOeKsZH/a8hMvXaJ1jttOoyWifEvjA+JbtAgSAgqhmlZkRUFwHucC3nV0XUeUiNbPpg20HB/FqPmo962GYlVZ96RAQi4Iuz36/se1Nz382vqP3eP29Un7fN6Ocj6vxtBXsFKn4IohcB43yodywceBQ99blFkldhnnk23/hcdN5o9+8qOyiLlNSVMberDnwu+VgnwotHP9scCNsDgmVCdpm3Lu5FKtfv7o4WOkDamatjx/tY80K8E/k1y4ggeVKqnLeyqd94dVms/P0X+LY/X5FwGZZZnlI3bu0Ze/i2NYdVeppYCuYlZ3mKiJXUzC0qp/o7Cqan/kRz5mUnzcXPEkJtv6+95XmCNMFolfbnRvcar0w5VMWYIty+f+I3Z+qTMFfZbTm1or9cj1UAnsk8eAVf+cjUsjzbT2KAsHU8fJvKLx0LiwAk4lKZiunslU8U/nz+hEUzZKevHOpWV6XCXgIURc1GgleFIbLZEU2zSe8cASQ6ALMG8cizYJC2+NPj4t/5+24esKZQ1Gq+SAVJSISS0mQmJG3r2/x9Z4xOevFBzPWu7HDJOXlOUwtYYGz2i0mRhOncMXl7GDjKpz1Hv3qasKbTM+96kXuXeyoK5qXOgQnfHtN95mZ3ebfDCk6RwSHV3d8OD9M9o1LLijLlAk9okiieNKv4Yti52pneihFSkxVGy6R8rcsmiS2GyMHqVY6Uc8NJbzgNYJ5A2ASfdeiEKhE6NC+jaLuKb1s6iki7MSA+7v5aUugtLZ6jUhtfRplQqqmVEsvCKEjs45oncJGMksofMgSY9R0EhMbk7LtTDGpN8Ue0ekIEkLJfbxiA9xbQvudCBp3xJrPoE/iRVvcI4V615pxcbWJovJGVXdsLkx4OxszpVLYyJwfHyEqybMD++ytZHTRc1k2uCj0HYdTRdpupQTIAnR6HxEq8hitmBRdQxGZQJNnLBo1izu0jOeVRKETrGRWokE95Xb5JSlVz8m56d+jQsSiUphetviZaul0qZPNRJo4lnGXklCYfn5CQztt9uHUc8SsU4rxSWfEVrYKgZUrk3yDspQZAaiInaaphaM8WQ6ggEnLdEblBa6TmjakLQ5jGFRO3zTkA0NRnKiD+igENVQKIWTQNv2Yp8+0naRxi3QdY14RSeerlEEWV+Q/aOT6ycUTS7EyQ8XftUzxQ4fVdj9+IVemC7i/7+9M+uRJMmu83fNfImIzKrqlcNukRJFDUVQECVohX60HvkiQA+EpAEkkJJACiOOZiM50z3dXVsusfliZlcP19zDIzKzKqq6eqZnxg9QlZEZHh6+mJtdO3buuRYXK5aaiZEEw+IucJbcRdzgksTYNg7S3ekfbb9ytMG7J2vsayxVr2uVsnQslp7Qp1FV4+Rgi3CIWe+7loOCelpdbaqonpzHmbfioXmTqpGhzll/lFDqWrK3WaRP4FUovJFNv2y8pgQ32YfGpJx9CHl9wqTsZVlSVyVCpGuVptlb+ec+cXl5yRdfPufHf/sFf/zdT+naK66+/BGXTz7l6YuXJLA8WCe0uax310e2u84G+CbivPLFL57x+efP8d7x5P1HbNcd69sd4cyrdXjIstFnlrKOlTo9aGb3vLMyyTpd3RTGc3YKvVrV85TVMW1vEkvvlV0He0lUXijc0CGAZkb9wzJx0wn7KLg4ecBeA0mJSxLPX15x20U+SUJVVzR783j46PElX13d8JOn17YqiHDb9vx121Nd7Xh/UfLHH6/4aFlSkfjBz675q6c7/v7ZDf/y9z/mo0VJrVuKtCN6R7twdH0EURb1gu1+T6TjmSqNL1g+WnG13qAxWnnJM+/DQyqZ+1zbH1aMHKsD0gMd7n196OH9447hbfrbh1Kz7jv2w/ccJmVTim5K0ECW85/s85tGOu3rhkD2eBnnDpSTqymw7qAMPfWlsL+5S+IVdYKtHORRb3CKOoZC+TqPA9t5N7G7pyrccE+iHgYEVK0C0X3tZJCfDCue5x/+u8XRQD4d3PXwp5Ox7F23pqF5TJvpLgjvXVSs24aRgJwcl+Vd3x/8vPq7ztj2jODm6NjzHVSMQ4lpKLCQSQBMvYGCOiME7NnQe77muO+SfGFkGECGMGMIFjKPZt9x1iH/RmLfBtb7npsET687tm0gkct++kG9NrTvgwH9gagxI/yowuWyyMSOVcXRvBS9H+4Nwr41Kb4K9CTquuCidHR94mob2XeJRel5tPLZYPi3A1/9/GcURfb+SAlf1ew3a8q6QBRWl0tUSnb7ls+uWgopqUrHJ7//B/zRP/o9/t9Pf87m+hmF63myWnC19+w3a/o+8tlW+OiR42bbsFjAj37xAlyFOIeva0LoCaHn+YsrynqH+OxlFXqWqyX1WYavMi686fgbh0m1wJh+JKZucOIRKdHoSJaYYtWQCgcto5LmoUlaXdeW/o+QUsSXnm2u4mPzVFOmxDP7uWq5RFPWb6aUFTERSbZoNlTnJUVEQ05/ipQk2pBoWo+qEpKNjeIEjT2aUlaXuZx/r6CBoSserltK5sWWdBjmknmmKCOB8DqMxLOYcqnve+NPEIhQFN58ZlQIXYumQNv2OOd5dLHkJga+fHrNH/3jT4ksKMpL2t2e223LdtfaZzNx1PU9CvTBYoC+7wlJWd/u+Oyzrwgh8uHH7xEirG/2bDevJ/uAscx1k6xqmGApe8P1SnlhS7BrHDCFVtI82RvCJlViJuhCApVEyvqZqVInpDynGBXMAylkX5qG7d8g2Gj6yH6/x4eKsO/ZtoE+WBqnd55na6XtrogaeLIqYOGRyhFSjfgSL0rQ1tJBNbHdRVJIeBHiPlL5HokeH81nrvEOiZaGt6gKUkhsdG+EpVgGg4qNdfEN7Cpep7Kf4qHUpPtevwrveuFkeuxNmzXaMhRLGmINe940P7fijuPq8WUeu+6QMsKYBjIQHOMO0hAm585wLHX97iLCw4KdfX+MQzYB1LU3b1oBObLIOMwthuMd3x0r2zLGUDJum1+88THe34ZUIYRkargoVDU8flKwWSt9Z6rRy0qJcigc9Kbf+bZ4jZJmMPqyTiUEq9ThC0efSRLnhNA27Hdb9ruWFBMXy5LFsuLTTz7i9z59n5v1nqvrln/+r/8Dn//sp/zwp09RUdabHdfrjuvblsILXiJ1JdxuAiEqsevYblqabSChbNYdaZAfvwF7NqTBOMiO6YeBW9U64EFF4OWgshkGdi9Z/ZL36WR4LeA8XhXBmZwwDaWVDxO46TTKVismE8wz0MXIj16uWRTCRVHQbG/xsWDdduy7yI8//wVXg4GvMK5oq0IblZdt5K+fNjT9mt97VPJ025OAn1xt+Grf8agq6ELkclHwZFmwC/DhquJJGXh2dcu6h3XX895qwcfLmtI5PvmwpK4vKM9sgKfky6s6wfsYz+nnbGI43eZ+wuUhBc1hu+HuvHnHPQwGp6v7D5Erh8msjJ2Z6sCgW8f8ULrT6fX42gPISDYMP20VbZw7D21zOuGfbj89KSYG2Pn9IaBwPmLJ6YcPOg99e76B391jPxiH6njr3v56TD+pOplAv/JDOv58t0P5GyIPbDbWZrLhlDt4xe07el856qveDAdSwqwIHNfb/ug6Wrx6uG7wdu34lf3HuLp97lkc54CPBdQEZIyIB3LAFirEDSs8cvdaTeKewz2ZBBiSSaGssBtS50QVdRwdyzuOEb/VeHrTcrXp2XWBNstYU57wEAeT6cMgPqY8odYHiKWoeOTQtlK2+VNlWTouFma4GmPiy6QoZkD6ux8siCHh1bHtEvvOkji7kFg3gWX1dkrRX0c0TUPpvXmwiEelo3Ydn/xOiS+foFJxuzMC4FkoqBYLbje3VC+egka6aMraz7+85r0nl1SXj/ngd77Dfr/n2csbfP2I6y9vuEyeNiZEdrk6kVBWtZVM3u2QDSCOxWLJoqrYbdb04fUr76r2VJpK9RBvDH2Gy2OcyxPjg0+IJwgsK3umXUgsyoKq9DR9eLCfErLaUhPeFxYfA2VV4wUWArdNR0iHMgGvw+76uXkh+axa7+LokehESNkrB7WUfXE2kb8oYBtzWj0HY3vyxD8i9nwkzQS0xbQp/4xDP4T1bQlFY8oeJlbGPr7BoJ00QfKZ4D7ESkOxERS26y1919LsW0KIPLosKOqKTz75mMuLikfvPUFINM2exZOPqZdL9n2k7bbcrPc0faIP0HQ9+zbStp2V3u4j1zc7nj/dkFRZrzv6LhLDmwQdQu0dTQh06qgEShH6lBhtoBU+vCwRcezb3u6zyLhwKJpLdmPXeVDjdJqywsr+5nUa15ItJiaTcbEKUapi6psz21LCs297HhWeNvQ0TbAKeF5JqWO77tgnZVU7+s78mNrNDilBxCPBvGb2XWTdKD6bVieEyjlWlefFuqdQh6vtmVqtKlJ0LFee7bY30s8J3gHiCG06UXS8GtM4++juPDDveP1C6f0Ln9+0mvX+2N78Ts23z2K56WKNjW33HOtAyAzBhtPD7/nfkF0wLAQxKHWmBpLvONX6+BLaL0O6XlVDWXvrT4avncamko9zmJdPCXZO7ufp3PktgtaH55hGVLeNkeSPHhc0u0jXJvYh+46NAd509qjjMd13bvcd5Lnx9qurO6ninBmHOTGD4BgihRTjScUQ8WWJcwV9v6OqSsqyIMSI80K9qGj7xJ9/768o3GMeP6mpK6HJ6TKqUJeOpo9c3zRc32z5/LPnOAfbTUPb9qNsVY+uwnmQw1XEjQ+B5a7avT5cqieVctUcCJTBci0ODV0nuaP5MzG7zaORSoRehgowMqZaJWSUitailE7Zp/OrRqwKW5lZFZ51CGgMXF811KXQo2xz7vNBsmUD+qjMUPPvqMuCzzY9bUhZTgu7ENj2AQVedh3l1vKqn24KvAjP1y1Js7fKy4b3VyUqwtJbWce6PC+IvS+f89yO8fSBEjnu6O77ntNO8ZSwOXz24bzzh87jVcd/+h33q4SGgJIspZ0SN/fv852nOE17B7XjQGC6cDwSNq/axz2H5AS8TB6gSW+kCosysc5pC2+FcZB52x28ate/ZrPjPAAMZI1M/65HG41/GE5xXG2Z4G3O3tqn+YkVXkCFXRfvkFjH1/bu83F0qEefO8Qj42Yi44r5YSQ/npSddez3tOFhgiOYl4nz9h05y+DuYcrpS5kcr46kkUyPc3JPdPxEHud+zZrg18VX1w1dSHTBZODOuXHCMpiwxzj0m3bFnJexXRyMpSWPt9D2Ee8cT1YlGgPrbU9dlbz/3oqLVulc4p98XLOqHc+vG/NeaOwYUFNMffyopizejrb8dcSYsqg2ERTvCFHZN54//cM/4Ad/99TSInyNL0u6kPBljRQ1u164vXqJVEv2YQ37wKMyoAm6rieGSMSxqGsUoSwqM1CNkWbfsN3sKIuCi4sLvDe/w+1ux+2msTT7M49/WKQaSVK1tBvNfOtAuzo1Q9uo5ke0KD1JhbYL2dsol/F+JTIBgSPGQIwR5/yYfu5Lzwerin0X2XbdWfdAYzDDECbp2DkeHSdxWU2myKjQWXp40Vo6TsiTe8GRkpGOiVy4IilIIASLq2O0ymdtH0aVziFNjLGU+JtAY8QVVqU1pcOznGIiushyURNTor64oO97+t4SpkOIbLZb6sLz8YeXOMwbR31J1CVPn6/5/g+/YN/0NH1EsHRGIeFIXL3csN3t2e9a9vuWGBMpmc/PyRD4WlQO/vTjJX9/23C1D9SVpckVjsNEWoSL0nHTKQEli3msHLqSCRUjzgJQY+W6XV7MsEIFOgqK4dC/6dCWU55/YLfB7u1598O5giY2XAqYbKwA+ky2FfQx4VFcME/HfUxooUiCpbMqnJLtISRYWyidZ9f0XHyn4GYbSFEJJOIGVBLbDZSupHuZoFRin+iaxGLladpAaE0dKe7NY+6HVPZvgl+WMv1cpJQLnqBj/yVOoMjsHsCEcDl6FPPkdpw7COOa6CgRyG1oXFY6Sqv6ZgKNaQwzjNkARenwMdHds7g5Hs7INz1wn4bTEo7i2LfB3TmVHmIOhBCUZpOoSqFYera7SCmKDpOlSeQ2ME+qw7xHj+ZONifP9glpaMdDP/vq+/BqJU1KuEpyzrcNfEXh84qg0ncdVBVVXRNCoCwLurbjZdfx6OkNf/Td36XrevZt4h9++gGf/P4fcLtd8/PPn7NalTx/seflbUvbdNxsGta3W66vt7x8sQYdqsYM4Vf+fzJBPweH6cvQ2dlrL2bg6rKyoRArH3Znz3lg9/7QWdrKQ5bFY6lTtVO6bChaSHZ0z8etCvuoltsmNpC63OGeg2Ul7IPgC4dPiTYpXVQKEW6DSbGsbOKQ85q/OzeSwlkA4pzj8UXFTRNH1tKhVrY0Gyw2ne2rWQ9BhWYJpuUoP193lKWjKzxRlebMk3iVMubczx6UK68mSE5/TxMPkul7p+TNm57Dfcd33j6yiZ7LnafAYB48bPNNGQTbgd79U5+N/AZkkffxxkc9b96RHNr4ACewLJQ+ykR1dvjqukoP8Tsz3gJHstZMvAyk8lQfPSUD4IE29ZY3xYxfrR1s25gl+wcS6O53yUhiHF7fD5HD+SmT58zZQkLeyJqlHAjx1+FV46NN/s1vwA8O5Xf2O45K08s/+TkZu2Qgbk4nXscBx28j2j6NvnEWP2aSIFe8W1Se4NKRzDjGRFlY0QLvrJ9xTuiC0vW9FQfwni56YhB6Sipx/OLpLW0U3lt6Qog8awJ99CRVumC+JCEmqsLlVc5vV1D/jSLHXGDeJ2Tfkm1X0NTfYb/7W548uqSLiQ8++g7UK14+e8qLTU/z8hk+tIhGPvydT1islqxvrigLz5P3n4DA82cvubndUpUV4oQ+RHzhKVPk8vIS7xx9iHRdT4j92BYGo9vXH741EJdNQoSD4gFNqFi1S++HEtUWjxXiCDHSRVvVdt7ZdXCvXkhTBv8RPRBAmtAk4Dy7LpAKR+UFqeuzbkHIJck1cURYusygmFLD+r1eoQmJUiOdwFXrSSK0UXHeA85U4whd1xH67pBKPZxA7rzc4JEo2ew2H48bZ4rnq0ZVEylabB1DOJgFK7RNz2Jhxt6Fd5RVacr8rme37/j55y/4Z3/yh7R94stnN1wuLvg/f/E9vv+DHyC5bHMfekC4Wrd0Tc96s6NtWn70wy8AzeTMcYUk0TfrY53AT9eJj5484tnuJW1Ulg7UOQodSgvAF+t2NCzX3JH7fI90sEbACA9EKJxNyb2Ysn9QyCQOacGihyRcEUeVCZ+QJ9znpsaKQOgFT48vTPFvqm179upCTFXmhejMGDX0ibZTqCwmrIb41FnaW8zeRZsbpVDh8WWFusT1jZW89wi3XYdzQhEcF1WBlmqeHkVBt+8o6q+hpD7B17EE+DaNuyLgC9DSHZQyHGKakWPUQxiicsQDHMKok5y4ycyCMQIciJo3yZ/7GhjKcyc1EmpQl+ih48z/JNsgTGLao5M4TDjeBeF2TNRM7CgyUROj0mji4rJkqZI9neSw/Xgz7D/zDVMYDC1OFWAIkrvUgbx+HQn+aiWNc6QQ6ZLiC89g3JNiT1EUlLV1mvvdjmp5wWa9t6BqWdGFyOdfXPPBB4+5uFhQFJGvvvg5680N/+A7n/C//+anXF1tePbili+/vGa97VA1Nv10BXaM44VDutOZmG6tIoSk4+qbMDCZZgb8fD9UdDl8TiVLFbNXAVhAaAM09JkGV5SlJIIKjQqF6GioOjwag7TUwViZ6By82ASqheNFl+iD8l7leLQqCMDSKW1nZnUxmZ+JQw5EDYIXR1IzifNeKP1glGQrlE6AnPuvSc2bR8nSSE/AVpWct4crJQjRGvK+P7e3HVaJh3KVB1+R4cGYShXvkzdOt3tIXXJXLXOXhLlL0LxdR/WQFHNK2jx0nMPD3AW90xDOMUR7p8jEV7rz0L3qM/f/WVXxXqFUVpXi1zC1gVGFm5vy7Pz2Ga/BEY92iK51IAmGAXB8+2Tkm7bLrzFeu6y2DH2ii2kkxh9sr3L8YjTxHf+k40RLJ+d4FJPIpBMVTmTAZ+B153uYfx3zSHJ3nWcaHI2HNEyGhvOZEDdHRPMRW3QIGH5rMBL29qtNGM2HwTkhhMRqWdJnpU1VmtIgRkttUD2MSaKJql7kCxzZ7Hu63kpsN50jRvu8qnLT2Ge3u0QXlT4kQrL22yfl2W1HeZYXym8GvLeqQTHGPJFUXGnGwM+vb2x2mAJluUDSls1XX9Ks97T7YOlIGm1yRs+TBXQ5Ff7Lm2sQU0/HpDRdR1UW1FXJcrmgLEv6EGhCoM99R+E9IqZMSSmaceprMHQTVl46IWRT3TzO+9zA+qgTcs9lwkaovRHNKSq9mqpquXrEbrd+cDZnbdW+79AXS45hbQFvIG/OgYi3VP8UrSqeDEoUzYSQTbKHNOm+73lUODZ9QScV+NLicsXKducOzJU9MbTj+fqizNXUdtYPHXU3mkt1k2OD077pdecg+MJTZJV1UogxUJYlLquk+hDoW6VaLEnpFlWoqpK68mzWW9DAo8sVMSlFdcm//3f/lu//4Af8i3/6Kd/7nz/k/37/52x3LS9ebLIiKB2pn8YjlYmq/GisfD00Bm43SiXCNiqXhZloPyodpSqbPtGr0odctQkxIiOrUFSz8kbtdSTbISgkN6TdSa4rOaRnZm8SbJEjyME8GMjVyc48/pTogqPtFKdm4nu4LErfw+OVp6oKQoKiElKvLLzQxcRq4UnBfH4eXxTcbiPNrmW5KhES9bJmu+9p+gDJxv8uWtWi2nn6PhAKz2rhWG972pQoFw5JgrxBla13nu5/z37fuVL9beAyc3ck153ERTDO6xgjrJPt8+r7qK65owY8xChHYcc3BCOYLeUyaeLxwtNH5aaLpGKI4YycGbJcNGdEHvEfGTK9R3Ly853A5sYppXFxUMRUiEXlIEKreogL84FKEvwdo6C8xyG+mR74yTz2VXitcbCtqgzu+Dmozy0l9AGpSlIfEOdtYEpK23RsNlu6puHD91dsd3uurntePH/Bf/3eX/Df/uKHXDxZsV5v+bufXY9lLlMu0SoDkXbElhybxJ6PwwUYlC+CkRBDPK8YUdNbgY/Rg+Zw7axyhMjUYNW6UefUCJkEexU8hxQWFEpnhmGiUDgd5Yp+TMB7PdqkrLyjTsrFqmCvZn68KoWycyxLz/NtpO3jUSUCC0Sc5ZKK8KjyNDGYtBUBnEkzgaIo2LYBXwjfWRZct4FNG0cn7oFUmQat4Y3pcDvncXVsQsrAMbEybbgPdabnEDSn799Vz5zfph42ndKj9x8ibU4Jm5Al/IM53Dnt4aFr9vUwVZG9ouc7OS8nOq4YHe8NFmXk6qYknjQRVfB+kFD/Fk1Ev0lMms7RxH8ciSfb3fngCd7wlgztcN8YJW3VQJKtAB+omgd3fJDq6tEK0vixe9u3Hp+a5L+YIc7553C63SlfpbmyS5z4WJwOqJOVKJmc0PD6yLx0SsAMt+nk9PSeQf43Hc4JIZMtTkzlMHibppSoKgtTSu+oK5t4lx5CCOxUjIRJStMFnDiqYGW2VRP7LhFjwjtHF8zUEoWuFFxhKQF9inkBxsw7h/5s24S8ovbbgcVyNT5XAmbq6xxVVeFrK+X74vlz3ntyyVoCm5trtOtwaqpeNCF4+q7li686UkoUOYUppkjfW8rZarVkWVc0fc92t6euI74oSWqVKkOMaFWNgb2cmRorZJXtZAITYqQsSnsWs8LBC5SZ5EA8vSp16Wx+hKdTZddFnCbKqsI3/hDrTPtVsZhVdPqMGyEj4kFkTJV/UL5/gr3WqCa8M0LA+kDztBHIyhSPcxXeearlBR8tSqL3LJO3dCbncc6IyMpn8+zFghhXFN7jyxKcVWcNfUez29C1e6q6BoS+a5G+59BJ2X/nRhreewovaEz4wtN30e6t9pRlQd9F6rqkbzt2mx0pWtzatj19qPj8sy/47nc/Zb3dkxSaZsf3vvdX/Nl//u/8m3/1J/yPv/wJXz29IYSUPS+OF+J0+iJPWUaO7MyTWAmUGuibnlKgiWYr8F4BqPLRsuC273lcenZJbWFCTWUSdSBWlBjFFmQlm+ZiXkKojXmiEMUyW1SGTAmbZCg27gwpuZKUKHBu1B1joHAlfRfpo/l6DiNSjFAuBEpIBKIq3Z6sIDTbhj727LeBuvT0MVIUDu885KquVelxquxaKzKS4mCAbNfbOUdVerpkflVtm4il0u6DpUWfgfPV6XfnCQ9tO7yX0vHi8K8WmaRIZI+ZA0VxHDsMmx8iIB3IGZm8NWyWKxEfQd8d0XUOhuyBtkvcqJWsl5gn+NWoJjg65+GPRwt0R2xN/um+vi/kQwRdGrxrkxERVVngifRqKYrjZc4kd1Qja9xoznxM0Igyfu5cggZel+6kyQgUtZKAMYWRGfOFQ2NPaBMpBrYb6zQBCMp20yKPanDCqvT8+G9+zLPPXvKf/stfsmkS/tkN2yaaTDBLMIeTMrnzeAnzSerZHewUUyJGdSJ/lWPlgGCEij24wwTY3kvkMnw6kAyMnZ0qNNFKLdbO9nlRKrvelCpBhdpbSlFUoXZKm0/l3NO5qD0lwgWOp22kDYkni4LrNnFReZrOAtuyKFAmZpjKobS4s7zrmzZNiJYsdxRTdCxKz0XtrTJBVCo1B/2B2hQnuVKVyZK9dxNm91wciJpT3OffMrx+m/So09+/DkFzepzT75iqfKbncbrN6flp7osPm91/PK/yt3ljjIQQk05RQJSySMT4Go+hsf9U7pD0+RgrFwl7T9P5OyRN4ZUPHvdcbX7zDDl/pSsxek8Yfd/hyGvef0vEaM74tmqZqxWIma+JcxYsnyhNGMjsoZOWrAAUIKe6DD7Rh9FaD4c+HeCc/ZOjAOfrQxVs0U/BCc5PCafJ+Yzk6fHIpXK3ht+wCqOT308DJ5FfYVv6JaPwQpuza713o1eGE/u98KamabpA4Z0RMDknoy4LQuzpo3nJOA99sOpNMUT6OOhZEw4jHVTVvFYSxNhnYsiCLDP/hGGqv6xevY71mwQzBi1wztk/sWsYmj27559TLi/Ybdc8e7nm43rJftdYhUcmpa3FPF68r6iqmqLIHi0x8OjikqIwcqDrevvXmzdhVefyrJqsDHQyond4zTnpTuR9ZLNp7+zZc7kcdkyWIucEm0xHIYZk91gjSaEsCrqoVKWgbqhyNJ31HL8cFsHEOZp9zLHK4VlOOi0hcc49cKgK3hcjwRtDsDLhopR1TVWvcN7jXIHznosi8jI6nBdSMIm0iMvpy0PpbgfOUXjwRUFQU0l7v6BermibHSkGUugp6yUxBkAJnXkSakr4sjrrHLp9RwyeovA4LzbpDNbPxaTE/Y5up6hGmn1H6IeqKspm3bBcFSxWj9ntOn76k6/Y3QT+45/9OV++3PLy6n/x1csNXa/52nI3nhtZjSFOe/O+dBeVKimld/R5/+s+8cR7GlX+fhfAi6U/eSGJ+SuRl4GtMpKVLY/YJXAcMjmGhdxh0qZ5Mii5DduvQhSyeTDZzD7/PAMpRXBLeqmpLoXUtCwrU9Q/ufBcXDoaCVSuxqfI5dLzXlXx8/XWlPILx6ouCSHP0QozsU5JWLqS3a6nXEBRCE0XKUsj0XWdEG+pdrFPrNeW9leUUC9rmv3+zcq5c/9E+pw5wX1+Nqeq/V8+YcH43dO/p5iFNAXgGX2JjlbbxOKqkbE4JXBO9jmGEUP8NMZSTPb9zcLIDpt873tbEClKh8tzf1xO0c8cAJnMVJ2e3iTmyqTUYVHv6+M+tdbQl4PQtUrtE5JACjmKP8XyT814XUCjWMriybGNBbXu+e5XHtuvXOI1Y8aMGTNmzJgxY8aMGTNmzJgxgzfWQcyYMWPGjBkzZsyYcvkF7gAAAIJJREFUMWPGjBkzZsx495hJmhkzZsyYMWPGjBkzZsyYMWPGjG8BZpJmxowZM2bMmDFjxowZM2bMmDHjW4CZpJkxY8aMGTNmzJgxY8aMGTNmzPgWYCZpZsyYMWPGjBkzZsyYMWPGjBkzvgWYSZoZM2bMmDFjxowZM2bMmDFjxoxvAf4/q8rOMjgtcm4AAAAASUVORK5CYII=\n",
      "text/plain": [
       "<Figure size 1440x1440 with 23 Axes>"
      ]
     },
     "metadata": {
      "needs_background": "light"
     },
     "output_type": "display_data"
    }
   ],
   "source": [
    "import tensorflow as tf\n",
    "from tensorflow.keras.preprocessing import image\n",
    "import os\n",
    "import functions\n",
    "\n",
    "loaded_model = tf.keras.models.load_model('models/model00_EfficientNetB0.h5')\n",
    "input_shape = (224, 224)\n",
    "img_directory = '/home/charlie/Documents/Uni/Exeter - Data Science/MTHM602_Trends_in_data_science_and_AI/Project/data/Photos-001/'\n",
    "\n",
    "test_preds = functions.TestImages(img_directory, input_shape, loaded_model)\n"
   ]
  },
  {
   "cell_type": "code",
   "execution_count": 166,
   "id": "a8e73947",
   "metadata": {},
   "outputs": [
    {
     "name": "stdout",
     "output_type": "stream",
     "text": [
      "fire\n",
      "fire\n",
      "fire\n",
      "no fire\n",
      "fire\n",
      "fire\n",
      "fire\n",
      "no fire\n",
      "no fire\n",
      "no fire\n",
      "fire\n",
      "no fire\n",
      "fire\n",
      "fire\n",
      "fire\n",
      "fire\n",
      "fire\n",
      "fire\n",
      "fire\n",
      "no fire\n",
      "no fire\n",
      "fire\n",
      "fire\n",
      "fire\n",
      "fire\n",
      "no fire\n",
      "fire\n",
      "fire\n",
      "no fire\n",
      "fire\n",
      "fire\n",
      "fire\n",
      "no fire\n",
      "Incorrectly predicted  23  out of  33 . FPR:  0.7\n"
     ]
    }
   ],
   "source": [
    "count = 0\n",
    "for i in test_preds:\n",
    "    if i>0.5:\n",
    "        print(\"no fire\")\n",
    "    else:\n",
    "        count += 1\n",
    "        print(\"fire\")\n",
    "print('Incorrectly predicted ', count,  ' out of ',len(test_preds), '. FPR: ', round(count/len(test_preds), 2))"
   ]
  },
  {
   "cell_type": "markdown",
   "id": "f9672f5e",
   "metadata": {},
   "source": [
    "## Testing on other dataset"
   ]
  },
  {
   "cell_type": "code",
   "execution_count": 2,
   "id": "14e43a93",
   "metadata": {},
   "outputs": [
    {
     "name": "stdout",
     "output_type": "stream",
     "text": [
      "Found 2367 files belonging to 2 classes.\n",
      "processing class directory  NoFire\n",
      "processing class directory  Fire\n",
      " no improper image files were found\n"
     ]
    }
   ],
   "source": [
    "import tensorflow as tf\n",
    "import functions\n",
<<<<<<< HEAD
    "\n",
    "data_dir = '../../data/Alt_dataset/Training Dataset'\n",
    "loaded_model = tf.keras.models.load_model('models/model00_EfficientNetB0.h5')\n",
    "\n",
    "img_height, img_width, batch_size = [224, 224, 32] \n",
    "\n",
=======
    "\n",
    "data_dir = '../../data/Alt_dataset/Training Dataset'\n",
    "loaded_model = tf.keras.models.load_model('models/model00_EfficientNetB0.h5')\n",
    "\n",
    "img_height, img_width, batch_size = [224, 224, 32] \n",
    "\n",
>>>>>>> 28f2b404cfbf3010b5fa1206a34e87f728822052
    "custom_test_ds = tf.keras.preprocessing.image_dataset_from_directory(\n",
    "    data_dir,\n",
    "    shuffle = True,\n",
    "    seed = 89787,\n",
    "    image_size = (img_height, img_width),\n",
    "    batch_size = batch_size,\n",
    "    labels = 'inferred',\n",
    "    label_mode = 'binary'\n",
    "    )\n",
    "\n",
    "## Check if images are in the right format\n",
    "\n",
    "bad_file_list = functions.CheckImagesReport(data_dir)"
   ]
  },
  {
   "cell_type": "code",
   "execution_count": 3,
   "id": "612806f7",
   "metadata": {},
   "outputs": [],
   "source": [
    "## Delete the incompatible files from the folder\n",
<<<<<<< HEAD
    "if bad_file_list:\n",
    "    functions.DeleteIncompatibleImages(bad_file_list)\n",
    "else:\n",
    "    print(\"No incompatible files\")\n",
    "\n"
=======
    "functions.DeleteIncompatibleImages(bad_file_list)\n"
>>>>>>> 28f2b404cfbf3010b5fa1206a34e87f728822052
   ]
  },
  {
   "cell_type": "code",
   "execution_count": 4,
   "id": "dc93657f",
   "metadata": {},
   "outputs": [
    {
     "data": {
      "image/png": "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\n",
      "text/plain": [
       "<Figure size 576x576 with 2 Axes>"
      ]
     },
     "metadata": {
      "needs_background": "light"
     },
     "output_type": "display_data"
    }
   ],
   "source": [
    "functions.ConfusionMatrix(loaded_model, custom_test_ds)"
   ]
  },
  {
   "cell_type": "code",
   "execution_count": 5,
   "id": "3f8f4c96",
   "metadata": {},
   "outputs": [
    {
     "name": "stderr",
     "output_type": "stream",
     "text": [
      "/home/charlie/miniconda3/lib/python3.9/site-packages/tensorflow/python/util/dispatch.py:1082: UserWarning: \"`binary_crossentropy` received `from_logits=True`, but the `output` argument was produced by a sigmoid or softmax activation and thus does not represent logits. Was this intended?\"\n",
      "  return dispatch_target(*args, **kwargs)\n"
     ]
    },
    {
     "name": "stdout",
     "output_type": "stream",
     "text": [
      "74/74 [==============================] - 62s 809ms/step - loss: 0.6129 - precision: 0.9696 - recall: 0.7304 - auc: 0.9357\n",
      "Test loss : 0.6128894686698914\n",
      "Test precision : 0.9695698022842407\n",
      "Test recall : 0.730434775352478\n",
      "Test auc : 0.9356663823127747\n"
     ]
    }
   ],
   "source": [
    "loss, precision, recall, auc = loaded_model.evaluate(custom_test_ds)\n",
    "print('Test loss :', loss)\n",
    "print('Test precision :', precision)\n",
    "print('Test recall :', recall)\n",
    "print('Test auc :', auc)"
   ]
  },
  {
   "cell_type": "markdown",
   "id": "a5953a9a",
   "metadata": {},
   "source": [
    "# Feature extraction"
   ]
  },
  {
   "cell_type": "code",
   "execution_count": null,
   "id": "ad9aed12",
   "metadata": {},
   "outputs": [],
   "source": []
  }
 ],
 "metadata": {
  "kernelspec": {
   "display_name": "Python 3 (ipykernel)",
   "language": "python",
   "name": "python3"
  },
  "language_info": {
   "codemirror_mode": {
    "name": "ipython",
    "version": 3
   },
   "file_extension": ".py",
   "mimetype": "text/x-python",
   "name": "python",
   "nbconvert_exporter": "python",
   "pygments_lexer": "ipython3",
   "version": "3.9.12"
  }
 },
 "nbformat": 4,
 "nbformat_minor": 5
}
